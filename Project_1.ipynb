{
 "cells": [
  {
   "cell_type": "markdown",
   "metadata": {
    "id": "sIfNaMOxgFyK"
   },
   "source": [
    "## Исследование данных о российском кинопрокате\n",
    "\n"
   ]
  },
  {
   "cell_type": "markdown",
   "metadata": {
    "id": "3bSlkCsbgFyL"
   },
   "source": [
    "### Шаг 1. Откройте файлы с данными и объедините их в один датафрейм. \n"
   ]
  },
  {
   "cell_type": "code",
   "execution_count": 1,
   "metadata": {
    "id": "dw87FlzMgFyM",
    "scrolled": false
   },
   "outputs": [
    {
     "data": {
      "text/html": [
       "<div>\n",
       "<style scoped>\n",
       "    .dataframe tbody tr th:only-of-type {\n",
       "        vertical-align: middle;\n",
       "    }\n",
       "\n",
       "    .dataframe tbody tr th {\n",
       "        vertical-align: top;\n",
       "    }\n",
       "\n",
       "    .dataframe thead th {\n",
       "        text-align: right;\n",
       "    }\n",
       "</style>\n",
       "<table border=\"1\" class=\"dataframe\">\n",
       "  <thead>\n",
       "    <tr style=\"text-align: right;\">\n",
       "      <th></th>\n",
       "      <th>title</th>\n",
       "      <th>puNumber</th>\n",
       "      <th>show_start_date</th>\n",
       "      <th>type</th>\n",
       "      <th>film_studio</th>\n",
       "      <th>production_country</th>\n",
       "      <th>director</th>\n",
       "      <th>producer</th>\n",
       "      <th>age_restriction</th>\n",
       "      <th>refundable_support</th>\n",
       "      <th>nonrefundable_support</th>\n",
       "      <th>budget</th>\n",
       "      <th>financing_source</th>\n",
       "      <th>ratings</th>\n",
       "      <th>genres</th>\n",
       "    </tr>\n",
       "  </thead>\n",
       "  <tbody>\n",
       "    <tr>\n",
       "      <th>0</th>\n",
       "      <td>Открытый простор</td>\n",
       "      <td>221048915</td>\n",
       "      <td>2015-11-27T12:00:00.000Z</td>\n",
       "      <td>Художественный</td>\n",
       "      <td>Тачстоун Пикчерз, Кобальт Пикчерз, Бикон Пикче...</td>\n",
       "      <td>США</td>\n",
       "      <td>Кевин Костнер</td>\n",
       "      <td>Дэвид Валдес, Кевин Костнер, Джейк Эбертс</td>\n",
       "      <td>«18+» - запрещено для детей</td>\n",
       "      <td>NaN</td>\n",
       "      <td>NaN</td>\n",
       "      <td>NaN</td>\n",
       "      <td>NaN</td>\n",
       "      <td>7.2</td>\n",
       "      <td>боевик,драма,мелодрама</td>\n",
       "    </tr>\n",
       "    <tr>\n",
       "      <th>1</th>\n",
       "      <td>Особо важное задание</td>\n",
       "      <td>111013716</td>\n",
       "      <td>2016-09-13T12:00:00.000Z</td>\n",
       "      <td>Художественный</td>\n",
       "      <td>Киностудия \"Мосфильм\"</td>\n",
       "      <td>СССР</td>\n",
       "      <td>Е.Матвеев</td>\n",
       "      <td>NaN</td>\n",
       "      <td>«6+» - для детей старше 6 лет</td>\n",
       "      <td>NaN</td>\n",
       "      <td>NaN</td>\n",
       "      <td>NaN</td>\n",
       "      <td>NaN</td>\n",
       "      <td>6.6</td>\n",
       "      <td>драма,военный</td>\n",
       "    </tr>\n",
       "    <tr>\n",
       "      <th>2</th>\n",
       "      <td>Особо опасен</td>\n",
       "      <td>221038416</td>\n",
       "      <td>2016-10-10T12:00:00.000Z</td>\n",
       "      <td>Художественный</td>\n",
       "      <td>Юниверсал Пикчерз, Кикстарт Продакшнз, Марк Пл...</td>\n",
       "      <td>США</td>\n",
       "      <td>Тимур Бекмамбетов</td>\n",
       "      <td>Джим Лемли, Джейсон Нетер, Марк Е.Платт, Яйн Смит</td>\n",
       "      <td>«18+» - запрещено для детей</td>\n",
       "      <td>NaN</td>\n",
       "      <td>NaN</td>\n",
       "      <td>NaN</td>\n",
       "      <td>NaN</td>\n",
       "      <td>6.8</td>\n",
       "      <td>фантастика,боевик,триллер</td>\n",
       "    </tr>\n",
       "    <tr>\n",
       "      <th>3</th>\n",
       "      <td>Особо опасен</td>\n",
       "      <td>221026916</td>\n",
       "      <td>2016-06-10T12:00:00.000Z</td>\n",
       "      <td>Художественный</td>\n",
       "      <td>Юниверсал Пикчерз, Кикстарт Продакшнз, Марк Пл...</td>\n",
       "      <td>США</td>\n",
       "      <td>Тимур Бекмамбетов</td>\n",
       "      <td>Джим Лемли, Джейсон Нетер, Марк Е.Платт, Яйн Смит</td>\n",
       "      <td>«18+» - запрещено для детей</td>\n",
       "      <td>NaN</td>\n",
       "      <td>NaN</td>\n",
       "      <td>NaN</td>\n",
       "      <td>NaN</td>\n",
       "      <td>6.8</td>\n",
       "      <td>фантастика,боевик,триллер</td>\n",
       "    </tr>\n",
       "    <tr>\n",
       "      <th>4</th>\n",
       "      <td>Особо опасен</td>\n",
       "      <td>221030815</td>\n",
       "      <td>2015-07-29T12:00:00.000Z</td>\n",
       "      <td>Художественный</td>\n",
       "      <td>Юниверсал Пикчерз, Кикстарт Продакшнз, Марк Пл...</td>\n",
       "      <td>США</td>\n",
       "      <td>Тимур Бекмамбетов</td>\n",
       "      <td>Джим Лемли, Джейсон Нетер, Марк Е.Платт, Яйн Смит</td>\n",
       "      <td>«18+» - запрещено для детей</td>\n",
       "      <td>NaN</td>\n",
       "      <td>NaN</td>\n",
       "      <td>NaN</td>\n",
       "      <td>NaN</td>\n",
       "      <td>6.8</td>\n",
       "      <td>фантастика,боевик,триллер</td>\n",
       "    </tr>\n",
       "  </tbody>\n",
       "</table>\n",
       "</div>"
      ],
      "text/plain": [
       "                  title   puNumber           show_start_date            type  \\\n",
       "0      Открытый простор  221048915  2015-11-27T12:00:00.000Z  Художественный   \n",
       "1  Особо важное задание  111013716  2016-09-13T12:00:00.000Z  Художественный   \n",
       "2          Особо опасен  221038416  2016-10-10T12:00:00.000Z  Художественный   \n",
       "3          Особо опасен  221026916  2016-06-10T12:00:00.000Z  Художественный   \n",
       "4          Особо опасен  221030815  2015-07-29T12:00:00.000Z  Художественный   \n",
       "\n",
       "                                         film_studio production_country  \\\n",
       "0  Тачстоун Пикчерз, Кобальт Пикчерз, Бикон Пикче...                США   \n",
       "1                              Киностудия \"Мосфильм\"               СССР   \n",
       "2  Юниверсал Пикчерз, Кикстарт Продакшнз, Марк Пл...                США   \n",
       "3  Юниверсал Пикчерз, Кикстарт Продакшнз, Марк Пл...                США   \n",
       "4  Юниверсал Пикчерз, Кикстарт Продакшнз, Марк Пл...                США   \n",
       "\n",
       "            director                                           producer  \\\n",
       "0      Кевин Костнер          Дэвид Валдес, Кевин Костнер, Джейк Эбертс   \n",
       "1          Е.Матвеев                                                NaN   \n",
       "2  Тимур Бекмамбетов  Джим Лемли, Джейсон Нетер, Марк Е.Платт, Яйн Смит   \n",
       "3  Тимур Бекмамбетов  Джим Лемли, Джейсон Нетер, Марк Е.Платт, Яйн Смит   \n",
       "4  Тимур Бекмамбетов  Джим Лемли, Джейсон Нетер, Марк Е.Платт, Яйн Смит   \n",
       "\n",
       "                 age_restriction  refundable_support  nonrefundable_support  \\\n",
       "0    «18+» - запрещено для детей                 NaN                    NaN   \n",
       "1  «6+» - для детей старше 6 лет                 NaN                    NaN   \n",
       "2    «18+» - запрещено для детей                 NaN                    NaN   \n",
       "3    «18+» - запрещено для детей                 NaN                    NaN   \n",
       "4    «18+» - запрещено для детей                 NaN                    NaN   \n",
       "\n",
       "   budget financing_source ratings                     genres  \n",
       "0     NaN              NaN     7.2     боевик,драма,мелодрама  \n",
       "1     NaN              NaN     6.6              драма,военный  \n",
       "2     NaN              NaN     6.8  фантастика,боевик,триллер  \n",
       "3     NaN              NaN     6.8  фантастика,боевик,триллер  \n",
       "4     NaN              NaN     6.8  фантастика,боевик,триллер  "
      ]
     },
     "metadata": {},
     "output_type": "display_data"
    },
    {
     "data": {
      "text/html": [
       "<div>\n",
       "<style scoped>\n",
       "    .dataframe tbody tr th:only-of-type {\n",
       "        vertical-align: middle;\n",
       "    }\n",
       "\n",
       "    .dataframe tbody tr th {\n",
       "        vertical-align: top;\n",
       "    }\n",
       "\n",
       "    .dataframe thead th {\n",
       "        text-align: right;\n",
       "    }\n",
       "</style>\n",
       "<table border=\"1\" class=\"dataframe\">\n",
       "  <thead>\n",
       "    <tr style=\"text-align: right;\">\n",
       "      <th></th>\n",
       "      <th>puNumber</th>\n",
       "      <th>box_office</th>\n",
       "    </tr>\n",
       "  </thead>\n",
       "  <tbody>\n",
       "    <tr>\n",
       "      <th>0</th>\n",
       "      <td>111000113</td>\n",
       "      <td>2,450.00</td>\n",
       "    </tr>\n",
       "    <tr>\n",
       "      <th>1</th>\n",
       "      <td>111000115</td>\n",
       "      <td>61,040.00</td>\n",
       "    </tr>\n",
       "    <tr>\n",
       "      <th>2</th>\n",
       "      <td>111000116</td>\n",
       "      <td>153,030,013.40</td>\n",
       "    </tr>\n",
       "    <tr>\n",
       "      <th>3</th>\n",
       "      <td>111000117</td>\n",
       "      <td>12,260,956.00</td>\n",
       "    </tr>\n",
       "    <tr>\n",
       "      <th>4</th>\n",
       "      <td>111000118</td>\n",
       "      <td>163,684,057.79</td>\n",
       "    </tr>\n",
       "  </tbody>\n",
       "</table>\n",
       "</div>"
      ],
      "text/plain": [
       "    puNumber     box_office\n",
       "0  111000113       2,450.00\n",
       "1  111000115      61,040.00\n",
       "2  111000116 153,030,013.40\n",
       "3  111000117  12,260,956.00\n",
       "4  111000118 163,684,057.79"
      ]
     },
     "metadata": {},
     "output_type": "display_data"
    }
   ],
   "source": [
    "# Импорт библиотеки pandas.\n",
    "import pandas as pd \n",
    "\n",
    "# Импорт библиотеки matplotlib.\n",
    "import matplotlib.pyplot as plt\n",
    "\n",
    "# Чтение файла с данными и сохранение в df.\n",
    "mkrf_movies = pd.read_csv('/datasets/mkrf_movies.csv') \n",
    "mkrf_shows = pd.read_csv('/datasets/mkrf_shows.csv') \n",
    "\n",
    "# Прописываем настройки чтобы избавиться от лишних запятых при работе метода `describe` и убрать экспонентациальные формы\n",
    "pd.set_option('display.float_format', '{:,.2f}'.format)\n",
    "\n",
    "# Получение первых 5 строк таблицы df.\n",
    "display(mkrf_movies.head())\n",
    "display(mkrf_shows.head())"
   ]
  },
  {
   "cell_type": "code",
   "execution_count": 2,
   "metadata": {
    "scrolled": false
   },
   "outputs": [
    {
     "name": "stdout",
     "output_type": "stream",
     "text": [
      "<class 'pandas.core.frame.DataFrame'>\n",
      "RangeIndex: 7486 entries, 0 to 7485\n",
      "Data columns (total 15 columns):\n",
      "title                    7486 non-null object\n",
      "puNumber                 7486 non-null object\n",
      "show_start_date          7486 non-null object\n",
      "type                     7486 non-null object\n",
      "film_studio              7468 non-null object\n",
      "production_country       7484 non-null object\n",
      "director                 7477 non-null object\n",
      "producer                 6918 non-null object\n",
      "age_restriction          7486 non-null object\n",
      "refundable_support       332 non-null float64\n",
      "nonrefundable_support    332 non-null float64\n",
      "budget                   332 non-null float64\n",
      "financing_source         332 non-null object\n",
      "ratings                  6519 non-null object\n",
      "genres                   6510 non-null object\n",
      "dtypes: float64(3), object(12)\n",
      "memory usage: 877.4+ KB\n"
     ]
    },
    {
     "data": {
      "text/plain": [
       "None"
      ]
     },
     "metadata": {},
     "output_type": "display_data"
    },
    {
     "name": "stdout",
     "output_type": "stream",
     "text": [
      "<class 'pandas.core.frame.DataFrame'>\n",
      "RangeIndex: 3158 entries, 0 to 3157\n",
      "Data columns (total 2 columns):\n",
      "puNumber      3158 non-null int64\n",
      "box_office    3158 non-null float64\n",
      "dtypes: float64(1), int64(1)\n",
      "memory usage: 49.5 KB\n"
     ]
    },
    {
     "data": {
      "text/plain": [
       "None"
      ]
     },
     "metadata": {},
     "output_type": "display_data"
    }
   ],
   "source": [
    "# Получение общей информации о данных в таблице df.\n",
    "display(mkrf_movies.info(10))\n",
    "display(mkrf_shows.info(10))"
   ]
  },
  {
   "cell_type": "markdown",
   "metadata": {},
   "source": [
    "- В таблице mkrf_movies 15 столбцов, тип данных столбцов - float64(3), object(12). Количество значений в столбцах различается, значит в данных есть пропущенные значения;\n",
    "- В таблице mkrf_shows 2 столбца, тип данных столбцов - float64(1), int(1). Количество значений в столбцах равное, значит в данных пропущенных значений нет."
   ]
  },
  {
   "cell_type": "markdown",
   "metadata": {},
   "source": [
    "Таблица mkrf_movies содержит информацию из реестра прокатных удостоверений. У одного фильма может быть несколько прокатных удостоверений. Столбец budget уже включает в себя полный объём государственной поддержки. Данные в этом столбце указаны только для тех фильмов, которые получили государственную поддержку.Согласно документации:\n",
    "- title — название фильма;\n",
    "- puNumber — номер прокатного удостоверения;\n",
    "- show_start_date — дата премьеры фильма;\n",
    "- type — тип фильма;\n",
    "- film_studio — студия-производитель;\n",
    "- production_country — страна-производитель;\n",
    "- director — режиссёр;\n",
    "- producer — продюсер;\n",
    "- age_restriction — возрастная категория;\n",
    "- refundable_support — объём возвратных средств государственной поддержки;\n",
    "- nonrefundable_support — объём невозвратных средств государственной поддержки;\n",
    "- financing_source — источник государственного финансирования;\n",
    "- budget — общий бюджет фильма;\n",
    "- ratings — рейтинг фильма на КиноПоиске;\n",
    "- genres — жанр фильма.\n",
    "\n",
    "Таблица mkrf_shows содержит сведения о показах фильмов в российских кинотеатрах. Согласно документации:\n",
    "- puNumber — номер прокатного удостоверения;\n",
    "- box_office — сборы в рублях."
   ]
  },
  {
   "cell_type": "markdown",
   "metadata": {},
   "source": [
    "Для того, чтобы объединить таблицы mkrf_movies и mkrf_shows, необходимо привести к одинаковыму типу данных столбцы, по которому будем соединять датафреймы. Этим столбцом является puNumber. В mkrf_movies тип данных object, в mkrf_shows - int64."
   ]
  },
  {
   "cell_type": "code",
   "execution_count": 3,
   "metadata": {
    "scrolled": false
   },
   "outputs": [
    {
     "name": "stdout",
     "output_type": "stream",
     "text": [
      "<class 'pandas.core.frame.DataFrame'>\n",
      "RangeIndex: 7486 entries, 0 to 7485\n",
      "Data columns (total 15 columns):\n",
      "title                    7486 non-null object\n",
      "puNumber                 7486 non-null object\n",
      "show_start_date          7486 non-null object\n",
      "type                     7486 non-null object\n",
      "film_studio              7468 non-null object\n",
      "production_country       7484 non-null object\n",
      "director                 7477 non-null object\n",
      "producer                 6918 non-null object\n",
      "age_restriction          7486 non-null object\n",
      "refundable_support       332 non-null float64\n",
      "nonrefundable_support    332 non-null float64\n",
      "budget                   332 non-null float64\n",
      "financing_source         332 non-null object\n",
      "ratings                  6519 non-null object\n",
      "genres                   6510 non-null object\n",
      "dtypes: float64(3), object(12)\n",
      "memory usage: 877.4+ KB\n"
     ]
    },
    {
     "data": {
      "text/plain": [
       "None"
      ]
     },
     "metadata": {},
     "output_type": "display_data"
    },
    {
     "name": "stdout",
     "output_type": "stream",
     "text": [
      "<class 'pandas.core.frame.DataFrame'>\n",
      "RangeIndex: 3158 entries, 0 to 3157\n",
      "Data columns (total 2 columns):\n",
      "puNumber      3158 non-null object\n",
      "box_office    3158 non-null float64\n",
      "dtypes: float64(1), object(1)\n",
      "memory usage: 49.5+ KB\n"
     ]
    },
    {
     "data": {
      "text/plain": [
       "None"
      ]
     },
     "metadata": {},
     "output_type": "display_data"
    }
   ],
   "source": [
    "# Приведем тип данных столбца puNumber в mkrf_shows к типу object.\n",
    "mkrf_shows['puNumber'] = mkrf_shows['puNumber'].astype('str')\n",
    "\n",
    "display(mkrf_movies.info())\n",
    "display(mkrf_shows.info())"
   ]
  },
  {
   "cell_type": "code",
   "execution_count": 4,
   "metadata": {},
   "outputs": [
    {
     "data": {
      "text/html": [
       "<div>\n",
       "<style scoped>\n",
       "    .dataframe tbody tr th:only-of-type {\n",
       "        vertical-align: middle;\n",
       "    }\n",
       "\n",
       "    .dataframe tbody tr th {\n",
       "        vertical-align: top;\n",
       "    }\n",
       "\n",
       "    .dataframe thead th {\n",
       "        text-align: right;\n",
       "    }\n",
       "</style>\n",
       "<table border=\"1\" class=\"dataframe\">\n",
       "  <thead>\n",
       "    <tr style=\"text-align: right;\">\n",
       "      <th></th>\n",
       "      <th>title</th>\n",
       "      <th>puNumber</th>\n",
       "      <th>show_start_date</th>\n",
       "      <th>type</th>\n",
       "      <th>film_studio</th>\n",
       "      <th>production_country</th>\n",
       "      <th>director</th>\n",
       "      <th>producer</th>\n",
       "      <th>age_restriction</th>\n",
       "      <th>refundable_support</th>\n",
       "      <th>nonrefundable_support</th>\n",
       "      <th>budget</th>\n",
       "      <th>financing_source</th>\n",
       "      <th>ratings</th>\n",
       "      <th>genres</th>\n",
       "      <th>box_office</th>\n",
       "    </tr>\n",
       "  </thead>\n",
       "  <tbody>\n",
       "    <tr>\n",
       "      <td>0</td>\n",
       "      <td>Открытый простор</td>\n",
       "      <td>221048915</td>\n",
       "      <td>2015-11-27T12:00:00.000Z</td>\n",
       "      <td>Художественный</td>\n",
       "      <td>Тачстоун Пикчерз, Кобальт Пикчерз, Бикон Пикче...</td>\n",
       "      <td>США</td>\n",
       "      <td>Кевин Костнер</td>\n",
       "      <td>Дэвид Валдес, Кевин Костнер, Джейк Эбертс</td>\n",
       "      <td>«18+» - запрещено для детей</td>\n",
       "      <td>nan</td>\n",
       "      <td>nan</td>\n",
       "      <td>nan</td>\n",
       "      <td>NaN</td>\n",
       "      <td>7.2</td>\n",
       "      <td>боевик,драма,мелодрама</td>\n",
       "      <td>nan</td>\n",
       "    </tr>\n",
       "    <tr>\n",
       "      <td>1</td>\n",
       "      <td>Особо важное задание</td>\n",
       "      <td>111013716</td>\n",
       "      <td>2016-09-13T12:00:00.000Z</td>\n",
       "      <td>Художественный</td>\n",
       "      <td>Киностудия \"Мосфильм\"</td>\n",
       "      <td>СССР</td>\n",
       "      <td>Е.Матвеев</td>\n",
       "      <td>NaN</td>\n",
       "      <td>«6+» - для детей старше 6 лет</td>\n",
       "      <td>nan</td>\n",
       "      <td>nan</td>\n",
       "      <td>nan</td>\n",
       "      <td>NaN</td>\n",
       "      <td>6.6</td>\n",
       "      <td>драма,военный</td>\n",
       "      <td>nan</td>\n",
       "    </tr>\n",
       "    <tr>\n",
       "      <td>2</td>\n",
       "      <td>Особо опасен</td>\n",
       "      <td>221038416</td>\n",
       "      <td>2016-10-10T12:00:00.000Z</td>\n",
       "      <td>Художественный</td>\n",
       "      <td>Юниверсал Пикчерз, Кикстарт Продакшнз, Марк Пл...</td>\n",
       "      <td>США</td>\n",
       "      <td>Тимур Бекмамбетов</td>\n",
       "      <td>Джим Лемли, Джейсон Нетер, Марк Е.Платт, Яйн Смит</td>\n",
       "      <td>«18+» - запрещено для детей</td>\n",
       "      <td>nan</td>\n",
       "      <td>nan</td>\n",
       "      <td>nan</td>\n",
       "      <td>NaN</td>\n",
       "      <td>6.8</td>\n",
       "      <td>фантастика,боевик,триллер</td>\n",
       "      <td>nan</td>\n",
       "    </tr>\n",
       "    <tr>\n",
       "      <td>3</td>\n",
       "      <td>Особо опасен</td>\n",
       "      <td>221026916</td>\n",
       "      <td>2016-06-10T12:00:00.000Z</td>\n",
       "      <td>Художественный</td>\n",
       "      <td>Юниверсал Пикчерз, Кикстарт Продакшнз, Марк Пл...</td>\n",
       "      <td>США</td>\n",
       "      <td>Тимур Бекмамбетов</td>\n",
       "      <td>Джим Лемли, Джейсон Нетер, Марк Е.Платт, Яйн Смит</td>\n",
       "      <td>«18+» - запрещено для детей</td>\n",
       "      <td>nan</td>\n",
       "      <td>nan</td>\n",
       "      <td>nan</td>\n",
       "      <td>NaN</td>\n",
       "      <td>6.8</td>\n",
       "      <td>фантастика,боевик,триллер</td>\n",
       "      <td>nan</td>\n",
       "    </tr>\n",
       "    <tr>\n",
       "      <td>4</td>\n",
       "      <td>Особо опасен</td>\n",
       "      <td>221030815</td>\n",
       "      <td>2015-07-29T12:00:00.000Z</td>\n",
       "      <td>Художественный</td>\n",
       "      <td>Юниверсал Пикчерз, Кикстарт Продакшнз, Марк Пл...</td>\n",
       "      <td>США</td>\n",
       "      <td>Тимур Бекмамбетов</td>\n",
       "      <td>Джим Лемли, Джейсон Нетер, Марк Е.Платт, Яйн Смит</td>\n",
       "      <td>«18+» - запрещено для детей</td>\n",
       "      <td>nan</td>\n",
       "      <td>nan</td>\n",
       "      <td>nan</td>\n",
       "      <td>NaN</td>\n",
       "      <td>6.8</td>\n",
       "      <td>фантастика,боевик,триллер</td>\n",
       "      <td>nan</td>\n",
       "    </tr>\n",
       "  </tbody>\n",
       "</table>\n",
       "</div>"
      ],
      "text/plain": [
       "                  title   puNumber           show_start_date            type  \\\n",
       "0      Открытый простор  221048915  2015-11-27T12:00:00.000Z  Художественный   \n",
       "1  Особо важное задание  111013716  2016-09-13T12:00:00.000Z  Художественный   \n",
       "2          Особо опасен  221038416  2016-10-10T12:00:00.000Z  Художественный   \n",
       "3          Особо опасен  221026916  2016-06-10T12:00:00.000Z  Художественный   \n",
       "4          Особо опасен  221030815  2015-07-29T12:00:00.000Z  Художественный   \n",
       "\n",
       "                                         film_studio production_country  \\\n",
       "0  Тачстоун Пикчерз, Кобальт Пикчерз, Бикон Пикче...                США   \n",
       "1                              Киностудия \"Мосфильм\"               СССР   \n",
       "2  Юниверсал Пикчерз, Кикстарт Продакшнз, Марк Пл...                США   \n",
       "3  Юниверсал Пикчерз, Кикстарт Продакшнз, Марк Пл...                США   \n",
       "4  Юниверсал Пикчерз, Кикстарт Продакшнз, Марк Пл...                США   \n",
       "\n",
       "            director                                           producer  \\\n",
       "0      Кевин Костнер          Дэвид Валдес, Кевин Костнер, Джейк Эбертс   \n",
       "1          Е.Матвеев                                                NaN   \n",
       "2  Тимур Бекмамбетов  Джим Лемли, Джейсон Нетер, Марк Е.Платт, Яйн Смит   \n",
       "3  Тимур Бекмамбетов  Джим Лемли, Джейсон Нетер, Марк Е.Платт, Яйн Смит   \n",
       "4  Тимур Бекмамбетов  Джим Лемли, Джейсон Нетер, Марк Е.Платт, Яйн Смит   \n",
       "\n",
       "                 age_restriction  refundable_support  nonrefundable_support  \\\n",
       "0    «18+» - запрещено для детей                 nan                    nan   \n",
       "1  «6+» - для детей старше 6 лет                 nan                    nan   \n",
       "2    «18+» - запрещено для детей                 nan                    nan   \n",
       "3    «18+» - запрещено для детей                 nan                    nan   \n",
       "4    «18+» - запрещено для детей                 nan                    nan   \n",
       "\n",
       "   budget financing_source ratings                     genres  box_office  \n",
       "0     nan              NaN     7.2     боевик,драма,мелодрама         nan  \n",
       "1     nan              NaN     6.6              драма,военный         nan  \n",
       "2     nan              NaN     6.8  фантастика,боевик,триллер         nan  \n",
       "3     nan              NaN     6.8  фантастика,боевик,триллер         nan  \n",
       "4     nan              NaN     6.8  фантастика,боевик,триллер         nan  "
      ]
     },
     "execution_count": 4,
     "metadata": {},
     "output_type": "execute_result"
    }
   ],
   "source": [
    "# Объединяем таблицы методом merge по столбцу puNumber\n",
    "mkrf_new = mkrf_movies.merge(mkrf_shows, on='puNumber', how='left')\n",
    "\n",
    "# получение первых 5 строк таблицы mkrf_new.\n",
    "mkrf_new.head()"
   ]
  },
  {
   "cell_type": "markdown",
   "metadata": {
    "id": "KLDGpPG0gFyM"
   },
   "source": [
    "### Шаг 2. Предобработка данных"
   ]
  },
  {
   "cell_type": "markdown",
   "metadata": {
    "id": "ssWwKXsxgFyO"
   },
   "source": [
    "#### Шаг 2.1. Проверьте типы данных\n",
    "\n",
    "- Проверьте типы данных в датафрейме и преобразуйте их там, где это необходимо."
   ]
  },
  {
   "cell_type": "code",
   "execution_count": 5,
   "metadata": {
    "id": "kVGSplJOgFyO"
   },
   "outputs": [
    {
     "name": "stdout",
     "output_type": "stream",
     "text": [
      "<class 'pandas.core.frame.DataFrame'>\n",
      "Int64Index: 7486 entries, 0 to 7485\n",
      "Data columns (total 16 columns):\n",
      "title                    7486 non-null object\n",
      "puNumber                 7486 non-null object\n",
      "show_start_date          7486 non-null datetime64[ns, UTC]\n",
      "type                     7486 non-null object\n",
      "film_studio              7468 non-null object\n",
      "production_country       7484 non-null object\n",
      "director                 7477 non-null object\n",
      "producer                 6918 non-null object\n",
      "age_restriction          7486 non-null object\n",
      "refundable_support       332 non-null float64\n",
      "nonrefundable_support    332 non-null float64\n",
      "budget                   332 non-null float64\n",
      "financing_source         332 non-null object\n",
      "ratings                  6490 non-null float64\n",
      "genres                   6510 non-null object\n",
      "box_office               3158 non-null float64\n",
      "dtypes: datetime64[ns, UTC](1), float64(5), object(10)\n",
      "memory usage: 994.2+ KB\n"
     ]
    }
   ],
   "source": [
    "# Меняем тип данных в столбце show_start_date на datetime.  \n",
    "mkrf_new['show_start_date'] = pd.to_datetime(mkrf_new['show_start_date'], format='%Y-%m-%d %H:%M')\n",
    "\n",
    "# Меняем тип данных в столбце ratings на float.\n",
    "mkrf_new['ratings'] = pd.to_numeric(mkrf_new['ratings'], errors='coerce')\n",
    "\n",
    "mkrf_new.info()"
   ]
  },
  {
   "cell_type": "markdown",
   "metadata": {
    "id": "i0MOLbF-gFyP"
   },
   "source": [
    "#### Шаг 2.2. Изучите пропуски в датафрейме\n",
    "\n",
    "- Объясните, почему заполнили пропуски определённым образом или почему не стали этого делать."
   ]
  },
  {
   "cell_type": "code",
   "execution_count": 6,
   "metadata": {
    "id": "8MJD_lkngFyP"
   },
   "outputs": [
    {
     "data": {
      "text/html": [
       "<div>\n",
       "<style scoped>\n",
       "    .dataframe tbody tr th:only-of-type {\n",
       "        vertical-align: middle;\n",
       "    }\n",
       "\n",
       "    .dataframe tbody tr th {\n",
       "        vertical-align: top;\n",
       "    }\n",
       "\n",
       "    .dataframe thead th {\n",
       "        text-align: right;\n",
       "    }\n",
       "</style>\n",
       "<table border=\"1\" class=\"dataframe\">\n",
       "  <thead>\n",
       "    <tr style=\"text-align: right;\">\n",
       "      <th></th>\n",
       "      <th>0</th>\n",
       "    </tr>\n",
       "  </thead>\n",
       "  <tbody>\n",
       "    <tr>\n",
       "      <td>title</td>\n",
       "      <td>0</td>\n",
       "    </tr>\n",
       "    <tr>\n",
       "      <td>puNumber</td>\n",
       "      <td>0</td>\n",
       "    </tr>\n",
       "    <tr>\n",
       "      <td>show_start_date</td>\n",
       "      <td>0</td>\n",
       "    </tr>\n",
       "    <tr>\n",
       "      <td>type</td>\n",
       "      <td>0</td>\n",
       "    </tr>\n",
       "    <tr>\n",
       "      <td>film_studio</td>\n",
       "      <td>18</td>\n",
       "    </tr>\n",
       "    <tr>\n",
       "      <td>production_country</td>\n",
       "      <td>2</td>\n",
       "    </tr>\n",
       "    <tr>\n",
       "      <td>director</td>\n",
       "      <td>9</td>\n",
       "    </tr>\n",
       "    <tr>\n",
       "      <td>producer</td>\n",
       "      <td>568</td>\n",
       "    </tr>\n",
       "    <tr>\n",
       "      <td>age_restriction</td>\n",
       "      <td>0</td>\n",
       "    </tr>\n",
       "    <tr>\n",
       "      <td>refundable_support</td>\n",
       "      <td>7154</td>\n",
       "    </tr>\n",
       "    <tr>\n",
       "      <td>nonrefundable_support</td>\n",
       "      <td>7154</td>\n",
       "    </tr>\n",
       "    <tr>\n",
       "      <td>budget</td>\n",
       "      <td>7154</td>\n",
       "    </tr>\n",
       "    <tr>\n",
       "      <td>financing_source</td>\n",
       "      <td>7154</td>\n",
       "    </tr>\n",
       "    <tr>\n",
       "      <td>ratings</td>\n",
       "      <td>996</td>\n",
       "    </tr>\n",
       "    <tr>\n",
       "      <td>genres</td>\n",
       "      <td>976</td>\n",
       "    </tr>\n",
       "    <tr>\n",
       "      <td>box_office</td>\n",
       "      <td>4328</td>\n",
       "    </tr>\n",
       "  </tbody>\n",
       "</table>\n",
       "</div>"
      ],
      "text/plain": [
       "                          0\n",
       "title                     0\n",
       "puNumber                  0\n",
       "show_start_date           0\n",
       "type                      0\n",
       "film_studio              18\n",
       "production_country        2\n",
       "director                  9\n",
       "producer                568\n",
       "age_restriction           0\n",
       "refundable_support     7154\n",
       "nonrefundable_support  7154\n",
       "budget                 7154\n",
       "financing_source       7154\n",
       "ratings                 996\n",
       "genres                  976\n",
       "box_office             4328"
      ]
     },
     "execution_count": 6,
     "metadata": {},
     "output_type": "execute_result"
    }
   ],
   "source": [
    "# Подсчёт пропусков.\n",
    "mkrf_new.isna().sum().to_frame() "
   ]
  },
  {
   "cell_type": "code",
   "execution_count": 7,
   "metadata": {
    "scrolled": false
   },
   "outputs": [
    {
     "data": {
      "text/html": [
       "<div>\n",
       "<style scoped>\n",
       "    .dataframe tbody tr th:only-of-type {\n",
       "        vertical-align: middle;\n",
       "    }\n",
       "\n",
       "    .dataframe tbody tr th {\n",
       "        vertical-align: top;\n",
       "    }\n",
       "\n",
       "    .dataframe thead th {\n",
       "        text-align: right;\n",
       "    }\n",
       "</style>\n",
       "<table border=\"1\" class=\"dataframe\">\n",
       "  <thead>\n",
       "    <tr style=\"text-align: right;\">\n",
       "      <th></th>\n",
       "      <th>0</th>\n",
       "    </tr>\n",
       "  </thead>\n",
       "  <tbody>\n",
       "    <tr>\n",
       "      <td>title</td>\n",
       "      <td>0.00</td>\n",
       "    </tr>\n",
       "    <tr>\n",
       "      <td>puNumber</td>\n",
       "      <td>0.00</td>\n",
       "    </tr>\n",
       "    <tr>\n",
       "      <td>show_start_date</td>\n",
       "      <td>0.00</td>\n",
       "    </tr>\n",
       "    <tr>\n",
       "      <td>type</td>\n",
       "      <td>0.00</td>\n",
       "    </tr>\n",
       "    <tr>\n",
       "      <td>film_studio</td>\n",
       "      <td>0.24</td>\n",
       "    </tr>\n",
       "    <tr>\n",
       "      <td>production_country</td>\n",
       "      <td>0.03</td>\n",
       "    </tr>\n",
       "    <tr>\n",
       "      <td>director</td>\n",
       "      <td>0.12</td>\n",
       "    </tr>\n",
       "    <tr>\n",
       "      <td>producer</td>\n",
       "      <td>7.59</td>\n",
       "    </tr>\n",
       "    <tr>\n",
       "      <td>age_restriction</td>\n",
       "      <td>0.00</td>\n",
       "    </tr>\n",
       "    <tr>\n",
       "      <td>refundable_support</td>\n",
       "      <td>95.57</td>\n",
       "    </tr>\n",
       "    <tr>\n",
       "      <td>nonrefundable_support</td>\n",
       "      <td>95.57</td>\n",
       "    </tr>\n",
       "    <tr>\n",
       "      <td>budget</td>\n",
       "      <td>95.57</td>\n",
       "    </tr>\n",
       "    <tr>\n",
       "      <td>financing_source</td>\n",
       "      <td>95.57</td>\n",
       "    </tr>\n",
       "    <tr>\n",
       "      <td>ratings</td>\n",
       "      <td>13.30</td>\n",
       "    </tr>\n",
       "    <tr>\n",
       "      <td>genres</td>\n",
       "      <td>13.04</td>\n",
       "    </tr>\n",
       "    <tr>\n",
       "      <td>box_office</td>\n",
       "      <td>57.81</td>\n",
       "    </tr>\n",
       "  </tbody>\n",
       "</table>\n",
       "</div>"
      ],
      "text/plain": [
       "                          0\n",
       "title                  0.00\n",
       "puNumber               0.00\n",
       "show_start_date        0.00\n",
       "type                   0.00\n",
       "film_studio            0.24\n",
       "production_country     0.03\n",
       "director               0.12\n",
       "producer               7.59\n",
       "age_restriction        0.00\n",
       "refundable_support    95.57\n",
       "nonrefundable_support 95.57\n",
       "budget                95.57\n",
       "financing_source      95.57\n",
       "ratings               13.30\n",
       "genres                13.04\n",
       "box_office            57.81"
      ]
     },
     "execution_count": 7,
     "metadata": {},
     "output_type": "execute_result"
    }
   ],
   "source": [
    "# Подсчёт пропусков в процентах.\n",
    "mkrf_new.isna().mean().to_frame()*100"
   ]
  },
  {
   "cell_type": "code",
   "execution_count": 8,
   "metadata": {
    "scrolled": false
   },
   "outputs": [],
   "source": [
    "# Заменяем пропуски в столбцах film_studio, production_country, director, producer, genres\n",
    "# на unknown\n",
    "mkrf_new = mkrf_new.fillna(\n",
    "    {'film_studio':'unknown', 'production_country':'unknown', \n",
    "     'director':'unknown', 'producer':'unknown', 'genres':'unknown'}\n",
    ") "
   ]
  },
  {
   "cell_type": "markdown",
   "metadata": {},
   "source": [
    "Заменили пропуски в столбцах film_studio, production_country, director, producer, genresна unknown. В столбеце ratings 13% пропусков, можно попробовать заполнить медианным значением, если не сильно повлияет на конечный результат."
   ]
  },
  {
   "cell_type": "code",
   "execution_count": 9,
   "metadata": {
    "scrolled": true
   },
   "outputs": [
    {
     "data": {
      "text/plain": [
       "count   6,490.00\n",
       "mean        6.48\n",
       "std         1.10\n",
       "min         1.00\n",
       "25%         5.90\n",
       "50%         6.60\n",
       "75%         7.20\n",
       "max         9.20\n",
       "Name: ratings, dtype: float64"
      ]
     },
     "execution_count": 9,
     "metadata": {},
     "output_type": "execute_result"
    }
   ],
   "source": [
    "# Получаем числовое описание столбца ratings\n",
    "mkrf_new['ratings'].describe()"
   ]
  },
  {
   "cell_type": "code",
   "execution_count": 10,
   "metadata": {},
   "outputs": [],
   "source": [
    "# Заполняем пропуски в столбце ratings медианным значением 6.6\n",
    "mkrf_new['ratings'] = mkrf_new['ratings'].fillna(6.6)"
   ]
  },
  {
   "cell_type": "code",
   "execution_count": 11,
   "metadata": {
    "scrolled": false
   },
   "outputs": [
    {
     "data": {
      "text/plain": [
       "count   7,486.00\n",
       "mean        6.50\n",
       "std         1.03\n",
       "min         1.00\n",
       "25%         6.00\n",
       "50%         6.60\n",
       "75%         7.10\n",
       "max         9.20\n",
       "Name: ratings, dtype: float64"
      ]
     },
     "execution_count": 11,
     "metadata": {},
     "output_type": "execute_result"
    }
   ],
   "source": [
    "# Проверяем изменения, получаем числовое описание столбца ratings\n",
    "mkrf_new['ratings'].describe()"
   ]
  },
  {
   "cell_type": "markdown",
   "metadata": {},
   "source": [
    "В столбце ratings до заполнения пропусков медиана 6.6, а среднее 6.48, а после заполнения медианным значением среднее 6.50, а медиана 6.6. Изменения можно считать незначительными, поэтому заполнение пропусков медианным значением можно оставить."
   ]
  },
  {
   "cell_type": "code",
   "execution_count": 12,
   "metadata": {},
   "outputs": [
    {
     "data": {
      "text/html": [
       "<div>\n",
       "<style scoped>\n",
       "    .dataframe tbody tr th:only-of-type {\n",
       "        vertical-align: middle;\n",
       "    }\n",
       "\n",
       "    .dataframe tbody tr th {\n",
       "        vertical-align: top;\n",
       "    }\n",
       "\n",
       "    .dataframe thead th {\n",
       "        text-align: right;\n",
       "    }\n",
       "</style>\n",
       "<table border=\"1\" class=\"dataframe\">\n",
       "  <thead>\n",
       "    <tr style=\"text-align: right;\">\n",
       "      <th></th>\n",
       "      <th>0</th>\n",
       "    </tr>\n",
       "  </thead>\n",
       "  <tbody>\n",
       "    <tr>\n",
       "      <td>title</td>\n",
       "      <td>0</td>\n",
       "    </tr>\n",
       "    <tr>\n",
       "      <td>puNumber</td>\n",
       "      <td>0</td>\n",
       "    </tr>\n",
       "    <tr>\n",
       "      <td>show_start_date</td>\n",
       "      <td>0</td>\n",
       "    </tr>\n",
       "    <tr>\n",
       "      <td>type</td>\n",
       "      <td>0</td>\n",
       "    </tr>\n",
       "    <tr>\n",
       "      <td>film_studio</td>\n",
       "      <td>0</td>\n",
       "    </tr>\n",
       "    <tr>\n",
       "      <td>production_country</td>\n",
       "      <td>0</td>\n",
       "    </tr>\n",
       "    <tr>\n",
       "      <td>director</td>\n",
       "      <td>0</td>\n",
       "    </tr>\n",
       "    <tr>\n",
       "      <td>producer</td>\n",
       "      <td>0</td>\n",
       "    </tr>\n",
       "    <tr>\n",
       "      <td>age_restriction</td>\n",
       "      <td>0</td>\n",
       "    </tr>\n",
       "    <tr>\n",
       "      <td>refundable_support</td>\n",
       "      <td>7154</td>\n",
       "    </tr>\n",
       "    <tr>\n",
       "      <td>nonrefundable_support</td>\n",
       "      <td>7154</td>\n",
       "    </tr>\n",
       "    <tr>\n",
       "      <td>budget</td>\n",
       "      <td>7154</td>\n",
       "    </tr>\n",
       "    <tr>\n",
       "      <td>financing_source</td>\n",
       "      <td>7154</td>\n",
       "    </tr>\n",
       "    <tr>\n",
       "      <td>ratings</td>\n",
       "      <td>0</td>\n",
       "    </tr>\n",
       "    <tr>\n",
       "      <td>genres</td>\n",
       "      <td>0</td>\n",
       "    </tr>\n",
       "    <tr>\n",
       "      <td>box_office</td>\n",
       "      <td>4328</td>\n",
       "    </tr>\n",
       "  </tbody>\n",
       "</table>\n",
       "</div>"
      ],
      "text/plain": [
       "                          0\n",
       "title                     0\n",
       "puNumber                  0\n",
       "show_start_date           0\n",
       "type                      0\n",
       "film_studio               0\n",
       "production_country        0\n",
       "director                  0\n",
       "producer                  0\n",
       "age_restriction           0\n",
       "refundable_support     7154\n",
       "nonrefundable_support  7154\n",
       "budget                 7154\n",
       "financing_source       7154\n",
       "ratings                   0\n",
       "genres                    0\n",
       "box_office             4328"
      ]
     },
     "execution_count": 12,
     "metadata": {},
     "output_type": "execute_result"
    }
   ],
   "source": [
    "# Подсчёт пропусков.\n",
    "mkrf_new.isna().sum().to_frame() "
   ]
  },
  {
   "cell_type": "markdown",
   "metadata": {
    "id": "4c6k1t9ygFyQ"
   },
   "source": [
    "#### Шаг 2.3. Изучите дубликаты в датафрейме\n",
    "- Проверьте, есть ли в данных дубликаты. Опишите причины, которые могли повлиять на появление дублей."
   ]
  },
  {
   "cell_type": "code",
   "execution_count": 13,
   "metadata": {},
   "outputs": [
    {
     "data": {
      "text/plain": [
       "0"
      ]
     },
     "execution_count": 13,
     "metadata": {},
     "output_type": "execute_result"
    }
   ],
   "source": [
    "# Поиск явных дубликатов.\n",
    "mkrf_new.duplicated().sum()"
   ]
  },
  {
   "cell_type": "code",
   "execution_count": 14,
   "metadata": {},
   "outputs": [
    {
     "data": {
      "text/plain": [
       "714"
      ]
     },
     "execution_count": 14,
     "metadata": {},
     "output_type": "execute_result"
    }
   ],
   "source": [
    "mkrf_new['title'].duplicated().sum()"
   ]
  },
  {
   "cell_type": "code",
   "execution_count": 15,
   "metadata": {},
   "outputs": [
    {
     "data": {
      "text/plain": [
       "День святого Валентина_                 5\n",
       "Начало_                                 4\n",
       "Кошмар на улице Вязов /Фильм ужасов/    4\n",
       "Двойной копец                           4\n",
       "Рапунцель: Запутанная история           4\n",
       "Name: title, dtype: int64"
      ]
     },
     "execution_count": 15,
     "metadata": {},
     "output_type": "execute_result"
    }
   ],
   "source": [
    "# Изучаем уникальные значения и их количество в столбце title.\n",
    "mkrf_new['title'].value_counts().sort_values(ascending=False).head()"
   ]
  },
  {
   "cell_type": "code",
   "execution_count": 16,
   "metadata": {},
   "outputs": [
    {
     "data": {
      "text/html": [
       "<div>\n",
       "<style scoped>\n",
       "    .dataframe tbody tr th:only-of-type {\n",
       "        vertical-align: middle;\n",
       "    }\n",
       "\n",
       "    .dataframe tbody tr th {\n",
       "        vertical-align: top;\n",
       "    }\n",
       "\n",
       "    .dataframe thead th {\n",
       "        text-align: right;\n",
       "    }\n",
       "</style>\n",
       "<table border=\"1\" class=\"dataframe\">\n",
       "  <thead>\n",
       "    <tr style=\"text-align: right;\">\n",
       "      <th></th>\n",
       "      <th>title</th>\n",
       "      <th>puNumber</th>\n",
       "      <th>show_start_date</th>\n",
       "      <th>type</th>\n",
       "      <th>film_studio</th>\n",
       "      <th>production_country</th>\n",
       "      <th>director</th>\n",
       "      <th>producer</th>\n",
       "      <th>age_restriction</th>\n",
       "      <th>refundable_support</th>\n",
       "      <th>nonrefundable_support</th>\n",
       "      <th>budget</th>\n",
       "      <th>financing_source</th>\n",
       "      <th>ratings</th>\n",
       "      <th>genres</th>\n",
       "      <th>box_office</th>\n",
       "    </tr>\n",
       "  </thead>\n",
       "  <tbody>\n",
       "    <tr>\n",
       "      <td>3902</td>\n",
       "      <td>День святого Валентина_</td>\n",
       "      <td>221083810</td>\n",
       "      <td>2010-07-15 12:00:00+00:00</td>\n",
       "      <td>Художественный</td>\n",
       "      <td>Уорнер Бразерс, Нью Лайн Синема, Уэйн Райс, Ка...</td>\n",
       "      <td>США</td>\n",
       "      <td>Гарри Маршалл</td>\n",
       "      <td>Сэмюэл Дж.Браун</td>\n",
       "      <td>«16+» - для детей старше 16 лет</td>\n",
       "      <td>nan</td>\n",
       "      <td>nan</td>\n",
       "      <td>nan</td>\n",
       "      <td>NaN</td>\n",
       "      <td>6.70</td>\n",
       "      <td>мелодрама,комедия</td>\n",
       "      <td>nan</td>\n",
       "    </tr>\n",
       "    <tr>\n",
       "      <td>3991</td>\n",
       "      <td>День святого Валентина_</td>\n",
       "      <td>221068010</td>\n",
       "      <td>2010-05-14 12:00:00+00:00</td>\n",
       "      <td>Художественный</td>\n",
       "      <td>Уорнер Бразерс, Нью Лайн Синема, Уэйн Райс, Ка...</td>\n",
       "      <td>США</td>\n",
       "      <td>Гарри Маршалл</td>\n",
       "      <td>Сэмюэл Дж.Браун</td>\n",
       "      <td>«16+» - для детей старше 16 лет</td>\n",
       "      <td>nan</td>\n",
       "      <td>nan</td>\n",
       "      <td>nan</td>\n",
       "      <td>NaN</td>\n",
       "      <td>6.70</td>\n",
       "      <td>мелодрама,комедия</td>\n",
       "      <td>nan</td>\n",
       "    </tr>\n",
       "    <tr>\n",
       "      <td>4070</td>\n",
       "      <td>День святого Валентина_</td>\n",
       "      <td>121002210</td>\n",
       "      <td>2010-02-03 12:00:00+00:00</td>\n",
       "      <td>Художественный</td>\n",
       "      <td>Уорнер Бразерс, Нью Лайн Синема, Уэйн Райс, Ка...</td>\n",
       "      <td>США</td>\n",
       "      <td>Гарри Маршалл</td>\n",
       "      <td>Сэмюэл Дж.Браун</td>\n",
       "      <td>«16+» - для детей старше 16 лет</td>\n",
       "      <td>nan</td>\n",
       "      <td>nan</td>\n",
       "      <td>nan</td>\n",
       "      <td>NaN</td>\n",
       "      <td>6.70</td>\n",
       "      <td>мелодрама,комедия</td>\n",
       "      <td>nan</td>\n",
       "    </tr>\n",
       "  </tbody>\n",
       "</table>\n",
       "</div>"
      ],
      "text/plain": [
       "                        title   puNumber           show_start_date  \\\n",
       "3902  День святого Валентина_  221083810 2010-07-15 12:00:00+00:00   \n",
       "3991  День святого Валентина_  221068010 2010-05-14 12:00:00+00:00   \n",
       "4070  День святого Валентина_  121002210 2010-02-03 12:00:00+00:00   \n",
       "\n",
       "                type                                        film_studio  \\\n",
       "3902  Художественный  Уорнер Бразерс, Нью Лайн Синема, Уэйн Райс, Ка...   \n",
       "3991  Художественный  Уорнер Бразерс, Нью Лайн Синема, Уэйн Райс, Ка...   \n",
       "4070  Художественный  Уорнер Бразерс, Нью Лайн Синема, Уэйн Райс, Ка...   \n",
       "\n",
       "     production_country       director         producer  \\\n",
       "3902                США  Гарри Маршалл  Сэмюэл Дж.Браун   \n",
       "3991                США  Гарри Маршалл  Сэмюэл Дж.Браун   \n",
       "4070                США  Гарри Маршалл  Сэмюэл Дж.Браун   \n",
       "\n",
       "                      age_restriction  refundable_support  \\\n",
       "3902  «16+» - для детей старше 16 лет                 nan   \n",
       "3991  «16+» - для детей старше 16 лет                 nan   \n",
       "4070  «16+» - для детей старше 16 лет                 nan   \n",
       "\n",
       "      nonrefundable_support  budget financing_source  ratings  \\\n",
       "3902                    nan     nan              NaN     6.70   \n",
       "3991                    nan     nan              NaN     6.70   \n",
       "4070                    nan     nan              NaN     6.70   \n",
       "\n",
       "                 genres  box_office  \n",
       "3902  мелодрама,комедия         nan  \n",
       "3991  мелодрама,комедия         nan  \n",
       "4070  мелодрама,комедия         nan  "
      ]
     },
     "metadata": {},
     "output_type": "display_data"
    }
   ],
   "source": [
    "# Просматриваем срез фильма День святого Валентина\n",
    "display(mkrf_new.query('title == \"День святого Валентина_\"').head(3))"
   ]
  },
  {
   "cell_type": "markdown",
   "metadata": {},
   "source": [
    "При поиске явных дубликатов методом duplicated() установлено, что дубликатов нет. Однако при поиске дубликатов в столбце title обнаружено 714 дубликатов названий фильмов. При просмотре среза названий фильмов установлено, что в таблице имеются фильмы с одинаковым названием, но у них разные номера прокатных удостоверений и даты премьеры фильма. Это свидетельствует о том, что один и тот же фильм показывали в кинотеатрах несколько раз."
   ]
  },
  {
   "cell_type": "markdown",
   "metadata": {
    "id": "52fOPrEBgFyQ"
   },
   "source": [
    "#### Шаг 2.4. Изучите категориальные значения\n",
    "\n",
    "- Посмотрите, какая общая проблема встречается почти во всех категориальных столбцах;\n",
    "- Исправьте проблемные значения в поле `type`.\n",
    "\n",
    "<div id=\"accordion\">\n",
    "    <div class=\"card\">\n",
    "        <div class=\"card-header\" id=\"headingThree\">\n",
    "            <button class=\"btn btn-link collapsed\" data-toggle=\"collapse\" data-target=\"#collapseHint_1\" aria-expanded=\"false\" aria-controls=\"collapseHint_1\">Подсказка</button>\n",
    "        </div>\n",
    "        <div id=\"collapseHint_1\" class=\"collapse\" aria-labelledby=\"headingThree\" data-parent=\"#accordion\">\n",
    "            <div class=\"card-body\">\n",
    "В поле <code>type</code> есть несколько значений, у которых появился пробел в начале строки. Самый простой способ их «починить» -- использовать метод <a href=\"https://pandas.pydata.org/docs/reference/api/pandas.Series.str.strip.html#pandas.Series.str.strip\">.str.strip</a>. Этот метод удаляет все пробелы, которые встречаются в начале и в конце строки. Применяют его таким образом:<br>\n",
    "<code>df['type'].str.strip()</code>\n",
    "            </div>\n",
    "        </div>\n",
    "    </div>\n",
    "</div>"
   ]
  },
  {
   "cell_type": "code",
   "execution_count": 17,
   "metadata": {
    "id": "PnXKIVdFgFyR",
    "scrolled": false
   },
   "outputs": [
    {
     "data": {
      "text/plain": [
       "Художественный                4520\n",
       " Художественный               1389\n",
       "Анимационный                   828\n",
       "Прочие                         406\n",
       "Документальный                 288\n",
       "Научно-популярный               53\n",
       "Музыкально-развлекательный       1\n",
       " Анимационный                    1\n",
       "Name: type, dtype: int64"
      ]
     },
     "execution_count": 17,
     "metadata": {},
     "output_type": "execute_result"
    }
   ],
   "source": [
    "# Выводим количество уникальных значений\n",
    "mkrf_new['type'].value_counts()"
   ]
  },
  {
   "cell_type": "markdown",
   "metadata": {},
   "source": [
    "В поле type есть несколько значений, у которых появился пробел в начале строки. "
   ]
  },
  {
   "cell_type": "code",
   "execution_count": 18,
   "metadata": {},
   "outputs": [
    {
     "data": {
      "text/plain": [
       "Художественный                5909\n",
       "Анимационный                   829\n",
       "Прочие                         406\n",
       "Документальный                 288\n",
       "Научно-популярный               53\n",
       "Музыкально-развлекательный       1\n",
       "Name: type, dtype: int64"
      ]
     },
     "execution_count": 18,
     "metadata": {},
     "output_type": "execute_result"
    }
   ],
   "source": [
    "# Удаляем пробелы в начале строк в столбце type.\n",
    "mkrf_new['type'] = mkrf_new['type'].str.strip()\n",
    "\n",
    "mkrf_new['type'].value_counts()"
   ]
  },
  {
   "cell_type": "markdown",
   "metadata": {
    "id": "XFSN5lrEgFyR"
   },
   "source": [
    "#### Шаг 2.5. Проверьте количественные значения\n",
    "\n",
    "- Проверьте, обнаружились ли в таких столбцах подозрительные данные. Как с такими данными лучше поступить?\n",
    "\n",
    "<div id=\"accordion\">\n",
    "    <div class=\"card\">\n",
    "        <div class=\"card-header\" id=\"headingThree\">\n",
    "            <button class=\"btn btn-link collapsed\" data-toggle=\"collapse\" data-target=\"#collapseHint_budget\" aria-expanded=\"false\" aria-controls=\"collapseHint_budget\">Подсказка</button>\n",
    "        </div>\n",
    "        <div id=\"collapseHint_budget\" class=\"collapse\" aria-labelledby=\"headingThree\" data-parent=\"#accordion\">\n",
    "            <div class=\"card-body\">\n",
    "Обратите внимание на описание столбца <code>budget</code>. Как этот столбец соотносится с двумя другими: <code>refundable_support</code> и <code>nonrefundable_support</code>?\n",
    "            </div>\n",
    "        </div>\n",
    "    </div>\n",
    "</div>"
   ]
  },
  {
   "cell_type": "code",
   "execution_count": 19,
   "metadata": {
    "id": "YbzClBxagFyS",
    "scrolled": true
   },
   "outputs": [
    {
     "data": {
      "text/html": [
       "<div>\n",
       "<style scoped>\n",
       "    .dataframe tbody tr th:only-of-type {\n",
       "        vertical-align: middle;\n",
       "    }\n",
       "\n",
       "    .dataframe tbody tr th {\n",
       "        vertical-align: top;\n",
       "    }\n",
       "\n",
       "    .dataframe thead th {\n",
       "        text-align: right;\n",
       "    }\n",
       "</style>\n",
       "<table border=\"1\" class=\"dataframe\">\n",
       "  <thead>\n",
       "    <tr style=\"text-align: right;\">\n",
       "      <th></th>\n",
       "      <th>budget</th>\n",
       "      <th>refundable_support</th>\n",
       "      <th>nonrefundable_support</th>\n",
       "    </tr>\n",
       "  </thead>\n",
       "  <tbody>\n",
       "    <tr>\n",
       "      <td>7114</td>\n",
       "      <td>2,305,074,303.00</td>\n",
       "      <td>180,000,000.00</td>\n",
       "      <td>90,000,000.00</td>\n",
       "    </tr>\n",
       "    <tr>\n",
       "      <td>5437</td>\n",
       "      <td>1,032,905,957.00</td>\n",
       "      <td>110,000,000.00</td>\n",
       "      <td>190,000,000.00</td>\n",
       "    </tr>\n",
       "    <tr>\n",
       "      <td>7464</td>\n",
       "      <td>980,000,000.00</td>\n",
       "      <td>100,000,000.00</td>\n",
       "      <td>400,000,000.00</td>\n",
       "    </tr>\n",
       "    <tr>\n",
       "      <td>7474</td>\n",
       "      <td>944,000,000.00</td>\n",
       "      <td>100,000,000.00</td>\n",
       "      <td>400,000,000.00</td>\n",
       "    </tr>\n",
       "    <tr>\n",
       "      <td>7171</td>\n",
       "      <td>779,941,965.00</td>\n",
       "      <td>0.00</td>\n",
       "      <td>60,000,000.00</td>\n",
       "    </tr>\n",
       "  </tbody>\n",
       "</table>\n",
       "</div>"
      ],
      "text/plain": [
       "               budget  refundable_support  nonrefundable_support\n",
       "7114 2,305,074,303.00      180,000,000.00          90,000,000.00\n",
       "5437 1,032,905,957.00      110,000,000.00         190,000,000.00\n",
       "7464   980,000,000.00      100,000,000.00         400,000,000.00\n",
       "7474   944,000,000.00      100,000,000.00         400,000,000.00\n",
       "7171   779,941,965.00                0.00          60,000,000.00"
      ]
     },
     "execution_count": 19,
     "metadata": {},
     "output_type": "execute_result"
    }
   ],
   "source": [
    "mkrf_new[['budget', 'refundable_support', 'nonrefundable_support']].sort_values('budget', ascending=False).head()"
   ]
  },
  {
   "cell_type": "code",
   "execution_count": 20,
   "metadata": {},
   "outputs": [
    {
     "data": {
      "text/html": [
       "<div>\n",
       "<style scoped>\n",
       "    .dataframe tbody tr th:only-of-type {\n",
       "        vertical-align: middle;\n",
       "    }\n",
       "\n",
       "    .dataframe tbody tr th {\n",
       "        vertical-align: top;\n",
       "    }\n",
       "\n",
       "    .dataframe thead th {\n",
       "        text-align: right;\n",
       "    }\n",
       "</style>\n",
       "<table border=\"1\" class=\"dataframe\">\n",
       "  <thead>\n",
       "    <tr style=\"text-align: right;\">\n",
       "      <th></th>\n",
       "      <th>budget</th>\n",
       "      <th>refundable_support</th>\n",
       "      <th>nonrefundable_support</th>\n",
       "    </tr>\n",
       "  </thead>\n",
       "  <tbody>\n",
       "    <tr>\n",
       "      <td>2532</td>\n",
       "      <td>0.00</td>\n",
       "      <td>20,000,000.00</td>\n",
       "      <td>0.00</td>\n",
       "    </tr>\n",
       "    <tr>\n",
       "      <td>3675</td>\n",
       "      <td>0.00</td>\n",
       "      <td>20,000,000.00</td>\n",
       "      <td>20,000,000.00</td>\n",
       "    </tr>\n",
       "    <tr>\n",
       "      <td>2874</td>\n",
       "      <td>0.00</td>\n",
       "      <td>0.00</td>\n",
       "      <td>6,000,000.00</td>\n",
       "    </tr>\n",
       "    <tr>\n",
       "      <td>2058</td>\n",
       "      <td>0.00</td>\n",
       "      <td>0.00</td>\n",
       "      <td>75,000,000.00</td>\n",
       "    </tr>\n",
       "    <tr>\n",
       "      <td>2053</td>\n",
       "      <td>0.00</td>\n",
       "      <td>0.00</td>\n",
       "      <td>23,000,000.00</td>\n",
       "    </tr>\n",
       "    <tr>\n",
       "      <td>3739</td>\n",
       "      <td>0.00</td>\n",
       "      <td>25,000,000.00</td>\n",
       "      <td>20,000,000.00</td>\n",
       "    </tr>\n",
       "    <tr>\n",
       "      <td>3047</td>\n",
       "      <td>0.00</td>\n",
       "      <td>19,000,000.00</td>\n",
       "      <td>51,000,000.00</td>\n",
       "    </tr>\n",
       "    <tr>\n",
       "      <td>5673</td>\n",
       "      <td>0.00</td>\n",
       "      <td>20,000,000.00</td>\n",
       "      <td>40,000,000.00</td>\n",
       "    </tr>\n",
       "    <tr>\n",
       "      <td>6323</td>\n",
       "      <td>0.00</td>\n",
       "      <td>0.00</td>\n",
       "      <td>138,969,465.00</td>\n",
       "    </tr>\n",
       "    <tr>\n",
       "      <td>2788</td>\n",
       "      <td>0.00</td>\n",
       "      <td>0.00</td>\n",
       "      <td>35,000,000.00</td>\n",
       "    </tr>\n",
       "  </tbody>\n",
       "</table>\n",
       "</div>"
      ],
      "text/plain": [
       "      budget  refundable_support  nonrefundable_support\n",
       "2532    0.00       20,000,000.00                   0.00\n",
       "3675    0.00       20,000,000.00          20,000,000.00\n",
       "2874    0.00                0.00           6,000,000.00\n",
       "2058    0.00                0.00          75,000,000.00\n",
       "2053    0.00                0.00          23,000,000.00\n",
       "3739    0.00       25,000,000.00          20,000,000.00\n",
       "3047    0.00       19,000,000.00          51,000,000.00\n",
       "5673    0.00       20,000,000.00          40,000,000.00\n",
       "6323    0.00                0.00         138,969,465.00\n",
       "2788    0.00                0.00          35,000,000.00"
      ]
     },
     "execution_count": 20,
     "metadata": {},
     "output_type": "execute_result"
    }
   ],
   "source": [
    "mkrf_new[['budget', 'refundable_support', 'nonrefundable_support']].sort_values('budget').head(10)"
   ]
  },
  {
   "cell_type": "markdown",
   "metadata": {},
   "source": [
    "Столбец `budget` уже включает в себя полный объём государственной поддержки. Данные в этом столбце указаны только для тех фильмов, которые получили государственную поддержку. Но есть часть данных, в которых бюджет=0, при этом указан объём возвратных и невозвратных средств государственной поддержки. Указанные значения не могут быть меньше объём возвратных и невозвратных средств государственной поддержки, их нужно заменить."
   ]
  },
  {
   "cell_type": "code",
   "execution_count": 21,
   "metadata": {},
   "outputs": [],
   "source": [
    "# Заменим значения = 0 в столбце budget на сумму значений столбцов refundable_support, nonrefundable_support\n",
    "mkrf_new['budget'] = (mkrf_new['budget']\n",
    "    .where(mkrf_new['budget'] !=0, mkrf_new['refundable_support'] + mkrf_new['nonrefundable_support'])\n",
    ")"
   ]
  },
  {
   "cell_type": "code",
   "execution_count": 22,
   "metadata": {
    "scrolled": false
   },
   "outputs": [
    {
     "data": {
      "text/html": [
       "<div>\n",
       "<style scoped>\n",
       "    .dataframe tbody tr th:only-of-type {\n",
       "        vertical-align: middle;\n",
       "    }\n",
       "\n",
       "    .dataframe tbody tr th {\n",
       "        vertical-align: top;\n",
       "    }\n",
       "\n",
       "    .dataframe thead th {\n",
       "        text-align: right;\n",
       "    }\n",
       "</style>\n",
       "<table border=\"1\" class=\"dataframe\">\n",
       "  <thead>\n",
       "    <tr style=\"text-align: right;\">\n",
       "      <th></th>\n",
       "      <th>budget</th>\n",
       "      <th>refundable_support</th>\n",
       "      <th>nonrefundable_support</th>\n",
       "    </tr>\n",
       "  </thead>\n",
       "  <tbody>\n",
       "    <tr>\n",
       "      <td>2874</td>\n",
       "      <td>6,000,000.00</td>\n",
       "      <td>0.00</td>\n",
       "      <td>6,000,000.00</td>\n",
       "    </tr>\n",
       "    <tr>\n",
       "      <td>3139</td>\n",
       "      <td>14,462,464.00</td>\n",
       "      <td>0.00</td>\n",
       "      <td>4,700,000.00</td>\n",
       "    </tr>\n",
       "    <tr>\n",
       "      <td>7042</td>\n",
       "      <td>15,010,000.00</td>\n",
       "      <td>0.00</td>\n",
       "      <td>10,000,000.00</td>\n",
       "    </tr>\n",
       "    <tr>\n",
       "      <td>5576</td>\n",
       "      <td>18,166,418.00</td>\n",
       "      <td>0.00</td>\n",
       "      <td>8,000,000.00</td>\n",
       "    </tr>\n",
       "    <tr>\n",
       "      <td>3711</td>\n",
       "      <td>18,706,080.00</td>\n",
       "      <td>0.00</td>\n",
       "      <td>11,520,000.00</td>\n",
       "    </tr>\n",
       "  </tbody>\n",
       "</table>\n",
       "</div>"
      ],
      "text/plain": [
       "            budget  refundable_support  nonrefundable_support\n",
       "2874  6,000,000.00                0.00           6,000,000.00\n",
       "3139 14,462,464.00                0.00           4,700,000.00\n",
       "7042 15,010,000.00                0.00          10,000,000.00\n",
       "5576 18,166,418.00                0.00           8,000,000.00\n",
       "3711 18,706,080.00                0.00          11,520,000.00"
      ]
     },
     "execution_count": 22,
     "metadata": {},
     "output_type": "execute_result"
    }
   ],
   "source": [
    "mkrf_new[['budget', 'refundable_support', 'nonrefundable_support']].sort_values('budget').head()"
   ]
  },
  {
   "cell_type": "markdown",
   "metadata": {
    "id": "Eu6oWp2CgFyS"
   },
   "source": [
    "#### Шаг 2.6. Добавьте новые столбцы\n",
    "\n",
    "\n",
    "\n"
   ]
  },
  {
   "cell_type": "markdown",
   "metadata": {
    "id": "7GgW-UpAgFyS"
   },
   "source": [
    "- Создайте столбец с информацией о годе проката. Выделите год из даты премьеры фильма."
   ]
  },
  {
   "cell_type": "code",
   "execution_count": 23,
   "metadata": {
    "id": "I-yd1DkWgFyT"
   },
   "outputs": [
    {
     "data": {
      "text/html": [
       "<div>\n",
       "<style scoped>\n",
       "    .dataframe tbody tr th:only-of-type {\n",
       "        vertical-align: middle;\n",
       "    }\n",
       "\n",
       "    .dataframe tbody tr th {\n",
       "        vertical-align: top;\n",
       "    }\n",
       "\n",
       "    .dataframe thead th {\n",
       "        text-align: right;\n",
       "    }\n",
       "</style>\n",
       "<table border=\"1\" class=\"dataframe\">\n",
       "  <thead>\n",
       "    <tr style=\"text-align: right;\">\n",
       "      <th></th>\n",
       "      <th>title</th>\n",
       "      <th>puNumber</th>\n",
       "      <th>show_start_date</th>\n",
       "      <th>type</th>\n",
       "      <th>film_studio</th>\n",
       "      <th>production_country</th>\n",
       "      <th>director</th>\n",
       "      <th>producer</th>\n",
       "      <th>age_restriction</th>\n",
       "      <th>refundable_support</th>\n",
       "      <th>nonrefundable_support</th>\n",
       "      <th>budget</th>\n",
       "      <th>financing_source</th>\n",
       "      <th>ratings</th>\n",
       "      <th>genres</th>\n",
       "      <th>box_office</th>\n",
       "      <th>show_start_year</th>\n",
       "    </tr>\n",
       "  </thead>\n",
       "  <tbody>\n",
       "    <tr>\n",
       "      <td>0</td>\n",
       "      <td>Открытый простор</td>\n",
       "      <td>221048915</td>\n",
       "      <td>2015-11-27 12:00:00+00:00</td>\n",
       "      <td>Художественный</td>\n",
       "      <td>Тачстоун Пикчерз, Кобальт Пикчерз, Бикон Пикче...</td>\n",
       "      <td>США</td>\n",
       "      <td>Кевин Костнер</td>\n",
       "      <td>Дэвид Валдес, Кевин Костнер, Джейк Эбертс</td>\n",
       "      <td>«18+» - запрещено для детей</td>\n",
       "      <td>nan</td>\n",
       "      <td>nan</td>\n",
       "      <td>nan</td>\n",
       "      <td>NaN</td>\n",
       "      <td>7.20</td>\n",
       "      <td>боевик,драма,мелодрама</td>\n",
       "      <td>nan</td>\n",
       "      <td>2015</td>\n",
       "    </tr>\n",
       "    <tr>\n",
       "      <td>1</td>\n",
       "      <td>Особо важное задание</td>\n",
       "      <td>111013716</td>\n",
       "      <td>2016-09-13 12:00:00+00:00</td>\n",
       "      <td>Художественный</td>\n",
       "      <td>Киностудия \"Мосфильм\"</td>\n",
       "      <td>СССР</td>\n",
       "      <td>Е.Матвеев</td>\n",
       "      <td>unknown</td>\n",
       "      <td>«6+» - для детей старше 6 лет</td>\n",
       "      <td>nan</td>\n",
       "      <td>nan</td>\n",
       "      <td>nan</td>\n",
       "      <td>NaN</td>\n",
       "      <td>6.60</td>\n",
       "      <td>драма,военный</td>\n",
       "      <td>nan</td>\n",
       "      <td>2016</td>\n",
       "    </tr>\n",
       "    <tr>\n",
       "      <td>2</td>\n",
       "      <td>Особо опасен</td>\n",
       "      <td>221038416</td>\n",
       "      <td>2016-10-10 12:00:00+00:00</td>\n",
       "      <td>Художественный</td>\n",
       "      <td>Юниверсал Пикчерз, Кикстарт Продакшнз, Марк Пл...</td>\n",
       "      <td>США</td>\n",
       "      <td>Тимур Бекмамбетов</td>\n",
       "      <td>Джим Лемли, Джейсон Нетер, Марк Е.Платт, Яйн Смит</td>\n",
       "      <td>«18+» - запрещено для детей</td>\n",
       "      <td>nan</td>\n",
       "      <td>nan</td>\n",
       "      <td>nan</td>\n",
       "      <td>NaN</td>\n",
       "      <td>6.80</td>\n",
       "      <td>фантастика,боевик,триллер</td>\n",
       "      <td>nan</td>\n",
       "      <td>2016</td>\n",
       "    </tr>\n",
       "    <tr>\n",
       "      <td>3</td>\n",
       "      <td>Особо опасен</td>\n",
       "      <td>221026916</td>\n",
       "      <td>2016-06-10 12:00:00+00:00</td>\n",
       "      <td>Художественный</td>\n",
       "      <td>Юниверсал Пикчерз, Кикстарт Продакшнз, Марк Пл...</td>\n",
       "      <td>США</td>\n",
       "      <td>Тимур Бекмамбетов</td>\n",
       "      <td>Джим Лемли, Джейсон Нетер, Марк Е.Платт, Яйн Смит</td>\n",
       "      <td>«18+» - запрещено для детей</td>\n",
       "      <td>nan</td>\n",
       "      <td>nan</td>\n",
       "      <td>nan</td>\n",
       "      <td>NaN</td>\n",
       "      <td>6.80</td>\n",
       "      <td>фантастика,боевик,триллер</td>\n",
       "      <td>nan</td>\n",
       "      <td>2016</td>\n",
       "    </tr>\n",
       "    <tr>\n",
       "      <td>4</td>\n",
       "      <td>Особо опасен</td>\n",
       "      <td>221030815</td>\n",
       "      <td>2015-07-29 12:00:00+00:00</td>\n",
       "      <td>Художественный</td>\n",
       "      <td>Юниверсал Пикчерз, Кикстарт Продакшнз, Марк Пл...</td>\n",
       "      <td>США</td>\n",
       "      <td>Тимур Бекмамбетов</td>\n",
       "      <td>Джим Лемли, Джейсон Нетер, Марк Е.Платт, Яйн Смит</td>\n",
       "      <td>«18+» - запрещено для детей</td>\n",
       "      <td>nan</td>\n",
       "      <td>nan</td>\n",
       "      <td>nan</td>\n",
       "      <td>NaN</td>\n",
       "      <td>6.80</td>\n",
       "      <td>фантастика,боевик,триллер</td>\n",
       "      <td>nan</td>\n",
       "      <td>2015</td>\n",
       "    </tr>\n",
       "  </tbody>\n",
       "</table>\n",
       "</div>"
      ],
      "text/plain": [
       "                  title   puNumber           show_start_date            type  \\\n",
       "0      Открытый простор  221048915 2015-11-27 12:00:00+00:00  Художественный   \n",
       "1  Особо важное задание  111013716 2016-09-13 12:00:00+00:00  Художественный   \n",
       "2          Особо опасен  221038416 2016-10-10 12:00:00+00:00  Художественный   \n",
       "3          Особо опасен  221026916 2016-06-10 12:00:00+00:00  Художественный   \n",
       "4          Особо опасен  221030815 2015-07-29 12:00:00+00:00  Художественный   \n",
       "\n",
       "                                         film_studio production_country  \\\n",
       "0  Тачстоун Пикчерз, Кобальт Пикчерз, Бикон Пикче...                США   \n",
       "1                              Киностудия \"Мосфильм\"               СССР   \n",
       "2  Юниверсал Пикчерз, Кикстарт Продакшнз, Марк Пл...                США   \n",
       "3  Юниверсал Пикчерз, Кикстарт Продакшнз, Марк Пл...                США   \n",
       "4  Юниверсал Пикчерз, Кикстарт Продакшнз, Марк Пл...                США   \n",
       "\n",
       "            director                                           producer  \\\n",
       "0      Кевин Костнер          Дэвид Валдес, Кевин Костнер, Джейк Эбертс   \n",
       "1          Е.Матвеев                                            unknown   \n",
       "2  Тимур Бекмамбетов  Джим Лемли, Джейсон Нетер, Марк Е.Платт, Яйн Смит   \n",
       "3  Тимур Бекмамбетов  Джим Лемли, Джейсон Нетер, Марк Е.Платт, Яйн Смит   \n",
       "4  Тимур Бекмамбетов  Джим Лемли, Джейсон Нетер, Марк Е.Платт, Яйн Смит   \n",
       "\n",
       "                 age_restriction  refundable_support  nonrefundable_support  \\\n",
       "0    «18+» - запрещено для детей                 nan                    nan   \n",
       "1  «6+» - для детей старше 6 лет                 nan                    nan   \n",
       "2    «18+» - запрещено для детей                 nan                    nan   \n",
       "3    «18+» - запрещено для детей                 nan                    nan   \n",
       "4    «18+» - запрещено для детей                 nan                    nan   \n",
       "\n",
       "   budget financing_source  ratings                     genres  box_office  \\\n",
       "0     nan              NaN     7.20     боевик,драма,мелодрама         nan   \n",
       "1     nan              NaN     6.60              драма,военный         nan   \n",
       "2     nan              NaN     6.80  фантастика,боевик,триллер         nan   \n",
       "3     nan              NaN     6.80  фантастика,боевик,триллер         nan   \n",
       "4     nan              NaN     6.80  фантастика,боевик,триллер         nan   \n",
       "\n",
       "   show_start_year  \n",
       "0             2015  \n",
       "1             2016  \n",
       "2             2016  \n",
       "3             2016  \n",
       "4             2015  "
      ]
     },
     "execution_count": 23,
     "metadata": {},
     "output_type": "execute_result"
    }
   ],
   "source": [
    "# Добавляем столбец с годом проката.   \n",
    "mkrf_new['show_start_year'] = mkrf_new['show_start_date'].dt.year\n",
    "\n",
    "mkrf_new.head()"
   ]
  },
  {
   "cell_type": "markdown",
   "metadata": {
    "id": "nFTDLDYOgFyT"
   },
   "source": [
    "- Создайте два столбца: с именем и фамилией главного режиссёра и основным жанром фильма. В столбцы войдут первые значения из списка режиссёров и жанров соответственно.\n",
    "\n",
    "<div id=\"accordion\">\n",
    "    <div class=\"card\">\n",
    "        <div class=\"card-header\" id=\"headingThree\">\n",
    "            <button class=\"btn btn-link collapsed\" data-toggle=\"collapse\" data-target=\"#collapseHint_2\" aria-expanded=\"false\" aria-controls=\"collapseHint_2\">Подсказка</button>\n",
    "        </div>\n",
    "        <div id=\"collapseHint_2\" class=\"collapse\" aria-labelledby=\"headingThree\" data-parent=\"#accordion\">\n",
    "            <div class=\"card-body\">\n",
    "Чтобы создать такие столбцы, лучше всего использовать собственную функцию. Эту функцию можно применить к двум столбцам сразу. \n",
    "            </div>\n",
    "        </div>\n",
    "    </div>\n",
    "</div>"
   ]
  },
  {
   "cell_type": "code",
   "execution_count": 24,
   "metadata": {
    "id": "LSbRZKbMgFyU"
   },
   "outputs": [],
   "source": [
    "# создаем функцию для создания столбцов с первыми значениями из списка\n",
    "def func(column):\n",
    "    return column.split(',')[0]\n"
   ]
  },
  {
   "cell_type": "code",
   "execution_count": 25,
   "metadata": {
    "scrolled": false
   },
   "outputs": [
    {
     "data": {
      "text/html": [
       "<div>\n",
       "<style scoped>\n",
       "    .dataframe tbody tr th:only-of-type {\n",
       "        vertical-align: middle;\n",
       "    }\n",
       "\n",
       "    .dataframe tbody tr th {\n",
       "        vertical-align: top;\n",
       "    }\n",
       "\n",
       "    .dataframe thead th {\n",
       "        text-align: right;\n",
       "    }\n",
       "</style>\n",
       "<table border=\"1\" class=\"dataframe\">\n",
       "  <thead>\n",
       "    <tr style=\"text-align: right;\">\n",
       "      <th></th>\n",
       "      <th>title</th>\n",
       "      <th>puNumber</th>\n",
       "      <th>show_start_date</th>\n",
       "      <th>type</th>\n",
       "      <th>film_studio</th>\n",
       "      <th>production_country</th>\n",
       "      <th>director</th>\n",
       "      <th>producer</th>\n",
       "      <th>age_restriction</th>\n",
       "      <th>refundable_support</th>\n",
       "      <th>nonrefundable_support</th>\n",
       "      <th>budget</th>\n",
       "      <th>financing_source</th>\n",
       "      <th>ratings</th>\n",
       "      <th>genres</th>\n",
       "      <th>box_office</th>\n",
       "      <th>show_start_year</th>\n",
       "      <th>name_producer</th>\n",
       "      <th>name_genres</th>\n",
       "    </tr>\n",
       "  </thead>\n",
       "  <tbody>\n",
       "    <tr>\n",
       "      <td>0</td>\n",
       "      <td>Открытый простор</td>\n",
       "      <td>221048915</td>\n",
       "      <td>2015-11-27 12:00:00+00:00</td>\n",
       "      <td>Художественный</td>\n",
       "      <td>Тачстоун Пикчерз, Кобальт Пикчерз, Бикон Пикче...</td>\n",
       "      <td>США</td>\n",
       "      <td>Кевин Костнер</td>\n",
       "      <td>Дэвид Валдес, Кевин Костнер, Джейк Эбертс</td>\n",
       "      <td>«18+» - запрещено для детей</td>\n",
       "      <td>nan</td>\n",
       "      <td>nan</td>\n",
       "      <td>nan</td>\n",
       "      <td>NaN</td>\n",
       "      <td>7.20</td>\n",
       "      <td>боевик,драма,мелодрама</td>\n",
       "      <td>nan</td>\n",
       "      <td>2015</td>\n",
       "      <td>Дэвид Валдес</td>\n",
       "      <td>боевик</td>\n",
       "    </tr>\n",
       "    <tr>\n",
       "      <td>1</td>\n",
       "      <td>Особо важное задание</td>\n",
       "      <td>111013716</td>\n",
       "      <td>2016-09-13 12:00:00+00:00</td>\n",
       "      <td>Художественный</td>\n",
       "      <td>Киностудия \"Мосфильм\"</td>\n",
       "      <td>СССР</td>\n",
       "      <td>Е.Матвеев</td>\n",
       "      <td>unknown</td>\n",
       "      <td>«6+» - для детей старше 6 лет</td>\n",
       "      <td>nan</td>\n",
       "      <td>nan</td>\n",
       "      <td>nan</td>\n",
       "      <td>NaN</td>\n",
       "      <td>6.60</td>\n",
       "      <td>драма,военный</td>\n",
       "      <td>nan</td>\n",
       "      <td>2016</td>\n",
       "      <td>unknown</td>\n",
       "      <td>драма</td>\n",
       "    </tr>\n",
       "    <tr>\n",
       "      <td>2</td>\n",
       "      <td>Особо опасен</td>\n",
       "      <td>221038416</td>\n",
       "      <td>2016-10-10 12:00:00+00:00</td>\n",
       "      <td>Художественный</td>\n",
       "      <td>Юниверсал Пикчерз, Кикстарт Продакшнз, Марк Пл...</td>\n",
       "      <td>США</td>\n",
       "      <td>Тимур Бекмамбетов</td>\n",
       "      <td>Джим Лемли, Джейсон Нетер, Марк Е.Платт, Яйн Смит</td>\n",
       "      <td>«18+» - запрещено для детей</td>\n",
       "      <td>nan</td>\n",
       "      <td>nan</td>\n",
       "      <td>nan</td>\n",
       "      <td>NaN</td>\n",
       "      <td>6.80</td>\n",
       "      <td>фантастика,боевик,триллер</td>\n",
       "      <td>nan</td>\n",
       "      <td>2016</td>\n",
       "      <td>Джим Лемли</td>\n",
       "      <td>фантастика</td>\n",
       "    </tr>\n",
       "  </tbody>\n",
       "</table>\n",
       "</div>"
      ],
      "text/plain": [
       "                  title   puNumber           show_start_date            type  \\\n",
       "0      Открытый простор  221048915 2015-11-27 12:00:00+00:00  Художественный   \n",
       "1  Особо важное задание  111013716 2016-09-13 12:00:00+00:00  Художественный   \n",
       "2          Особо опасен  221038416 2016-10-10 12:00:00+00:00  Художественный   \n",
       "\n",
       "                                         film_studio production_country  \\\n",
       "0  Тачстоун Пикчерз, Кобальт Пикчерз, Бикон Пикче...                США   \n",
       "1                              Киностудия \"Мосфильм\"               СССР   \n",
       "2  Юниверсал Пикчерз, Кикстарт Продакшнз, Марк Пл...                США   \n",
       "\n",
       "            director                                           producer  \\\n",
       "0      Кевин Костнер          Дэвид Валдес, Кевин Костнер, Джейк Эбертс   \n",
       "1          Е.Матвеев                                            unknown   \n",
       "2  Тимур Бекмамбетов  Джим Лемли, Джейсон Нетер, Марк Е.Платт, Яйн Смит   \n",
       "\n",
       "                 age_restriction  refundable_support  nonrefundable_support  \\\n",
       "0    «18+» - запрещено для детей                 nan                    nan   \n",
       "1  «6+» - для детей старше 6 лет                 nan                    nan   \n",
       "2    «18+» - запрещено для детей                 nan                    nan   \n",
       "\n",
       "   budget financing_source  ratings                     genres  box_office  \\\n",
       "0     nan              NaN     7.20     боевик,драма,мелодрама         nan   \n",
       "1     nan              NaN     6.60              драма,военный         nan   \n",
       "2     nan              NaN     6.80  фантастика,боевик,триллер         nan   \n",
       "\n",
       "   show_start_year name_producer name_genres  \n",
       "0             2015  Дэвид Валдес      боевик  \n",
       "1             2016       unknown       драма  \n",
       "2             2016    Джим Лемли  фантастика  "
      ]
     },
     "execution_count": 25,
     "metadata": {},
     "output_type": "execute_result"
    }
   ],
   "source": [
    "# Создаем столбцы с первыми значения из списка режиссёров и жанров соответственно.\n",
    "mkrf_new['name_producer'] = mkrf_new['producer'].apply(func)\n",
    "mkrf_new['name_genres'] = mkrf_new['genres'].apply(func)\n",
    "\n",
    "mkrf_new.head(3)"
   ]
  },
  {
   "cell_type": "markdown",
   "metadata": {
    "id": "1FsCXHwdgFyU"
   },
   "source": [
    "- Посчитайте, какую долю от общего бюджета фильма составляет государственная поддержка."
   ]
  },
  {
   "cell_type": "code",
   "execution_count": 26,
   "metadata": {
    "id": "LV6qFuZLgFyV",
    "scrolled": false
   },
   "outputs": [
    {
     "data": {
      "text/html": [
       "<div>\n",
       "<style scoped>\n",
       "    .dataframe tbody tr th:only-of-type {\n",
       "        vertical-align: middle;\n",
       "    }\n",
       "\n",
       "    .dataframe tbody tr th {\n",
       "        vertical-align: top;\n",
       "    }\n",
       "\n",
       "    .dataframe thead th {\n",
       "        text-align: right;\n",
       "    }\n",
       "</style>\n",
       "<table border=\"1\" class=\"dataframe\">\n",
       "  <thead>\n",
       "    <tr style=\"text-align: right;\">\n",
       "      <th></th>\n",
       "      <th>title</th>\n",
       "      <th>puNumber</th>\n",
       "      <th>show_start_date</th>\n",
       "      <th>type</th>\n",
       "      <th>film_studio</th>\n",
       "      <th>production_country</th>\n",
       "      <th>director</th>\n",
       "      <th>producer</th>\n",
       "      <th>age_restriction</th>\n",
       "      <th>refundable_support</th>\n",
       "      <th>nonrefundable_support</th>\n",
       "      <th>budget</th>\n",
       "      <th>financing_source</th>\n",
       "      <th>ratings</th>\n",
       "      <th>genres</th>\n",
       "      <th>box_office</th>\n",
       "      <th>show_start_year</th>\n",
       "      <th>name_producer</th>\n",
       "      <th>name_genres</th>\n",
       "      <th>state_support</th>\n",
       "    </tr>\n",
       "  </thead>\n",
       "  <tbody>\n",
       "    <tr>\n",
       "      <td>2874</td>\n",
       "      <td>Помню - не помню!</td>\n",
       "      <td>111004916</td>\n",
       "      <td>2016-03-01 12:00:00+00:00</td>\n",
       "      <td>Художественный</td>\n",
       "      <td>ООО \"КиноФирма\"</td>\n",
       "      <td>Россия</td>\n",
       "      <td>В.Ровенский</td>\n",
       "      <td>ООО \"КиноФирма\"</td>\n",
       "      <td>«12+» - для детей старше 12 лет</td>\n",
       "      <td>0.00</td>\n",
       "      <td>6,000,000.00</td>\n",
       "      <td>6,000,000.00</td>\n",
       "      <td>Министерство культуры</td>\n",
       "      <td>4.30</td>\n",
       "      <td>комедия</td>\n",
       "      <td>15,362,931.43</td>\n",
       "      <td>2016</td>\n",
       "      <td>ООО \"КиноФирма\"</td>\n",
       "      <td>комедия</td>\n",
       "      <td>100.00</td>\n",
       "    </tr>\n",
       "    <tr>\n",
       "      <td>3047</td>\n",
       "      <td>Любовь с ограничениями</td>\n",
       "      <td>111008216</td>\n",
       "      <td>2016-04-29 12:00:00+00:00</td>\n",
       "      <td>Художественный</td>\n",
       "      <td>АО \"ВайТ Медиа\", ООО \"Арт Пикчерс Студия\"</td>\n",
       "      <td>Россия</td>\n",
       "      <td>Д.Тюрин</td>\n",
       "      <td>Ф.Бондарчук, Т.Вайнштейн, Д.Рудовский</td>\n",
       "      <td>«16+» - для детей старше 16 лет</td>\n",
       "      <td>19,000,000.00</td>\n",
       "      <td>51,000,000.00</td>\n",
       "      <td>70,000,000.00</td>\n",
       "      <td>Фонд кино</td>\n",
       "      <td>6.30</td>\n",
       "      <td>комедия,мелодрама</td>\n",
       "      <td>70,299,052.00</td>\n",
       "      <td>2016</td>\n",
       "      <td>Ф.Бондарчук</td>\n",
       "      <td>комедия</td>\n",
       "      <td>100.00</td>\n",
       "    </tr>\n",
       "    <tr>\n",
       "      <td>6323</td>\n",
       "      <td>Баба Яга</td>\n",
       "      <td>114006518</td>\n",
       "      <td>2018-11-08 12:00:00+00:00</td>\n",
       "      <td>Анимационный</td>\n",
       "      <td>ООО \"Арт Пикчерс Студия\"</td>\n",
       "      <td>Россия</td>\n",
       "      <td>В.Саков</td>\n",
       "      <td>ООО \"Арт Пикчерс Студия\", ООО \"КРИЭЙТИВ АНИМЭЙ...</td>\n",
       "      <td>«6+» - для детей старше 6 лет</td>\n",
       "      <td>0.00</td>\n",
       "      <td>138,969,465.00</td>\n",
       "      <td>138,969,465.00</td>\n",
       "      <td>Фонд кино</td>\n",
       "      <td>6.60</td>\n",
       "      <td>unknown</td>\n",
       "      <td>1,334,699.40</td>\n",
       "      <td>2018</td>\n",
       "      <td>ООО \"Арт Пикчерс Студия\"</td>\n",
       "      <td>unknown</td>\n",
       "      <td>100.00</td>\n",
       "    </tr>\n",
       "    <tr>\n",
       "      <td>6823</td>\n",
       "      <td>Большое путешествие</td>\n",
       "      <td>114002419</td>\n",
       "      <td>2019-04-20 12:00:00+00:00</td>\n",
       "      <td>Анимационный</td>\n",
       "      <td>ООО \"ЛИЦЕНЗИОННЫЕ БРЕНДЫ\"</td>\n",
       "      <td>Россия</td>\n",
       "      <td>Н.Лопато, В.Ровенский</td>\n",
       "      <td>ООО \"ЛИЦЕНЗИОННЫЕ БРЕНДЫ\"</td>\n",
       "      <td>«6+» - для детей старше 6 лет</td>\n",
       "      <td>60,000,000.00</td>\n",
       "      <td>120,000,000.00</td>\n",
       "      <td>180,000,000.00</td>\n",
       "      <td>Фонд кино</td>\n",
       "      <td>6.20</td>\n",
       "      <td>мультфильм,комедия,приключения</td>\n",
       "      <td>147,606,826.51</td>\n",
       "      <td>2019</td>\n",
       "      <td>ООО \"ЛИЦЕНЗИОННЫЕ БРЕНДЫ\"</td>\n",
       "      <td>мультфильм</td>\n",
       "      <td>100.00</td>\n",
       "    </tr>\n",
       "    <tr>\n",
       "      <td>2532</td>\n",
       "      <td>Бармен.</td>\n",
       "      <td>111009615</td>\n",
       "      <td>2015-05-26 12:00:00+00:00</td>\n",
       "      <td>Художественный</td>\n",
       "      <td>АО \"ВайТ Медиа\", ООО \"Арт Пикчерс Студия\"</td>\n",
       "      <td>Россия</td>\n",
       "      <td>Д.Штурманова</td>\n",
       "      <td>Т.Вайнштейн</td>\n",
       "      <td>«16+» - для детей старше 16 лет</td>\n",
       "      <td>20,000,000.00</td>\n",
       "      <td>0.00</td>\n",
       "      <td>20,000,000.00</td>\n",
       "      <td>Фонд кино</td>\n",
       "      <td>6.20</td>\n",
       "      <td>комедия,фэнтези</td>\n",
       "      <td>67,418,974.80</td>\n",
       "      <td>2015</td>\n",
       "      <td>Т.Вайнштейн</td>\n",
       "      <td>комедия</td>\n",
       "      <td>100.00</td>\n",
       "    </tr>\n",
       "  </tbody>\n",
       "</table>\n",
       "</div>"
      ],
      "text/plain": [
       "                       title   puNumber           show_start_date  \\\n",
       "2874       Помню - не помню!  111004916 2016-03-01 12:00:00+00:00   \n",
       "3047  Любовь с ограничениями  111008216 2016-04-29 12:00:00+00:00   \n",
       "6323                Баба Яга  114006518 2018-11-08 12:00:00+00:00   \n",
       "6823     Большое путешествие  114002419 2019-04-20 12:00:00+00:00   \n",
       "2532                 Бармен.  111009615 2015-05-26 12:00:00+00:00   \n",
       "\n",
       "                type                                film_studio  \\\n",
       "2874  Художественный                            ООО \"КиноФирма\"   \n",
       "3047  Художественный  АО \"ВайТ Медиа\", ООО \"Арт Пикчерс Студия\"   \n",
       "6323    Анимационный                   ООО \"Арт Пикчерс Студия\"   \n",
       "6823    Анимационный                  ООО \"ЛИЦЕНЗИОННЫЕ БРЕНДЫ\"   \n",
       "2532  Художественный  АО \"ВайТ Медиа\", ООО \"Арт Пикчерс Студия\"   \n",
       "\n",
       "     production_country               director  \\\n",
       "2874             Россия            В.Ровенский   \n",
       "3047             Россия                Д.Тюрин   \n",
       "6323             Россия                В.Саков   \n",
       "6823             Россия  Н.Лопато, В.Ровенский   \n",
       "2532             Россия           Д.Штурманова   \n",
       "\n",
       "                                               producer  \\\n",
       "2874                                    ООО \"КиноФирма\"   \n",
       "3047              Ф.Бондарчук, Т.Вайнштейн, Д.Рудовский   \n",
       "6323  ООО \"Арт Пикчерс Студия\", ООО \"КРИЭЙТИВ АНИМЭЙ...   \n",
       "6823                          ООО \"ЛИЦЕНЗИОННЫЕ БРЕНДЫ\"   \n",
       "2532                                        Т.Вайнштейн   \n",
       "\n",
       "                      age_restriction  refundable_support  \\\n",
       "2874  «12+» - для детей старше 12 лет                0.00   \n",
       "3047  «16+» - для детей старше 16 лет       19,000,000.00   \n",
       "6323    «6+» - для детей старше 6 лет                0.00   \n",
       "6823    «6+» - для детей старше 6 лет       60,000,000.00   \n",
       "2532  «16+» - для детей старше 16 лет       20,000,000.00   \n",
       "\n",
       "      nonrefundable_support         budget       financing_source  ratings  \\\n",
       "2874           6,000,000.00   6,000,000.00  Министерство культуры     4.30   \n",
       "3047          51,000,000.00  70,000,000.00              Фонд кино     6.30   \n",
       "6323         138,969,465.00 138,969,465.00              Фонд кино     6.60   \n",
       "6823         120,000,000.00 180,000,000.00              Фонд кино     6.20   \n",
       "2532                   0.00  20,000,000.00              Фонд кино     6.20   \n",
       "\n",
       "                              genres     box_office  show_start_year  \\\n",
       "2874                         комедия  15,362,931.43             2016   \n",
       "3047               комедия,мелодрама  70,299,052.00             2016   \n",
       "6323                         unknown   1,334,699.40             2018   \n",
       "6823  мультфильм,комедия,приключения 147,606,826.51             2019   \n",
       "2532                 комедия,фэнтези  67,418,974.80             2015   \n",
       "\n",
       "                  name_producer name_genres  state_support  \n",
       "2874            ООО \"КиноФирма\"     комедия         100.00  \n",
       "3047                Ф.Бондарчук     комедия         100.00  \n",
       "6323   ООО \"Арт Пикчерс Студия\"     unknown         100.00  \n",
       "6823  ООО \"ЛИЦЕНЗИОННЫЕ БРЕНДЫ\"  мультфильм         100.00  \n",
       "2532                Т.Вайнштейн     комедия         100.00  "
      ]
     },
     "execution_count": 26,
     "metadata": {},
     "output_type": "execute_result"
    }
   ],
   "source": [
    "# Создаем столбец, который содержит долю осударственной  поддержки от общего бюджета фильма.\n",
    "mkrf_new['state_support'] = (mkrf_new['refundable_support'] + mkrf_new['nonrefundable_support']) / mkrf_new['budget'] * 100\n",
    "\n",
    "# Сортируем mkrf_new по столбцу state_support в порядке убывания.\n",
    "mkrf_new.sort_values('state_support', ascending=False).head()"
   ]
  },
  {
   "cell_type": "code",
   "execution_count": 27,
   "metadata": {
    "scrolled": true
   },
   "outputs": [
    {
     "data": {
      "text/plain": [
       "count   332.00\n",
       "mean     54.21\n",
       "std      19.69\n",
       "min       4.40\n",
       "25%      38.46\n",
       "50%      61.40\n",
       "75%      66.14\n",
       "max     100.00\n",
       "Name: state_support, dtype: float64"
      ]
     },
     "execution_count": 27,
     "metadata": {},
     "output_type": "execute_result"
    }
   ],
   "source": [
    "# Получаем числовое описание столбца state_support.\n",
    "mkrf_new['state_support'].describe()"
   ]
  },
  {
   "cell_type": "code",
   "execution_count": 28,
   "metadata": {},
   "outputs": [
    {
     "data": {
      "text/plain": [
       "100.00    17\n",
       "64.94      6\n",
       "50.00      5\n",
       "66.67      5\n",
       "65.79      5\n",
       "          ..\n",
       "16.66      1\n",
       "65.62      1\n",
       "66.66      1\n",
       "43.49      1\n",
       "57.21      1\n",
       "Name: state_support, Length: 282, dtype: int64"
      ]
     },
     "execution_count": 28,
     "metadata": {},
     "output_type": "execute_result"
    }
   ],
   "source": [
    "# Получаем уникальные значения столбца state_support и количество их упоминаний\n",
    "mkrf_new['state_support'].value_counts()"
   ]
  },
  {
   "cell_type": "markdown",
   "metadata": {},
   "source": [
    "Всего имеется 332 фильма с государственной поддержкой. В среднем государственная поддержка составляет 54.21% от общего бюджета, однако медиана составляет 61,4%. При этом у 17 фильмов из 332 доля государственной поддержки составляет 100%."
   ]
  },
  {
   "cell_type": "markdown",
   "metadata": {
    "id": "6t4EukPLgFyV"
   },
   "source": [
    "### Шаг 3. Проведите исследовательский анализ данных\n"
   ]
  },
  {
   "cell_type": "markdown",
   "metadata": {
    "id": "vAH8WCzugFyV"
   },
   "source": [
    "- Посмотрите, сколько фильмов выходило в прокат каждый год. Обратите внимание, что данные о прокате в кинотеатрах известны не для всех фильмов. Посчитайте, какую долю составляют фильмы с указанной информацией о прокате в кинотеатрах."
   ]
  },
  {
   "cell_type": "code",
   "execution_count": 29,
   "metadata": {
    "id": "ABeV47y7gFyW",
    "scrolled": false
   },
   "outputs": [
    {
     "data": {
      "text/plain": [
       "<bound method Series.to_frame of 2010    985\n",
       "2019    930\n",
       "2018    891\n",
       "2016    818\n",
       "2014    807\n",
       "2015    705\n",
       "2013    630\n",
       "2011    622\n",
       "2012    593\n",
       "2017    505\n",
       "Name: show_start_year, dtype: int64>"
      ]
     },
     "metadata": {},
     "output_type": "display_data"
    },
    {
     "data": {
      "text/plain": [
       "<matplotlib.legend.Legend at 0x7f719012ffd0>"
      ]
     },
     "execution_count": 29,
     "metadata": {},
     "output_type": "execute_result"
    },
    {
     "data": {
      "image/png": "[encoded data removed]",
      "text/plain": [
       "<Figure size 720x432 with 1 Axes>"
      ]
     },
     "metadata": {
      "needs_background": "light"
     },
     "output_type": "display_data"
    }
   ],
   "source": [
    "# Получаем уникальные значения столбца show_start_year и количество их упоминаний\n",
    "display(mkrf_new['show_start_year'].value_counts().to_frame)\n",
    "\n",
    "# Строим гистограмму по количеству фильмов, вышедших в каждый год проката.\n",
    "mkrf_new.plot(y='show_start_year', kind='hist', bins=30, grid=True, figsize=(10,6))\n",
    "plt.title('Количество фильмов, вышедших в каждый год проката')\n",
    "plt.xlabel('Год выхода в прокат')\n",
    "plt.ylabel('Количество фильмов')\n",
    "plt.legend([])"
   ]
  },
  {
   "cell_type": "markdown",
   "metadata": {},
   "source": [
    "2010 является рекордным годом по количеству фильмов, вышедших в прокат - 985 фильмов. В 2011-2013 годах был застой, в эти года выходило по 590-630 фильмов, после чего в 2014 был рост до 807 с коррекцией в 2015 до 705, в 2016 значения вернулись до 818. В 2017 был большой спад, в прокат вышло всего 505 фильмов, что сало абсолютным минимумом за десятилетие. В 2018-2019 количество фильмов, вышедших в прокат, начало расти и стремится к уровну 2010 г. "
   ]
  },
  {
   "cell_type": "markdown",
   "metadata": {
    "id": "BEOdcIrIgFyW"
   },
   "source": [
    "- Изучите, как менялась динамика проката по годам. В каком году сумма сборов была минимальной? А максимальной?"
   ]
  },
  {
   "cell_type": "code",
   "execution_count": 30,
   "metadata": {},
   "outputs": [
    {
     "data": {
      "text/plain": [
       "show_start_year\n",
       "2010        2,428,654.00\n",
       "2011       14,102,765.00\n",
       "2012        6,955,423.00\n",
       "2013       29,799,706.20\n",
       "2014    7,444,951,859.20\n",
       "2015   39,497,365,196.40\n",
       "2016   47,866,299,741.91\n",
       "2017   48,563,707,217.51\n",
       "2018   49,668,403,134.32\n",
       "2019   48,425,708,779.59\n",
       "Name: box_office, dtype: float64"
      ]
     },
     "execution_count": 30,
     "metadata": {},
     "output_type": "execute_result"
    }
   ],
   "source": [
    "# Группируем по show_start_year и сравниваем значение с box_office, применяем метод sum.\n",
    "mkrf_new.groupby('show_start_year')['box_office'].sum()"
   ]
  },
  {
   "cell_type": "code",
   "execution_count": 31,
   "metadata": {
    "id": "tfEhofYvgFyX"
   },
   "outputs": [
    {
     "data": {
      "text/plain": [
       "Text(0, 0.5, 'Сумма сборов')"
      ]
     },
     "execution_count": 31,
     "metadata": {},
     "output_type": "execute_result"
    },
    {
     "data": {
      "image/png": "[encoded data removed]",
      "text/plain": [
       "<Figure size 720x432 with 1 Axes>"
      ]
     },
     "metadata": {
      "needs_background": "light"
     },
     "output_type": "display_data"
    }
   ],
   "source": [
    "# Строим график суммы сборов по годам.\n",
    "(mkrf_new\n",
    "    .groupby('show_start_year')['box_office'].sum()\n",
    "    .plot(x='show_start_year', y='box_office', style='o-', figsize=(10,6)))\n",
    "\n",
    "plt.title('Сумма сборов в каждый год проката')\n",
    "plt.xlabel('Год выхода в прокат')\n",
    "plt.ylabel('Сумма сборов')"
   ]
  },
  {
   "cell_type": "markdown",
   "metadata": {},
   "source": [
    "С 2013 по 2017 наблюдался рост сборов от прокатов фильмов. с 2017 г. сборы от проката примерно одинаковые. Минимальная сумма сборов зафиксирорвана в 2010 г., а максимальная в 2018 г. Однако эти данные не могут считаться объективными, так как имеется 57% пропусков в столбце со сборами. К тому же, 2010 г. был рекордным по количеству прокатов фильмов, даже с учетом инфляции сумма сборов в 2010 не может быть минимальной."
   ]
  },
  {
   "cell_type": "markdown",
   "metadata": {
    "id": "G-7qS-N-gFyY"
   },
   "source": [
    "- С помощью сводной таблицы посчитайте среднюю и медианную сумму сборов для каждого года."
   ]
  },
  {
   "cell_type": "code",
   "execution_count": 32,
   "metadata": {
    "id": "jmp-rgg9gFyY"
   },
   "outputs": [
    {
     "data": {
      "text/html": [
       "<div>\n",
       "<style scoped>\n",
       "    .dataframe tbody tr th:only-of-type {\n",
       "        vertical-align: middle;\n",
       "    }\n",
       "\n",
       "    .dataframe tbody tr th {\n",
       "        vertical-align: top;\n",
       "    }\n",
       "\n",
       "    .dataframe thead th {\n",
       "        text-align: right;\n",
       "    }\n",
       "</style>\n",
       "<table border=\"1\" class=\"dataframe\">\n",
       "  <thead>\n",
       "    <tr style=\"text-align: right;\">\n",
       "      <th></th>\n",
       "      <th>mean</th>\n",
       "      <th>median</th>\n",
       "    </tr>\n",
       "    <tr>\n",
       "      <th>show_start_year</th>\n",
       "      <th></th>\n",
       "      <th></th>\n",
       "    </tr>\n",
       "  </thead>\n",
       "  <tbody>\n",
       "    <tr>\n",
       "      <td>2010</td>\n",
       "      <td>23,130.04</td>\n",
       "      <td>1,700.00</td>\n",
       "    </tr>\n",
       "    <tr>\n",
       "      <td>2011</td>\n",
       "      <td>129,383.17</td>\n",
       "      <td>3,000.00</td>\n",
       "    </tr>\n",
       "    <tr>\n",
       "      <td>2012</td>\n",
       "      <td>54,339.24</td>\n",
       "      <td>5,660.00</td>\n",
       "    </tr>\n",
       "    <tr>\n",
       "      <td>2013</td>\n",
       "      <td>161,954.92</td>\n",
       "      <td>3,522.50</td>\n",
       "    </tr>\n",
       "    <tr>\n",
       "      <td>2014</td>\n",
       "      <td>26,684,415.27</td>\n",
       "      <td>18,160.00</td>\n",
       "    </tr>\n",
       "    <tr>\n",
       "      <td>2015</td>\n",
       "      <td>84,940,570.31</td>\n",
       "      <td>4,920,933.00</td>\n",
       "    </tr>\n",
       "    <tr>\n",
       "      <td>2016</td>\n",
       "      <td>91,000,569.85</td>\n",
       "      <td>3,846,679.41</td>\n",
       "    </tr>\n",
       "    <tr>\n",
       "      <td>2017</td>\n",
       "      <td>136,032,793.33</td>\n",
       "      <td>9,968,340.00</td>\n",
       "    </tr>\n",
       "    <tr>\n",
       "      <td>2018</td>\n",
       "      <td>104,565,059.23</td>\n",
       "      <td>8,891,102.21</td>\n",
       "    </tr>\n",
       "    <tr>\n",
       "      <td>2019</td>\n",
       "      <td>91,369,261.85</td>\n",
       "      <td>4,627,798.34</td>\n",
       "    </tr>\n",
       "  </tbody>\n",
       "</table>\n",
       "</div>"
      ],
      "text/plain": [
       "                          mean       median\n",
       "show_start_year                            \n",
       "2010                 23,130.04     1,700.00\n",
       "2011                129,383.17     3,000.00\n",
       "2012                 54,339.24     5,660.00\n",
       "2013                161,954.92     3,522.50\n",
       "2014             26,684,415.27    18,160.00\n",
       "2015             84,940,570.31 4,920,933.00\n",
       "2016             91,000,569.85 3,846,679.41\n",
       "2017            136,032,793.33 9,968,340.00\n",
       "2018            104,565,059.23 8,891,102.21\n",
       "2019             91,369,261.85 4,627,798.34"
      ]
     },
     "execution_count": 32,
     "metadata": {},
     "output_type": "execute_result"
    }
   ],
   "source": [
    "# Создаем сводную таблицу для столбцов show_start_year, box_office,\n",
    "# считаем среднее и медиану.\n",
    "median_box_office = mkrf_new.pivot_table(index='show_start_year', values='box_office', aggfunc = ['mean', 'median'])\n",
    "\n",
    "# Переименовываем названия столбцов\n",
    "median_box_office.columns = ['mean', 'median']\n",
    "\n",
    "# Выводим median_box_office.\n",
    "median_box_office"
   ]
  },
  {
   "cell_type": "markdown",
   "metadata": {
    "id": "Ok89WFwJgFyZ"
   },
   "source": [
    "- Определите, влияет ли возрастное ограничение аудитории («6+», «12+», «16+», «18+» и т. д.) на сборы фильма в прокате в период с 2015 по 2019 год? Фильмы с каким возрастным ограничением собрали больше всего денег в прокате? Меняется ли картина в зависимости от года? Если да, предположите, с чем это может быть связано."
   ]
  },
  {
   "cell_type": "code",
   "execution_count": 33,
   "metadata": {
    "id": "jsSbEqfjgFya"
   },
   "outputs": [
    {
     "data": {
      "text/html": [
       "<div>\n",
       "<style scoped>\n",
       "    .dataframe tbody tr th:only-of-type {\n",
       "        vertical-align: middle;\n",
       "    }\n",
       "\n",
       "    .dataframe tbody tr th {\n",
       "        vertical-align: top;\n",
       "    }\n",
       "\n",
       "    .dataframe thead th {\n",
       "        text-align: right;\n",
       "    }\n",
       "</style>\n",
       "<table border=\"1\" class=\"dataframe\">\n",
       "  <thead>\n",
       "    <tr style=\"text-align: right;\">\n",
       "      <th></th>\n",
       "      <th>box_office</th>\n",
       "    </tr>\n",
       "    <tr>\n",
       "      <th>age_restriction</th>\n",
       "      <th></th>\n",
       "    </tr>\n",
       "  </thead>\n",
       "  <tbody>\n",
       "    <tr>\n",
       "      <td>«0+» - для любой зрительской аудитории</td>\n",
       "      <td>809,077,425.97</td>\n",
       "    </tr>\n",
       "    <tr>\n",
       "      <td>«12+» - для детей старше 12 лет</td>\n",
       "      <td>60,619,446,628.33</td>\n",
       "    </tr>\n",
       "    <tr>\n",
       "      <td>«16+» - для детей старше 16 лет</td>\n",
       "      <td>76,034,733,643.63</td>\n",
       "    </tr>\n",
       "    <tr>\n",
       "      <td>«18+» - запрещено для детей</td>\n",
       "      <td>40,759,615,572.12</td>\n",
       "    </tr>\n",
       "    <tr>\n",
       "      <td>«6+» - для детей старше 6 лет</td>\n",
       "      <td>55,798,610,799.68</td>\n",
       "    </tr>\n",
       "  </tbody>\n",
       "</table>\n",
       "</div>"
      ],
      "text/plain": [
       "                                              box_office\n",
       "age_restriction                                         \n",
       "«0+» - для любой зрительской аудитории    809,077,425.97\n",
       "«12+» - для детей старше 12 лет        60,619,446,628.33\n",
       "«16+» - для детей старше 16 лет        76,034,733,643.63\n",
       "«18+» - запрещено для детей            40,759,615,572.12\n",
       "«6+» - для детей старше 6 лет          55,798,610,799.68"
      ]
     },
     "execution_count": 33,
     "metadata": {},
     "output_type": "execute_result"
    }
   ],
   "source": [
    "# Делаем срез для столбца show_start_year, получаем данные с 2015 года.\n",
    "age_restriction_year = mkrf_new.query('show_start_year >= 2015')\n",
    "\n",
    "# Группируем данные столбца age_restriction по столбцу box_office и находим сумму сборов\n",
    "age_restriction_year.groupby('age_restriction')['box_office'].sum().to_frame()"
   ]
  },
  {
   "cell_type": "code",
   "execution_count": 34,
   "metadata": {},
   "outputs": [
    {
     "data": {
      "text/plain": [
       "Text(0.5, 1.0, 'Распределение суммы сборов в зависимости от возрастного ограничения')"
      ]
     },
     "execution_count": 34,
     "metadata": {},
     "output_type": "execute_result"
    },
    {
     "data": {
      "image/png": "[encoded data removed]",
      "text/plain": [
       "<Figure size 648x648 with 1 Axes>"
      ]
     },
     "metadata": {},
     "output_type": "display_data"
    }
   ],
   "source": [
    "age_restriction_year.groupby('age_restriction')['box_office'].sum().plot(kind='pie', figsize=(9, 9), autopct='%1.1f%%')\n",
    "\n",
    "plt.title('Распределение суммы сборов в зависимости от возрастного ограничения')"
   ]
  },
  {
   "cell_type": "markdown",
   "metadata": {},
   "source": [
    "В период с 2015 по 2019 год больше всего денег в прокате собрали фильмы с возрастным ограниечением «16+», «12+», «6+». Меньше всего фильмы с возрастным ограничением «0+»."
   ]
  },
  {
   "cell_type": "code",
   "execution_count": 35,
   "metadata": {
    "scrolled": true
   },
   "outputs": [
    {
     "data": {
      "text/html": [
       "<div>\n",
       "<style scoped>\n",
       "    .dataframe tbody tr th:only-of-type {\n",
       "        vertical-align: middle;\n",
       "    }\n",
       "\n",
       "    .dataframe tbody tr th {\n",
       "        vertical-align: top;\n",
       "    }\n",
       "\n",
       "    .dataframe thead th {\n",
       "        text-align: right;\n",
       "    }\n",
       "</style>\n",
       "<table border=\"1\" class=\"dataframe\">\n",
       "  <thead>\n",
       "    <tr style=\"text-align: right;\">\n",
       "      <th></th>\n",
       "      <th>2015</th>\n",
       "      <th>2016</th>\n",
       "      <th>2017</th>\n",
       "      <th>2018</th>\n",
       "      <th>2019</th>\n",
       "    </tr>\n",
       "    <tr>\n",
       "      <th>age_restriction</th>\n",
       "      <th></th>\n",
       "      <th></th>\n",
       "      <th></th>\n",
       "      <th></th>\n",
       "      <th></th>\n",
       "    </tr>\n",
       "  </thead>\n",
       "  <tbody>\n",
       "    <tr>\n",
       "      <td>«0+» - для любой зрительской аудитории</td>\n",
       "      <td>379,054,578.37</td>\n",
       "      <td>150,228,848.67</td>\n",
       "      <td>229,598,930.00</td>\n",
       "      <td>32,449,002.11</td>\n",
       "      <td>17,746,066.82</td>\n",
       "    </tr>\n",
       "    <tr>\n",
       "      <td>«12+» - для детей старше 12 лет</td>\n",
       "      <td>13,616,082,008.91</td>\n",
       "      <td>12,204,446,524.39</td>\n",
       "      <td>7,851,427,660.67</td>\n",
       "      <td>14,267,291,660.69</td>\n",
       "      <td>12,680,198,773.67</td>\n",
       "    </tr>\n",
       "    <tr>\n",
       "      <td>«16+» - для детей старше 16 лет</td>\n",
       "      <td>11,368,120,870.27</td>\n",
       "      <td>16,664,548,541.74</td>\n",
       "      <td>18,745,042,900.06</td>\n",
       "      <td>16,503,602,346.96</td>\n",
       "      <td>12,753,418,984.60</td>\n",
       "    </tr>\n",
       "    <tr>\n",
       "      <td>«18+» - запрещено для детей</td>\n",
       "      <td>5,432,308,367.44</td>\n",
       "      <td>6,793,929,818.87</td>\n",
       "      <td>9,651,495,581.02</td>\n",
       "      <td>8,760,085,501.15</td>\n",
       "      <td>10,121,796,303.64</td>\n",
       "    </tr>\n",
       "    <tr>\n",
       "      <td>«6+» - для детей старше 6 лет</td>\n",
       "      <td>8,701,799,371.41</td>\n",
       "      <td>12,053,146,008.24</td>\n",
       "      <td>12,086,142,145.76</td>\n",
       "      <td>10,104,974,623.41</td>\n",
       "      <td>12,852,548,650.86</td>\n",
       "    </tr>\n",
       "  </tbody>\n",
       "</table>\n",
       "</div>"
      ],
      "text/plain": [
       "                                                    2015              2016  \\\n",
       "age_restriction                                                              \n",
       "«0+» - для любой зрительской аудитории    379,054,578.37    150,228,848.67   \n",
       "«12+» - для детей старше 12 лет        13,616,082,008.91 12,204,446,524.39   \n",
       "«16+» - для детей старше 16 лет        11,368,120,870.27 16,664,548,541.74   \n",
       "«18+» - запрещено для детей             5,432,308,367.44  6,793,929,818.87   \n",
       "«6+» - для детей старше 6 лет           8,701,799,371.41 12,053,146,008.24   \n",
       "\n",
       "                                                    2017              2018  \\\n",
       "age_restriction                                                              \n",
       "«0+» - для любой зрительской аудитории    229,598,930.00     32,449,002.11   \n",
       "«12+» - для детей старше 12 лет         7,851,427,660.67 14,267,291,660.69   \n",
       "«16+» - для детей старше 16 лет        18,745,042,900.06 16,503,602,346.96   \n",
       "«18+» - запрещено для детей             9,651,495,581.02  8,760,085,501.15   \n",
       "«6+» - для детей старше 6 лет          12,086,142,145.76 10,104,974,623.41   \n",
       "\n",
       "                                                    2019  \n",
       "age_restriction                                           \n",
       "«0+» - для любой зрительской аудитории     17,746,066.82  \n",
       "«12+» - для детей старше 12 лет        12,680,198,773.67  \n",
       "«16+» - для детей старше 16 лет        12,753,418,984.60  \n",
       "«18+» - запрещено для детей            10,121,796,303.64  \n",
       "«6+» - для детей старше 6 лет          12,852,548,650.86  "
      ]
     },
     "execution_count": 35,
     "metadata": {},
     "output_type": "execute_result"
    }
   ],
   "source": [
    "# Создаем сводную таблицу с суммой сборов по годам для различных возрастных ограничений\n",
    "sum_age_restriction_year = age_restriction_year.pivot_table(index='age_restriction', columns='show_start_year', \n",
    "                                            values='box_office', aggfunc = ['sum'])\n",
    "\n",
    "# Переименовываем стобцы sum_age_restriction_year\n",
    "sum_age_restriction_year.columns = ['2015', '2016', '2017', '2018', '2019']\n",
    "sum_age_restriction_year"
   ]
  },
  {
   "cell_type": "code",
   "execution_count": 36,
   "metadata": {},
   "outputs": [
    {
     "data": {
      "text/html": [
       "<div>\n",
       "<style scoped>\n",
       "    .dataframe tbody tr th:only-of-type {\n",
       "        vertical-align: middle;\n",
       "    }\n",
       "\n",
       "    .dataframe tbody tr th {\n",
       "        vertical-align: top;\n",
       "    }\n",
       "\n",
       "    .dataframe thead tr th {\n",
       "        text-align: left;\n",
       "    }\n",
       "\n",
       "    .dataframe thead tr:last-of-type th {\n",
       "        text-align: right;\n",
       "    }\n",
       "</style>\n",
       "<table border=\"1\" class=\"dataframe\">\n",
       "  <thead>\n",
       "    <tr>\n",
       "      <th></th>\n",
       "      <th colspan=\"5\" halign=\"left\">count</th>\n",
       "    </tr>\n",
       "    <tr>\n",
       "      <th>show_start_year</th>\n",
       "      <th>2015</th>\n",
       "      <th>2016</th>\n",
       "      <th>2017</th>\n",
       "      <th>2018</th>\n",
       "      <th>2019</th>\n",
       "    </tr>\n",
       "    <tr>\n",
       "      <th>age_restriction</th>\n",
       "      <th></th>\n",
       "      <th></th>\n",
       "      <th></th>\n",
       "      <th></th>\n",
       "      <th></th>\n",
       "    </tr>\n",
       "  </thead>\n",
       "  <tbody>\n",
       "    <tr>\n",
       "      <td>«0+» - для любой зрительской аудитории</td>\n",
       "      <td>39</td>\n",
       "      <td>41</td>\n",
       "      <td>3</td>\n",
       "      <td>5</td>\n",
       "      <td>3</td>\n",
       "    </tr>\n",
       "    <tr>\n",
       "      <td>«12+» - для детей старше 12 лет</td>\n",
       "      <td>73</td>\n",
       "      <td>82</td>\n",
       "      <td>41</td>\n",
       "      <td>67</td>\n",
       "      <td>85</td>\n",
       "    </tr>\n",
       "    <tr>\n",
       "      <td>«16+» - для детей старше 16 лет</td>\n",
       "      <td>168</td>\n",
       "      <td>182</td>\n",
       "      <td>121</td>\n",
       "      <td>156</td>\n",
       "      <td>178</td>\n",
       "    </tr>\n",
       "    <tr>\n",
       "      <td>«18+» - запрещено для детей</td>\n",
       "      <td>132</td>\n",
       "      <td>151</td>\n",
       "      <td>147</td>\n",
       "      <td>179</td>\n",
       "      <td>183</td>\n",
       "    </tr>\n",
       "    <tr>\n",
       "      <td>«6+» - для детей старше 6 лет</td>\n",
       "      <td>53</td>\n",
       "      <td>70</td>\n",
       "      <td>45</td>\n",
       "      <td>68</td>\n",
       "      <td>81</td>\n",
       "    </tr>\n",
       "  </tbody>\n",
       "</table>\n",
       "</div>"
      ],
      "text/plain": [
       "                                       count                    \n",
       "show_start_year                         2015 2016 2017 2018 2019\n",
       "age_restriction                                                 \n",
       "«0+» - для любой зрительской аудитории    39   41    3    5    3\n",
       "«12+» - для детей старше 12 лет           73   82   41   67   85\n",
       "«16+» - для детей старше 16 лет          168  182  121  156  178\n",
       "«18+» - запрещено для детей              132  151  147  179  183\n",
       "«6+» - для детей старше 6 лет             53   70   45   68   81"
      ]
     },
     "metadata": {},
     "output_type": "display_data"
    }
   ],
   "source": [
    "display(age_restriction_year.pivot_table(index='age_restriction', columns='show_start_year', \n",
    "                                            values='box_office', aggfunc = ['count']))"
   ]
  },
  {
   "cell_type": "markdown",
   "metadata": {},
   "source": [
    "Картина в зависимости от года меняется не сильно. Больше всего денег в прокате собрали фильмы с возрастным ограниечением «16+», «12+», «6+». Меньше всего фильмы с возрастным ограничением «0+». Однако сумма сборов меняется год от года в зависимости от возрастного ограничения. Так, сборы фильмов «18+» с 2015 г. только увеличивались, в 2015г. составляли 5 млрд. 433 млн., а в 2019 - 10 млрд. 121 млн., а для фильмов «16+» рекорд по сборам был в 2017 г., после чего сборы сравнялись с уровнем 2015 года. Причиной роста сборов фильмов «18+» является увеличение фильмов, вышедших в прокат с 132 фильмов в 2015, до 183 в 2019. Для фильмов  «16+» рекорд по сборам был в 2017 г., однако в этот  год в прокат вышло меньше всего фильмов, а сумма сборов рекордная. Причиной рекордных сборов может быть больший интерес зрителя к вышедшим картинам."
   ]
  },
  {
   "cell_type": "markdown",
   "metadata": {
    "id": "l_Kg6Ku4gFya"
   },
   "source": [
    "### Шаг 4. Исследуйте фильмы, которые получили государственную поддержку\n",
    "\n",
    "На этом этапе нет конкретных инструкций и заданий — поищите интересные закономерности в данных. Посмотрите, сколько выделяют средств на поддержку кино. Проверьте, хорошо ли окупаются такие фильмы, какой у них рейтинг."
   ]
  },
  {
   "cell_type": "code",
   "execution_count": 37,
   "metadata": {
    "id": "W9QKpjUdgFyb",
    "scrolled": false
   },
   "outputs": [
    {
     "data": {
      "text/html": [
       "<div>\n",
       "<style scoped>\n",
       "    .dataframe tbody tr th:only-of-type {\n",
       "        vertical-align: middle;\n",
       "    }\n",
       "\n",
       "    .dataframe tbody tr th {\n",
       "        vertical-align: top;\n",
       "    }\n",
       "\n",
       "    .dataframe thead th {\n",
       "        text-align: right;\n",
       "    }\n",
       "</style>\n",
       "<table border=\"1\" class=\"dataframe\">\n",
       "  <thead>\n",
       "    <tr style=\"text-align: right;\">\n",
       "      <th></th>\n",
       "      <th>title</th>\n",
       "      <th>puNumber</th>\n",
       "      <th>show_start_date</th>\n",
       "      <th>type</th>\n",
       "      <th>film_studio</th>\n",
       "      <th>production_country</th>\n",
       "      <th>director</th>\n",
       "      <th>producer</th>\n",
       "      <th>age_restriction</th>\n",
       "      <th>refundable_support</th>\n",
       "      <th>nonrefundable_support</th>\n",
       "      <th>budget</th>\n",
       "      <th>financing_source</th>\n",
       "      <th>ratings</th>\n",
       "      <th>genres</th>\n",
       "      <th>box_office</th>\n",
       "      <th>show_start_year</th>\n",
       "      <th>name_producer</th>\n",
       "      <th>name_genres</th>\n",
       "      <th>state_support</th>\n",
       "    </tr>\n",
       "  </thead>\n",
       "  <tbody>\n",
       "    <tr>\n",
       "      <td>1281</td>\n",
       "      <td>Пока еще жива</td>\n",
       "      <td>111005313</td>\n",
       "      <td>2013-10-11 12:00:00+00:00</td>\n",
       "      <td>Художественный</td>\n",
       "      <td>АНО содействия развитию кинематографии \"Ангел-...</td>\n",
       "      <td>Россия</td>\n",
       "      <td>А.Атанесян</td>\n",
       "      <td>А.Атанесян, М.Бабаханов, Р.Бутко</td>\n",
       "      <td>«16+» - для детей старше 16 лет</td>\n",
       "      <td>0.00</td>\n",
       "      <td>26,500,000.00</td>\n",
       "      <td>79,411,900.00</td>\n",
       "      <td>Министерство культуры</td>\n",
       "      <td>8.10</td>\n",
       "      <td>драма,мелодрама</td>\n",
       "      <td>365,353.60</td>\n",
       "      <td>2013</td>\n",
       "      <td>А.Атанесян</td>\n",
       "      <td>драма</td>\n",
       "      <td>33.37</td>\n",
       "    </tr>\n",
       "    <tr>\n",
       "      <td>1448</td>\n",
       "      <td>Бесславные придурки</td>\n",
       "      <td>111003314</td>\n",
       "      <td>2014-03-28 12:00:00+00:00</td>\n",
       "      <td>Художественный</td>\n",
       "      <td>ООО \"Компания \"АТК-Студио\"</td>\n",
       "      <td>Россия</td>\n",
       "      <td>А.Якимчук</td>\n",
       "      <td>А.Тютрюмов</td>\n",
       "      <td>«12+» - для детей старше 12 лет</td>\n",
       "      <td>0.00</td>\n",
       "      <td>26,000,000.00</td>\n",
       "      <td>37,142,857.00</td>\n",
       "      <td>Министерство культуры</td>\n",
       "      <td>6.60</td>\n",
       "      <td>unknown</td>\n",
       "      <td>28,140.00</td>\n",
       "      <td>2014</td>\n",
       "      <td>А.Тютрюмов</td>\n",
       "      <td>unknown</td>\n",
       "      <td>70.00</td>\n",
       "    </tr>\n",
       "    <tr>\n",
       "      <td>1498</td>\n",
       "      <td>Невидимки</td>\n",
       "      <td>111004213</td>\n",
       "      <td>2013-09-10 12:00:00+00:00</td>\n",
       "      <td>Художественный</td>\n",
       "      <td>ООО \"Компания \"РЕАЛ-ДАКОТА\"</td>\n",
       "      <td>Россия</td>\n",
       "      <td>Р.Давлетьяров, С.Комаров</td>\n",
       "      <td>Р.Давлетьяров, А.Котелевский, А.Олейников</td>\n",
       "      <td>«12+» - для детей старше 12 лет</td>\n",
       "      <td>0.00</td>\n",
       "      <td>107,847,945.00</td>\n",
       "      <td>176,023,490.00</td>\n",
       "      <td>Фонд кино</td>\n",
       "      <td>5.30</td>\n",
       "      <td>комедия,фантастика</td>\n",
       "      <td>19,957,031.50</td>\n",
       "      <td>2013</td>\n",
       "      <td>Р.Давлетьяров</td>\n",
       "      <td>комедия</td>\n",
       "      <td>61.27</td>\n",
       "    </tr>\n",
       "    <tr>\n",
       "      <td>1524</td>\n",
       "      <td>БЕРЦЫ</td>\n",
       "      <td>111004314</td>\n",
       "      <td>2014-05-05 12:00:00+00:00</td>\n",
       "      <td>Художественный</td>\n",
       "      <td>ООО \"Студия \"Пассажир\"</td>\n",
       "      <td>Россия</td>\n",
       "      <td>Е.Миндадзе (псевдоним Катя Шагалова)</td>\n",
       "      <td>Л.Антонова</td>\n",
       "      <td>«16+» - для детей старше 16 лет</td>\n",
       "      <td>0.00</td>\n",
       "      <td>28,000,000.00</td>\n",
       "      <td>40,574,140.00</td>\n",
       "      <td>Министерство культуры</td>\n",
       "      <td>4.20</td>\n",
       "      <td>драма</td>\n",
       "      <td>55,917.50</td>\n",
       "      <td>2014</td>\n",
       "      <td>Л.Антонова</td>\n",
       "      <td>драма</td>\n",
       "      <td>69.01</td>\n",
       "    </tr>\n",
       "    <tr>\n",
       "      <td>1792</td>\n",
       "      <td>Братья Ч</td>\n",
       "      <td>111004414</td>\n",
       "      <td>2014-04-23 12:00:00+00:00</td>\n",
       "      <td>Художественный</td>\n",
       "      <td>ООО \"Студия \"Пассажир\"</td>\n",
       "      <td>Россия</td>\n",
       "      <td>М.Угаров</td>\n",
       "      <td>А.Миндадзе, Л.Антонова</td>\n",
       "      <td>«16+» - для детей старше 16 лет</td>\n",
       "      <td>0.00</td>\n",
       "      <td>25,000,000.00</td>\n",
       "      <td>40,015,122.00</td>\n",
       "      <td>Министерство культуры</td>\n",
       "      <td>6.40</td>\n",
       "      <td>драма</td>\n",
       "      <td>232,100.00</td>\n",
       "      <td>2014</td>\n",
       "      <td>А.Миндадзе</td>\n",
       "      <td>драма</td>\n",
       "      <td>62.48</td>\n",
       "    </tr>\n",
       "  </tbody>\n",
       "</table>\n",
       "</div>"
      ],
      "text/plain": [
       "                    title   puNumber           show_start_date  \\\n",
       "1281        Пока еще жива  111005313 2013-10-11 12:00:00+00:00   \n",
       "1448  Бесславные придурки  111003314 2014-03-28 12:00:00+00:00   \n",
       "1498            Невидимки  111004213 2013-09-10 12:00:00+00:00   \n",
       "1524                БЕРЦЫ  111004314 2014-05-05 12:00:00+00:00   \n",
       "1792             Братья Ч  111004414 2014-04-23 12:00:00+00:00   \n",
       "\n",
       "                type                                        film_studio  \\\n",
       "1281  Художественный  АНО содействия развитию кинематографии \"Ангел-...   \n",
       "1448  Художественный                         ООО \"Компания \"АТК-Студио\"   \n",
       "1498  Художественный                        ООО \"Компания \"РЕАЛ-ДАКОТА\"   \n",
       "1524  Художественный                             ООО \"Студия \"Пассажир\"   \n",
       "1792  Художественный                             ООО \"Студия \"Пассажир\"   \n",
       "\n",
       "     production_country                              director  \\\n",
       "1281             Россия                            А.Атанесян   \n",
       "1448             Россия                             А.Якимчук   \n",
       "1498             Россия              Р.Давлетьяров, С.Комаров   \n",
       "1524             Россия  Е.Миндадзе (псевдоним Катя Шагалова)   \n",
       "1792             Россия                              М.Угаров   \n",
       "\n",
       "                                       producer  \\\n",
       "1281           А.Атанесян, М.Бабаханов, Р.Бутко   \n",
       "1448                                 А.Тютрюмов   \n",
       "1498  Р.Давлетьяров, А.Котелевский, А.Олейников   \n",
       "1524                                 Л.Антонова   \n",
       "1792                     А.Миндадзе, Л.Антонова   \n",
       "\n",
       "                      age_restriction  refundable_support  \\\n",
       "1281  «16+» - для детей старше 16 лет                0.00   \n",
       "1448  «12+» - для детей старше 12 лет                0.00   \n",
       "1498  «12+» - для детей старше 12 лет                0.00   \n",
       "1524  «16+» - для детей старше 16 лет                0.00   \n",
       "1792  «16+» - для детей старше 16 лет                0.00   \n",
       "\n",
       "      nonrefundable_support         budget       financing_source  ratings  \\\n",
       "1281          26,500,000.00  79,411,900.00  Министерство культуры     8.10   \n",
       "1448          26,000,000.00  37,142,857.00  Министерство культуры     6.60   \n",
       "1498         107,847,945.00 176,023,490.00              Фонд кино     5.30   \n",
       "1524          28,000,000.00  40,574,140.00  Министерство культуры     4.20   \n",
       "1792          25,000,000.00  40,015,122.00  Министерство культуры     6.40   \n",
       "\n",
       "                  genres    box_office  show_start_year  name_producer  \\\n",
       "1281     драма,мелодрама    365,353.60             2013     А.Атанесян   \n",
       "1448             unknown     28,140.00             2014     А.Тютрюмов   \n",
       "1498  комедия,фантастика 19,957,031.50             2013  Р.Давлетьяров   \n",
       "1524               драма     55,917.50             2014     Л.Антонова   \n",
       "1792               драма    232,100.00             2014     А.Миндадзе   \n",
       "\n",
       "     name_genres  state_support  \n",
       "1281       драма          33.37  \n",
       "1448     unknown          70.00  \n",
       "1498     комедия          61.27  \n",
       "1524       драма          69.01  \n",
       "1792       драма          62.48  "
      ]
     },
     "execution_count": 37,
     "metadata": {},
     "output_type": "execute_result"
    }
   ],
   "source": [
    "# Создаем срез с фильмами, получившими государственную поддержку\n",
    "films_with_state_support = mkrf_new.query('state_support > 0')\n",
    "films_with_state_support.head()"
   ]
  },
  {
   "cell_type": "code",
   "execution_count": 38,
   "metadata": {
    "scrolled": true
   },
   "outputs": [
    {
     "data": {
      "text/plain": [
       "20200688312.0"
      ]
     },
     "metadata": {},
     "output_type": "display_data"
    }
   ],
   "source": [
    "# Считаем сумму государственной поддержки.\n",
    "display((films_with_state_support['refundable_support'] + films_with_state_support['nonrefundable_support']).sum())"
   ]
  },
  {
   "cell_type": "code",
   "execution_count": 39,
   "metadata": {},
   "outputs": [
    {
     "data": {
      "text/plain": [
       "3939000000.0"
      ]
     },
     "metadata": {},
     "output_type": "display_data"
    }
   ],
   "source": [
    "# Считаем объём возвратных средств государственной поддержки.\n",
    "display(films_with_state_support['refundable_support'].sum())"
   ]
  },
  {
   "cell_type": "code",
   "execution_count": 40,
   "metadata": {},
   "outputs": [
    {
     "data": {
      "text/plain": [
       "16261688312.0"
      ]
     },
     "metadata": {},
     "output_type": "display_data"
    }
   ],
   "source": [
    "# Считаем объём невозвратных средств государственной поддержки.\n",
    "display(films_with_state_support['nonrefundable_support'].sum())"
   ]
  },
  {
   "cell_type": "code",
   "execution_count": 41,
   "metadata": {},
   "outputs": [
    {
     "data": {
      "text/plain": [
       "42113509574.78"
      ]
     },
     "metadata": {},
     "output_type": "display_data"
    }
   ],
   "source": [
    "# Считаем сумму кассовых сборов\n",
    "display(films_with_state_support['box_office'].sum())\n"
   ]
  },
  {
   "cell_type": "code",
   "execution_count": 42,
   "metadata": {},
   "outputs": [
    {
     "data": {
      "text/plain": [
       "43632235404.0"
      ]
     },
     "metadata": {},
     "output_type": "display_data"
    }
   ],
   "source": [
    "# Считаем сумму бюджета фильмов.\n",
    "display(films_with_state_support['budget'].sum())"
   ]
  },
  {
   "cell_type": "code",
   "execution_count": 43,
   "metadata": {},
   "outputs": [
    {
     "data": {
      "text/plain": [
       "46.29762405010332"
      ]
     },
     "metadata": {},
     "output_type": "display_data"
    }
   ],
   "source": [
    "display((films_with_state_support['refundable_support'] + films_with_state_support['nonrefundable_support']).sum() / \n",
    "        films_with_state_support['budget'].sum() * 100)"
   ]
  },
  {
   "cell_type": "markdown",
   "metadata": {},
   "source": [
    "Всего имеется 332 фильма, получивших государственную поддержку. Общий бюджет фильмов 43 млрд. 632 млн. Объем государственной поддержки составляет 20 млрд. 200 млн., что составляет 46% от общего бюджета фильмов, из них объём возвратных средств государственной поддержки 3 млрд. 939 млн. При этом сумма кассовых сборов составляет 42 млрд. 113 млн., что меньше суммы бюджета этих фильмов. Если брать в целом, то фильмы с государственной поддержкой являются убыточными."
   ]
  },
  {
   "cell_type": "code",
   "execution_count": 44,
   "metadata": {},
   "outputs": [
    {
     "data": {
      "text/html": [
       "<div>\n",
       "<style scoped>\n",
       "    .dataframe tbody tr th:only-of-type {\n",
       "        vertical-align: middle;\n",
       "    }\n",
       "\n",
       "    .dataframe tbody tr th {\n",
       "        vertical-align: top;\n",
       "    }\n",
       "\n",
       "    .dataframe thead th {\n",
       "        text-align: right;\n",
       "    }\n",
       "</style>\n",
       "<table border=\"1\" class=\"dataframe\">\n",
       "  <thead>\n",
       "    <tr style=\"text-align: right;\">\n",
       "      <th></th>\n",
       "      <th>title</th>\n",
       "      <th>puNumber</th>\n",
       "      <th>show_start_date</th>\n",
       "      <th>type</th>\n",
       "      <th>film_studio</th>\n",
       "      <th>production_country</th>\n",
       "      <th>director</th>\n",
       "      <th>producer</th>\n",
       "      <th>age_restriction</th>\n",
       "      <th>refundable_support</th>\n",
       "      <th>nonrefundable_support</th>\n",
       "      <th>budget</th>\n",
       "      <th>financing_source</th>\n",
       "      <th>ratings</th>\n",
       "      <th>genres</th>\n",
       "      <th>box_office</th>\n",
       "      <th>show_start_year</th>\n",
       "      <th>name_producer</th>\n",
       "      <th>name_genres</th>\n",
       "      <th>state_support</th>\n",
       "    </tr>\n",
       "  </thead>\n",
       "  <tbody>\n",
       "    <tr>\n",
       "      <td>1281</td>\n",
       "      <td>Пока еще жива</td>\n",
       "      <td>111005313</td>\n",
       "      <td>2013-10-11 12:00:00+00:00</td>\n",
       "      <td>Художественный</td>\n",
       "      <td>АНО содействия развитию кинематографии \"Ангел-...</td>\n",
       "      <td>Россия</td>\n",
       "      <td>А.Атанесян</td>\n",
       "      <td>А.Атанесян, М.Бабаханов, Р.Бутко</td>\n",
       "      <td>«16+» - для детей старше 16 лет</td>\n",
       "      <td>0.00</td>\n",
       "      <td>26,500,000.00</td>\n",
       "      <td>79,411,900.00</td>\n",
       "      <td>Министерство культуры</td>\n",
       "      <td>8.10</td>\n",
       "      <td>драма,мелодрама</td>\n",
       "      <td>365,353.60</td>\n",
       "      <td>2013</td>\n",
       "      <td>А.Атанесян</td>\n",
       "      <td>драма</td>\n",
       "      <td>33.37</td>\n",
       "    </tr>\n",
       "    <tr>\n",
       "      <td>1448</td>\n",
       "      <td>Бесславные придурки</td>\n",
       "      <td>111003314</td>\n",
       "      <td>2014-03-28 12:00:00+00:00</td>\n",
       "      <td>Художественный</td>\n",
       "      <td>ООО \"Компания \"АТК-Студио\"</td>\n",
       "      <td>Россия</td>\n",
       "      <td>А.Якимчук</td>\n",
       "      <td>А.Тютрюмов</td>\n",
       "      <td>«12+» - для детей старше 12 лет</td>\n",
       "      <td>0.00</td>\n",
       "      <td>26,000,000.00</td>\n",
       "      <td>37,142,857.00</td>\n",
       "      <td>Министерство культуры</td>\n",
       "      <td>6.60</td>\n",
       "      <td>unknown</td>\n",
       "      <td>28,140.00</td>\n",
       "      <td>2014</td>\n",
       "      <td>А.Тютрюмов</td>\n",
       "      <td>unknown</td>\n",
       "      <td>70.00</td>\n",
       "    </tr>\n",
       "    <tr>\n",
       "      <td>1498</td>\n",
       "      <td>Невидимки</td>\n",
       "      <td>111004213</td>\n",
       "      <td>2013-09-10 12:00:00+00:00</td>\n",
       "      <td>Художественный</td>\n",
       "      <td>ООО \"Компания \"РЕАЛ-ДАКОТА\"</td>\n",
       "      <td>Россия</td>\n",
       "      <td>Р.Давлетьяров, С.Комаров</td>\n",
       "      <td>Р.Давлетьяров, А.Котелевский, А.Олейников</td>\n",
       "      <td>«12+» - для детей старше 12 лет</td>\n",
       "      <td>0.00</td>\n",
       "      <td>107,847,945.00</td>\n",
       "      <td>176,023,490.00</td>\n",
       "      <td>Фонд кино</td>\n",
       "      <td>5.30</td>\n",
       "      <td>комедия,фантастика</td>\n",
       "      <td>19,957,031.50</td>\n",
       "      <td>2013</td>\n",
       "      <td>Р.Давлетьяров</td>\n",
       "      <td>комедия</td>\n",
       "      <td>61.27</td>\n",
       "    </tr>\n",
       "    <tr>\n",
       "      <td>1524</td>\n",
       "      <td>БЕРЦЫ</td>\n",
       "      <td>111004314</td>\n",
       "      <td>2014-05-05 12:00:00+00:00</td>\n",
       "      <td>Художественный</td>\n",
       "      <td>ООО \"Студия \"Пассажир\"</td>\n",
       "      <td>Россия</td>\n",
       "      <td>Е.Миндадзе (псевдоним Катя Шагалова)</td>\n",
       "      <td>Л.Антонова</td>\n",
       "      <td>«16+» - для детей старше 16 лет</td>\n",
       "      <td>0.00</td>\n",
       "      <td>28,000,000.00</td>\n",
       "      <td>40,574,140.00</td>\n",
       "      <td>Министерство культуры</td>\n",
       "      <td>4.20</td>\n",
       "      <td>драма</td>\n",
       "      <td>55,917.50</td>\n",
       "      <td>2014</td>\n",
       "      <td>Л.Антонова</td>\n",
       "      <td>драма</td>\n",
       "      <td>69.01</td>\n",
       "    </tr>\n",
       "    <tr>\n",
       "      <td>1792</td>\n",
       "      <td>Братья Ч</td>\n",
       "      <td>111004414</td>\n",
       "      <td>2014-04-23 12:00:00+00:00</td>\n",
       "      <td>Художественный</td>\n",
       "      <td>ООО \"Студия \"Пассажир\"</td>\n",
       "      <td>Россия</td>\n",
       "      <td>М.Угаров</td>\n",
       "      <td>А.Миндадзе, Л.Антонова</td>\n",
       "      <td>«16+» - для детей старше 16 лет</td>\n",
       "      <td>0.00</td>\n",
       "      <td>25,000,000.00</td>\n",
       "      <td>40,015,122.00</td>\n",
       "      <td>Министерство культуры</td>\n",
       "      <td>6.40</td>\n",
       "      <td>драма</td>\n",
       "      <td>232,100.00</td>\n",
       "      <td>2014</td>\n",
       "      <td>А.Миндадзе</td>\n",
       "      <td>драма</td>\n",
       "      <td>62.48</td>\n",
       "    </tr>\n",
       "  </tbody>\n",
       "</table>\n",
       "</div>"
      ],
      "text/plain": [
       "                    title   puNumber           show_start_date  \\\n",
       "1281        Пока еще жива  111005313 2013-10-11 12:00:00+00:00   \n",
       "1448  Бесславные придурки  111003314 2014-03-28 12:00:00+00:00   \n",
       "1498            Невидимки  111004213 2013-09-10 12:00:00+00:00   \n",
       "1524                БЕРЦЫ  111004314 2014-05-05 12:00:00+00:00   \n",
       "1792             Братья Ч  111004414 2014-04-23 12:00:00+00:00   \n",
       "\n",
       "                type                                        film_studio  \\\n",
       "1281  Художественный  АНО содействия развитию кинематографии \"Ангел-...   \n",
       "1448  Художественный                         ООО \"Компания \"АТК-Студио\"   \n",
       "1498  Художественный                        ООО \"Компания \"РЕАЛ-ДАКОТА\"   \n",
       "1524  Художественный                             ООО \"Студия \"Пассажир\"   \n",
       "1792  Художественный                             ООО \"Студия \"Пассажир\"   \n",
       "\n",
       "     production_country                              director  \\\n",
       "1281             Россия                            А.Атанесян   \n",
       "1448             Россия                             А.Якимчук   \n",
       "1498             Россия              Р.Давлетьяров, С.Комаров   \n",
       "1524             Россия  Е.Миндадзе (псевдоним Катя Шагалова)   \n",
       "1792             Россия                              М.Угаров   \n",
       "\n",
       "                                       producer  \\\n",
       "1281           А.Атанесян, М.Бабаханов, Р.Бутко   \n",
       "1448                                 А.Тютрюмов   \n",
       "1498  Р.Давлетьяров, А.Котелевский, А.Олейников   \n",
       "1524                                 Л.Антонова   \n",
       "1792                     А.Миндадзе, Л.Антонова   \n",
       "\n",
       "                      age_restriction  refundable_support  \\\n",
       "1281  «16+» - для детей старше 16 лет                0.00   \n",
       "1448  «12+» - для детей старше 12 лет                0.00   \n",
       "1498  «12+» - для детей старше 12 лет                0.00   \n",
       "1524  «16+» - для детей старше 16 лет                0.00   \n",
       "1792  «16+» - для детей старше 16 лет                0.00   \n",
       "\n",
       "      nonrefundable_support         budget       financing_source  ratings  \\\n",
       "1281          26,500,000.00  79,411,900.00  Министерство культуры     8.10   \n",
       "1448          26,000,000.00  37,142,857.00  Министерство культуры     6.60   \n",
       "1498         107,847,945.00 176,023,490.00              Фонд кино     5.30   \n",
       "1524          28,000,000.00  40,574,140.00  Министерство культуры     4.20   \n",
       "1792          25,000,000.00  40,015,122.00  Министерство культуры     6.40   \n",
       "\n",
       "                  genres    box_office  show_start_year  name_producer  \\\n",
       "1281     драма,мелодрама    365,353.60             2013     А.Атанесян   \n",
       "1448             unknown     28,140.00             2014     А.Тютрюмов   \n",
       "1498  комедия,фантастика 19,957,031.50             2013  Р.Давлетьяров   \n",
       "1524               драма     55,917.50             2014     Л.Антонова   \n",
       "1792               драма    232,100.00             2014     А.Миндадзе   \n",
       "\n",
       "     name_genres  state_support  \n",
       "1281       драма          33.37  \n",
       "1448     unknown          70.00  \n",
       "1498     комедия          61.27  \n",
       "1524       драма          69.01  \n",
       "1792       драма          62.48  "
      ]
     },
     "metadata": {},
     "output_type": "display_data"
    }
   ],
   "source": [
    "# Создаем срез с фильмами, бюджет которых меньше суммы кассовых сборов.\n",
    "display(films_with_state_support.query('budget > box_office').head())"
   ]
  },
  {
   "cell_type": "code",
   "execution_count": 45,
   "metadata": {
    "scrolled": false
   },
   "outputs": [
    {
     "data": {
      "text/html": [
       "<div>\n",
       "<style scoped>\n",
       "    .dataframe tbody tr th:only-of-type {\n",
       "        vertical-align: middle;\n",
       "    }\n",
       "\n",
       "    .dataframe tbody tr th {\n",
       "        vertical-align: top;\n",
       "    }\n",
       "\n",
       "    .dataframe thead th {\n",
       "        text-align: right;\n",
       "    }\n",
       "</style>\n",
       "<table border=\"1\" class=\"dataframe\">\n",
       "  <thead>\n",
       "    <tr style=\"text-align: right;\">\n",
       "      <th></th>\n",
       "      <th>title</th>\n",
       "      <th>puNumber</th>\n",
       "      <th>show_start_date</th>\n",
       "      <th>type</th>\n",
       "      <th>film_studio</th>\n",
       "      <th>production_country</th>\n",
       "      <th>director</th>\n",
       "      <th>producer</th>\n",
       "      <th>age_restriction</th>\n",
       "      <th>refundable_support</th>\n",
       "      <th>nonrefundable_support</th>\n",
       "      <th>budget</th>\n",
       "      <th>financing_source</th>\n",
       "      <th>ratings</th>\n",
       "      <th>genres</th>\n",
       "      <th>box_office</th>\n",
       "      <th>show_start_year</th>\n",
       "      <th>name_producer</th>\n",
       "      <th>name_genres</th>\n",
       "      <th>state_support</th>\n",
       "    </tr>\n",
       "  </thead>\n",
       "  <tbody>\n",
       "    <tr>\n",
       "      <td>2538</td>\n",
       "      <td>Наследники (2015)</td>\n",
       "      <td>111018515</td>\n",
       "      <td>2015-10-22 12:00:00+00:00</td>\n",
       "      <td>Художественный</td>\n",
       "      <td>Культурный фонд \"Кино-телекомпания \"Православн...</td>\n",
       "      <td>Россия</td>\n",
       "      <td>В.Хотиненко</td>\n",
       "      <td>С.Кравец, В.Хотиненко</td>\n",
       "      <td>«16+» - для детей старше 16 лет</td>\n",
       "      <td>7,153,119.00</td>\n",
       "      <td>28,000,000.00</td>\n",
       "      <td>50,218,741.00</td>\n",
       "      <td>Министерство культуры, Фонд кино</td>\n",
       "      <td>6.10</td>\n",
       "      <td>мюзикл,фэнтези,комедия</td>\n",
       "      <td>194,780.00</td>\n",
       "      <td>2015</td>\n",
       "      <td>С.Кравец</td>\n",
       "      <td>мюзикл</td>\n",
       "      <td>70.00</td>\n",
       "    </tr>\n",
       "    <tr>\n",
       "      <td>2683</td>\n",
       "      <td>Дабл трабл</td>\n",
       "      <td>111009215</td>\n",
       "      <td>2015-05-18 12:00:00+00:00</td>\n",
       "      <td>Художественный</td>\n",
       "      <td>ООО \"ТаББаК\", ООО \"Весёлая Компания\"</td>\n",
       "      <td>Россия</td>\n",
       "      <td>Э.Оганесян</td>\n",
       "      <td>Т.Бекмамбетов, М.Затуловская</td>\n",
       "      <td>«12+» - для детей старше 12 лет</td>\n",
       "      <td>44,000,000.00</td>\n",
       "      <td>0.00</td>\n",
       "      <td>64,030,080.00</td>\n",
       "      <td>Фонд кино</td>\n",
       "      <td>4.30</td>\n",
       "      <td>комедия,мелодрама</td>\n",
       "      <td>19,654,526.30</td>\n",
       "      <td>2015</td>\n",
       "      <td>Т.Бекмамбетов</td>\n",
       "      <td>комедия</td>\n",
       "      <td>68.72</td>\n",
       "    </tr>\n",
       "    <tr>\n",
       "      <td>2723</td>\n",
       "      <td>Чистое искусство.</td>\n",
       "      <td>111008715</td>\n",
       "      <td>2015-05-05 12:00:00+00:00</td>\n",
       "      <td>Художественный</td>\n",
       "      <td>ООО \"КОМПАНИЯ \"РЕАЛ-ДАКОТА\"</td>\n",
       "      <td>Россия</td>\n",
       "      <td>Р.Давлетьяров</td>\n",
       "      <td>Р.Давлетьяров</td>\n",
       "      <td>«16+» - для детей старше 16 лет</td>\n",
       "      <td>15,000,000.00</td>\n",
       "      <td>60,000,000.00</td>\n",
       "      <td>111,736,163.00</td>\n",
       "      <td>Фонд кино</td>\n",
       "      <td>5.90</td>\n",
       "      <td>триллер,детектив</td>\n",
       "      <td>6,457,303.02</td>\n",
       "      <td>2015</td>\n",
       "      <td>Р.Давлетьяров</td>\n",
       "      <td>триллер</td>\n",
       "      <td>67.12</td>\n",
       "    </tr>\n",
       "    <tr>\n",
       "      <td>2733</td>\n",
       "      <td>Неуловимые: последний герой</td>\n",
       "      <td>111017415</td>\n",
       "      <td>2015-09-30 12:00:00+00:00</td>\n",
       "      <td>Художественный</td>\n",
       "      <td>ООО \"Энджой мувиз\", ООО \"Ультра стори\"</td>\n",
       "      <td>Россия</td>\n",
       "      <td>А.Аксененко</td>\n",
       "      <td>Г.Малков, В.Поляков, И.Капитонов, В.Муругов</td>\n",
       "      <td>«16+» - для детей старше 16 лет</td>\n",
       "      <td>25,000,000.00</td>\n",
       "      <td>0.00</td>\n",
       "      <td>73,379,554.00</td>\n",
       "      <td>Фонд кино</td>\n",
       "      <td>3.30</td>\n",
       "      <td>мелодрама,криминал</td>\n",
       "      <td>11,034,433.20</td>\n",
       "      <td>2015</td>\n",
       "      <td>Г.Малков</td>\n",
       "      <td>мелодрама</td>\n",
       "      <td>34.07</td>\n",
       "    </tr>\n",
       "    <tr>\n",
       "      <td>2769</td>\n",
       "      <td>Коробка.</td>\n",
       "      <td>111013215</td>\n",
       "      <td>2015-08-21 12:00:00+00:00</td>\n",
       "      <td>Художественный</td>\n",
       "      <td>ООО \"Телесто-фильм\"</td>\n",
       "      <td>Россия</td>\n",
       "      <td>Э.Бордуков</td>\n",
       "      <td>Е.Гликман, М.Дегтярь, Я.Живов</td>\n",
       "      <td>«12+» - для детей старше 12 лет</td>\n",
       "      <td>10,000,000.00</td>\n",
       "      <td>24,450,000.00</td>\n",
       "      <td>58,078,451.00</td>\n",
       "      <td>Министерство культуры, Фонд кино</td>\n",
       "      <td>6.90</td>\n",
       "      <td>драма,спорт,комедия</td>\n",
       "      <td>9,977,812.50</td>\n",
       "      <td>2015</td>\n",
       "      <td>Е.Гликман</td>\n",
       "      <td>драма</td>\n",
       "      <td>59.32</td>\n",
       "    </tr>\n",
       "  </tbody>\n",
       "</table>\n",
       "</div>"
      ],
      "text/plain": [
       "                            title   puNumber           show_start_date  \\\n",
       "2538            Наследники (2015)  111018515 2015-10-22 12:00:00+00:00   \n",
       "2683                   Дабл трабл  111009215 2015-05-18 12:00:00+00:00   \n",
       "2723            Чистое искусство.  111008715 2015-05-05 12:00:00+00:00   \n",
       "2733  Неуловимые: последний герой  111017415 2015-09-30 12:00:00+00:00   \n",
       "2769                     Коробка.  111013215 2015-08-21 12:00:00+00:00   \n",
       "\n",
       "                type                                        film_studio  \\\n",
       "2538  Художественный  Культурный фонд \"Кино-телекомпания \"Православн...   \n",
       "2683  Художественный               ООО \"ТаББаК\", ООО \"Весёлая Компания\"   \n",
       "2723  Художественный                        ООО \"КОМПАНИЯ \"РЕАЛ-ДАКОТА\"   \n",
       "2733  Художественный             ООО \"Энджой мувиз\", ООО \"Ультра стори\"   \n",
       "2769  Художественный                                ООО \"Телесто-фильм\"   \n",
       "\n",
       "     production_country       director  \\\n",
       "2538             Россия    В.Хотиненко   \n",
       "2683             Россия     Э.Оганесян   \n",
       "2723             Россия  Р.Давлетьяров   \n",
       "2733             Россия    А.Аксененко   \n",
       "2769             Россия     Э.Бордуков   \n",
       "\n",
       "                                         producer  \\\n",
       "2538                        С.Кравец, В.Хотиненко   \n",
       "2683                 Т.Бекмамбетов, М.Затуловская   \n",
       "2723                                Р.Давлетьяров   \n",
       "2733  Г.Малков, В.Поляков, И.Капитонов, В.Муругов   \n",
       "2769                Е.Гликман, М.Дегтярь, Я.Живов   \n",
       "\n",
       "                      age_restriction  refundable_support  \\\n",
       "2538  «16+» - для детей старше 16 лет        7,153,119.00   \n",
       "2683  «12+» - для детей старше 12 лет       44,000,000.00   \n",
       "2723  «16+» - для детей старше 16 лет       15,000,000.00   \n",
       "2733  «16+» - для детей старше 16 лет       25,000,000.00   \n",
       "2769  «12+» - для детей старше 12 лет       10,000,000.00   \n",
       "\n",
       "      nonrefundable_support         budget                  financing_source  \\\n",
       "2538          28,000,000.00  50,218,741.00  Министерство культуры, Фонд кино   \n",
       "2683                   0.00  64,030,080.00                         Фонд кино   \n",
       "2723          60,000,000.00 111,736,163.00                         Фонд кино   \n",
       "2733                   0.00  73,379,554.00                         Фонд кино   \n",
       "2769          24,450,000.00  58,078,451.00  Министерство культуры, Фонд кино   \n",
       "\n",
       "      ratings                  genres    box_office  show_start_year  \\\n",
       "2538     6.10  мюзикл,фэнтези,комедия    194,780.00             2015   \n",
       "2683     4.30       комедия,мелодрама 19,654,526.30             2015   \n",
       "2723     5.90        триллер,детектив  6,457,303.02             2015   \n",
       "2733     3.30      мелодрама,криминал 11,034,433.20             2015   \n",
       "2769     6.90     драма,спорт,комедия  9,977,812.50             2015   \n",
       "\n",
       "      name_producer name_genres  state_support  \n",
       "2538       С.Кравец      мюзикл          70.00  \n",
       "2683  Т.Бекмамбетов     комедия          68.72  \n",
       "2723  Р.Давлетьяров     триллер          67.12  \n",
       "2733       Г.Малков   мелодрама          34.07  \n",
       "2769      Е.Гликман       драма          59.32  "
      ]
     },
     "metadata": {},
     "output_type": "display_data"
    }
   ],
   "source": [
    "# Создаем срез с фильмами, сборы которых меньше бъёма возвратных средств государственной поддержки.\n",
    "display(films_with_state_support.query('refundable_support > box_office').head())"
   ]
  },
  {
   "cell_type": "markdown",
   "metadata": {},
   "source": [
    "Всего имеется 332 фильма, получивших государственную поддержку, из низ у 239 фильмов бюджет превышает сумму сборов, а у 26 фильмов сборы меньше объема возвратных средств государственной поддержки. 72% фильмов, получивших государственную поддержку, являются убыточными."
   ]
  },
  {
   "cell_type": "code",
   "execution_count": 46,
   "metadata": {
    "scrolled": false
   },
   "outputs": [
    {
     "data": {
      "text/plain": [
       "show_start_year\n",
       "2013   6.70\n",
       "2014   6.04\n",
       "2015   6.10\n",
       "2016   5.74\n",
       "2017   6.03\n",
       "2018   6.03\n",
       "2019   6.19\n",
       "Name: ratings, dtype: float64"
      ]
     },
     "metadata": {},
     "output_type": "display_data"
    }
   ],
   "source": [
    "display(films_with_state_support.groupby('show_start_year')['ratings'].mean())"
   ]
  },
  {
   "cell_type": "code",
   "execution_count": 47,
   "metadata": {
    "scrolled": true
   },
   "outputs": [
    {
     "data": {
      "text/html": [
       "<div>\n",
       "<style scoped>\n",
       "    .dataframe tbody tr th:only-of-type {\n",
       "        vertical-align: middle;\n",
       "    }\n",
       "\n",
       "    .dataframe tbody tr th {\n",
       "        vertical-align: top;\n",
       "    }\n",
       "\n",
       "    .dataframe thead th {\n",
       "        text-align: right;\n",
       "    }\n",
       "</style>\n",
       "<table border=\"1\" class=\"dataframe\">\n",
       "  <thead>\n",
       "    <tr style=\"text-align: right;\">\n",
       "      <th></th>\n",
       "      <th>ratings</th>\n",
       "    </tr>\n",
       "  </thead>\n",
       "  <tbody>\n",
       "    <tr>\n",
       "      <td>count</td>\n",
       "      <td>332.00</td>\n",
       "    </tr>\n",
       "    <tr>\n",
       "      <td>mean</td>\n",
       "      <td>6.03</td>\n",
       "    </tr>\n",
       "    <tr>\n",
       "      <td>std</td>\n",
       "      <td>1.10</td>\n",
       "    </tr>\n",
       "    <tr>\n",
       "      <td>min</td>\n",
       "      <td>1.00</td>\n",
       "    </tr>\n",
       "    <tr>\n",
       "      <td>25%</td>\n",
       "      <td>5.40</td>\n",
       "    </tr>\n",
       "    <tr>\n",
       "      <td>50%</td>\n",
       "      <td>6.20</td>\n",
       "    </tr>\n",
       "    <tr>\n",
       "      <td>75%</td>\n",
       "      <td>6.70</td>\n",
       "    </tr>\n",
       "    <tr>\n",
       "      <td>max</td>\n",
       "      <td>8.50</td>\n",
       "    </tr>\n",
       "  </tbody>\n",
       "</table>\n",
       "</div>"
      ],
      "text/plain": [
       "       ratings\n",
       "count   332.00\n",
       "mean      6.03\n",
       "std       1.10\n",
       "min       1.00\n",
       "25%       5.40\n",
       "50%       6.20\n",
       "75%       6.70\n",
       "max       8.50"
      ]
     },
     "metadata": {},
     "output_type": "display_data"
    }
   ],
   "source": [
    "# Выводим средний рейтинг фильмов, получивших государственную поддержку.\n",
    "display(films_with_state_support['ratings'].describe().to_frame())"
   ]
  },
  {
   "cell_type": "code",
   "execution_count": 48,
   "metadata": {},
   "outputs": [
    {
     "data": {
      "text/html": [
       "<div>\n",
       "<style scoped>\n",
       "    .dataframe tbody tr th:only-of-type {\n",
       "        vertical-align: middle;\n",
       "    }\n",
       "\n",
       "    .dataframe tbody tr th {\n",
       "        vertical-align: top;\n",
       "    }\n",
       "\n",
       "    .dataframe thead th {\n",
       "        text-align: right;\n",
       "    }\n",
       "</style>\n",
       "<table border=\"1\" class=\"dataframe\">\n",
       "  <thead>\n",
       "    <tr style=\"text-align: right;\">\n",
       "      <th></th>\n",
       "      <th>ratings</th>\n",
       "    </tr>\n",
       "  </thead>\n",
       "  <tbody>\n",
       "    <tr>\n",
       "      <td>count</td>\n",
       "      <td>7,486.00</td>\n",
       "    </tr>\n",
       "    <tr>\n",
       "      <td>mean</td>\n",
       "      <td>6.50</td>\n",
       "    </tr>\n",
       "    <tr>\n",
       "      <td>std</td>\n",
       "      <td>1.03</td>\n",
       "    </tr>\n",
       "    <tr>\n",
       "      <td>min</td>\n",
       "      <td>1.00</td>\n",
       "    </tr>\n",
       "    <tr>\n",
       "      <td>25%</td>\n",
       "      <td>6.00</td>\n",
       "    </tr>\n",
       "    <tr>\n",
       "      <td>50%</td>\n",
       "      <td>6.60</td>\n",
       "    </tr>\n",
       "    <tr>\n",
       "      <td>75%</td>\n",
       "      <td>7.10</td>\n",
       "    </tr>\n",
       "    <tr>\n",
       "      <td>max</td>\n",
       "      <td>9.20</td>\n",
       "    </tr>\n",
       "  </tbody>\n",
       "</table>\n",
       "</div>"
      ],
      "text/plain": [
       "       ratings\n",
       "count 7,486.00\n",
       "mean      6.50\n",
       "std       1.03\n",
       "min       1.00\n",
       "25%       6.00\n",
       "50%       6.60\n",
       "75%       7.10\n",
       "max       9.20"
      ]
     },
     "metadata": {},
     "output_type": "display_data"
    }
   ],
   "source": [
    "# Выводим средний рейтинг всех фильмов.\n",
    "display(mkrf_new['ratings'].describe().to_frame())"
   ]
  },
  {
   "cell_type": "markdown",
   "metadata": {},
   "source": [
    "Средний рейтинг фильмов, получивших государственную поддержку равен 6, в то время как средний рейтинг всех фильмов составляет 6.48. Максимальный рейтинг фильмов, получивших государственную поддержку равен 8,5, в то время как максимальный рейтинг всех фильмов составляет 9.2, что свидетельствует о незаинтересованности зрителя к фильмам, получившим государственную поддержку. В 2015 интерес к фильмам был самый минимальный, средний рейтинг фильмов, вышедших в 2016 составляет 5.74."
   ]
  },
  {
   "cell_type": "markdown",
   "metadata": {
    "id": "V2gYwMcPgFyd"
   },
   "source": [
    "### Шаг 5. Напишите общий вывод"
   ]
  },
  {
   "cell_type": "markdown",
   "metadata": {},
   "source": [
    "- 2010 является рекордным годом по количеству фильмов, вышедших в прокат - 985 фильмов. В 2011-2013 годах был застой, в эти года выходило по 590-630 фильмов, после чего в 2014 был рост до 807 с коррекцией в 2015 до 705, в 2016 значения вернулись до 818. В 2017 был большой спад, в прокат вышло всего 505 фильмов, что сало абсолютным минимумом за десятилетие. В 2018-2019 количество фильмов, вышедших в прокат, начало расти и стремится к уровну 2010 г.;\n",
    "- с 2013 по 2017 наблюдался рост сборов от прокатов фильмов. с 2017 г. сборы от проката примерно одинаковые. Минимальная сумма сборов зафиксирорвана в 2010 г., а максимальная в 2018 г. Однако эти данные не могут считаться объективными, так как имеется 57% пропусков в столбце со сборами. К тому же, 2010 г. был рекордным по количеству прокатов фильмов, даже с учетом инфляции сумма сборов в 2010 не может быть минимальной;\n",
    "- в период с 2015 по 2019 год больше всего денег в прокате собрали фильмы с возрастным ограниечением «16+», «12+», «6+». Меньше всего фильмы с возрастным ограничением «0+».\n",
    "- картина в зависимости от года меняется не сильно. Больше всего денег в прокате собрали фильмы с возрастным ограниечением «16+», «12+», «6+». Меньше всего фильмы с возрастным ограничением «0+». Однако сумма сборов меняется год от года в зависимости от возрастного ограничения. Так, сборы фильмов «18+» с 2015 г. только увеличивались, в 2015г. составляли 5 млрд. 433 млн., а в 2019 - 10 млрд. 121 млн., а для фильмов «16+» рекорд по сборам был в 2017 г., после чего сборы сравнялись с уровнем 2015 года. Причиной роста сборов фильмов «18+» является увеличение фильмов, вышедших в прокат с 132 фильмов в 2015, до 183 в 2019. Для фильмов «16+» рекорд по сборам был в 2017 г., однако в этот год в прокат вышло меньше всего фильмов, а сумма сборов рекордная. Причиной рекордных сборов может быть больший интерес зрителя к вышедшим картинам;\n",
    "- всего имеется 332 фильма, получивших государственную поддержку. Общий бюджет фильмов 43 млрд. 632 млн. Объем государственной поддержки составляет 20 млрд. 200 млн., что составляет 46% от общего бюджета фильмов, из них объём возвратных средств государственной поддержки 3 млрд. 939 млн. При этом сумма кассовых сборов составляет 42 млрд. 113 млн., что меньше суммы бюджета этих фильмов. Если брать в целом, то фильмы с государственной поддержкой являются убыточными.\n",
    "- у 239 фильмов бюджет превышает сумму сборов, а у 26 фильмов сборы меньше объема возвратных средств государственной поддержки. 72% фильмов, получивших государственную поддержку, являются убыточными;\n",
    "- Средний рейтинг фильмов, получивших государственную поддержку равен 6, в то время как средний рейтинг всех фильмов составляет 6.48. Максимальный рейтинг фильмов, получивших государственную поддержку равен 8,5, в то время как максимальный рейтинг всех фильмов составляет 9.2, что свидетельствует о незаинтересованности зрителя к фильмам, получившим государственную поддержку."
   ]
  }
 ],
 "metadata": {
  "ExecuteTimeLog": [
   {
    "duration": 537,
    "start_time": "2021-07-07T10:12:08.634Z"
   },
   {
    "duration": 206,
    "start_time": "2021-07-07T10:12:30.191Z"
   },
   {
    "duration": 227,
    "start_time": "2021-07-07T10:12:33.078Z"
   },
   {
    "duration": 153,
    "start_time": "2021-07-07T10:13:42.146Z"
   },
   {
    "duration": 233,
    "start_time": "2021-07-07T10:30:09.252Z"
   },
   {
    "duration": 19,
    "start_time": "2021-07-07T10:30:15.577Z"
   },
   {
    "duration": 18,
    "start_time": "2021-07-07T10:30:57.348Z"
   },
   {
    "duration": 19,
    "start_time": "2021-07-07T10:31:17.452Z"
   },
   {
    "duration": 21,
    "start_time": "2021-07-07T10:31:32.227Z"
   },
   {
    "duration": 27,
    "start_time": "2021-07-07T10:32:06.588Z"
   },
   {
    "duration": 23,
    "start_time": "2021-07-07T10:32:43.645Z"
   },
   {
    "duration": 24,
    "start_time": "2021-07-07T10:33:06.948Z"
   },
   {
    "duration": 7,
    "start_time": "2021-07-07T10:33:28.558Z"
   },
   {
    "duration": 23,
    "start_time": "2021-07-07T10:33:43.761Z"
   },
   {
    "duration": 28,
    "start_time": "2021-07-07T10:34:13.466Z"
   },
   {
    "duration": 23,
    "start_time": "2021-07-07T10:35:56.187Z"
   },
   {
    "duration": 6,
    "start_time": "2021-07-07T10:36:48.182Z"
   },
   {
    "duration": 14,
    "start_time": "2021-07-07T10:37:49.641Z"
   },
   {
    "duration": 6,
    "start_time": "2021-07-07T10:38:06.694Z"
   },
   {
    "duration": 6,
    "start_time": "2021-07-07T10:38:13.493Z"
   },
   {
    "duration": 19,
    "start_time": "2021-07-07T10:38:44.056Z"
   },
   {
    "duration": 186,
    "start_time": "2021-07-07T10:48:35.618Z"
   },
   {
    "duration": 24,
    "start_time": "2021-07-07T10:48:51.498Z"
   },
   {
    "duration": 20,
    "start_time": "2021-07-07T10:48:59.415Z"
   },
   {
    "duration": 20,
    "start_time": "2021-07-07T10:53:02.195Z"
   },
   {
    "duration": 188,
    "start_time": "2021-07-07T10:54:40.486Z"
   },
   {
    "duration": 115,
    "start_time": "2021-07-07T10:54:52.552Z"
   },
   {
    "duration": 214,
    "start_time": "2021-07-07T10:54:56.354Z"
   },
   {
    "duration": 47,
    "start_time": "2021-07-07T10:54:58.282Z"
   },
   {
    "duration": 217,
    "start_time": "2021-07-07T10:59:16.075Z"
   },
   {
    "duration": 51,
    "start_time": "2021-07-07T10:59:16.243Z"
   },
   {
    "duration": 578,
    "start_time": "2021-07-07T10:59:18.774Z"
   },
   {
    "duration": 161,
    "start_time": "2021-07-07T10:59:21.238Z"
   },
   {
    "duration": 59,
    "start_time": "2021-07-07T10:59:21.453Z"
   },
   {
    "duration": 3,
    "start_time": "2021-07-07T11:02:10.786Z"
   },
   {
    "duration": 13,
    "start_time": "2021-07-07T11:07:07.722Z"
   },
   {
    "duration": 26,
    "start_time": "2021-07-07T11:07:17.958Z"
   },
   {
    "duration": 22,
    "start_time": "2021-07-07T11:08:17.939Z"
   },
   {
    "duration": 212,
    "start_time": "2021-07-07T11:08:19.665Z"
   },
   {
    "duration": 21,
    "start_time": "2021-07-07T11:08:29.945Z"
   },
   {
    "duration": 31,
    "start_time": "2021-07-07T11:08:38.899Z"
   },
   {
    "duration": 23,
    "start_time": "2021-07-07T11:08:54.527Z"
   },
   {
    "duration": 8,
    "start_time": "2021-07-07T11:18:55.974Z"
   },
   {
    "duration": 7,
    "start_time": "2021-07-07T11:19:03.639Z"
   },
   {
    "duration": 7,
    "start_time": "2021-07-07T11:19:06.444Z"
   },
   {
    "duration": 578,
    "start_time": "2021-07-07T12:09:59.576Z"
   },
   {
    "duration": 195,
    "start_time": "2021-07-07T12:10:00.156Z"
   },
   {
    "duration": 115,
    "start_time": "2021-07-07T12:10:00.353Z"
   },
   {
    "duration": 3,
    "start_time": "2021-07-07T12:10:00.470Z"
   },
   {
    "duration": 32,
    "start_time": "2021-07-07T12:10:00.474Z"
   },
   {
    "duration": 23,
    "start_time": "2021-07-07T12:10:00.508Z"
   },
   {
    "duration": 19,
    "start_time": "2021-07-07T12:10:00.533Z"
   },
   {
    "duration": 44,
    "start_time": "2021-07-07T12:10:00.553Z"
   },
   {
    "duration": 7,
    "start_time": "2021-07-07T12:10:00.600Z"
   },
   {
    "duration": 7,
    "start_time": "2021-07-07T12:19:45.761Z"
   },
   {
    "duration": 21,
    "start_time": "2021-07-07T12:21:35.482Z"
   },
   {
    "duration": 21,
    "start_time": "2021-07-07T12:29:23.569Z"
   },
   {
    "duration": 525,
    "start_time": "2021-07-07T12:29:44.542Z"
   },
   {
    "duration": 214,
    "start_time": "2021-07-07T12:29:45.069Z"
   },
   {
    "duration": 92,
    "start_time": "2021-07-07T12:29:45.285Z"
   },
   {
    "duration": 3,
    "start_time": "2021-07-07T12:29:45.379Z"
   },
   {
    "duration": 28,
    "start_time": "2021-07-07T12:29:45.384Z"
   },
   {
    "duration": 23,
    "start_time": "2021-07-07T12:29:45.413Z"
   },
   {
    "duration": 21,
    "start_time": "2021-07-07T12:29:45.437Z"
   },
   {
    "duration": 41,
    "start_time": "2021-07-07T12:29:45.460Z"
   },
   {
    "duration": 7,
    "start_time": "2021-07-07T12:29:45.502Z"
   },
   {
    "duration": 20,
    "start_time": "2021-07-07T12:29:45.511Z"
   },
   {
    "duration": 12,
    "start_time": "2021-07-07T12:34:02.800Z"
   },
   {
    "duration": 7,
    "start_time": "2021-07-07T12:35:10.479Z"
   },
   {
    "duration": 8,
    "start_time": "2021-07-07T12:35:22.440Z"
   },
   {
    "duration": 6,
    "start_time": "2021-07-07T12:35:35.649Z"
   },
   {
    "duration": 6,
    "start_time": "2021-07-07T12:35:43.107Z"
   },
   {
    "duration": 22,
    "start_time": "2021-07-07T12:38:03.029Z"
   },
   {
    "duration": 10,
    "start_time": "2021-07-07T12:38:06.592Z"
   },
   {
    "duration": 563,
    "start_time": "2021-07-07T12:38:46.493Z"
   },
   {
    "duration": 265,
    "start_time": "2021-07-07T12:38:47.058Z"
   },
   {
    "duration": 94,
    "start_time": "2021-07-07T12:38:47.325Z"
   },
   {
    "duration": 3,
    "start_time": "2021-07-07T12:38:47.422Z"
   },
   {
    "duration": 30,
    "start_time": "2021-07-07T12:38:47.427Z"
   },
   {
    "duration": 16,
    "start_time": "2021-07-07T12:38:53.305Z"
   },
   {
    "duration": 10,
    "start_time": "2021-07-07T12:38:53.499Z"
   },
   {
    "duration": 8,
    "start_time": "2021-07-07T12:39:48.161Z"
   },
   {
    "duration": 27,
    "start_time": "2021-07-07T12:41:17.629Z"
   },
   {
    "duration": 17,
    "start_time": "2021-07-07T12:41:17.867Z"
   },
   {
    "duration": 21,
    "start_time": "2021-07-07T12:41:19.310Z"
   },
   {
    "duration": 7,
    "start_time": "2021-07-07T12:41:19.544Z"
   },
   {
    "duration": 20,
    "start_time": "2021-07-07T12:41:20.504Z"
   },
   {
    "duration": 554,
    "start_time": "2021-07-07T12:56:23.696Z"
   },
   {
    "duration": 200,
    "start_time": "2021-07-07T12:56:25.234Z"
   },
   {
    "duration": 119,
    "start_time": "2021-07-07T12:56:25.480Z"
   },
   {
    "duration": 4,
    "start_time": "2021-07-07T12:56:25.762Z"
   },
   {
    "duration": 26,
    "start_time": "2021-07-07T12:56:27.172Z"
   },
   {
    "duration": 12,
    "start_time": "2021-07-07T12:56:29.051Z"
   },
   {
    "duration": 10,
    "start_time": "2021-07-07T12:56:29.291Z"
   },
   {
    "duration": 8,
    "start_time": "2021-07-07T12:56:29.623Z"
   },
   {
    "duration": 28,
    "start_time": "2021-07-07T12:56:32.137Z"
   },
   {
    "duration": 19,
    "start_time": "2021-07-07T12:56:39.785Z"
   },
   {
    "duration": 20,
    "start_time": "2021-07-07T12:56:44.297Z"
   },
   {
    "duration": 7,
    "start_time": "2021-07-07T12:56:45.392Z"
   },
   {
    "duration": 23,
    "start_time": "2021-07-07T12:56:46.615Z"
   },
   {
    "duration": 4,
    "start_time": "2021-07-07T12:57:06.625Z"
   },
   {
    "duration": 32,
    "start_time": "2021-07-07T12:57:36.690Z"
   },
   {
    "duration": 18,
    "start_time": "2021-07-07T12:58:00.149Z"
   },
   {
    "duration": 15,
    "start_time": "2021-07-07T12:59:16.793Z"
   },
   {
    "duration": 7,
    "start_time": "2021-07-07T13:19:22.624Z"
   },
   {
    "duration": 6,
    "start_time": "2021-07-07T14:17:33.527Z"
   },
   {
    "duration": 9,
    "start_time": "2021-07-07T14:17:48.409Z"
   },
   {
    "duration": 8,
    "start_time": "2021-07-07T14:20:13.060Z"
   },
   {
    "duration": 8,
    "start_time": "2021-07-07T14:20:37.957Z"
   },
   {
    "duration": 8,
    "start_time": "2021-07-07T14:20:47.470Z"
   },
   {
    "duration": 9,
    "start_time": "2021-07-07T14:20:54.503Z"
   },
   {
    "duration": 10,
    "start_time": "2021-07-07T14:28:57.763Z"
   },
   {
    "duration": 3,
    "start_time": "2021-07-07T14:30:23.377Z"
   },
   {
    "duration": 3,
    "start_time": "2021-07-07T14:30:36.489Z"
   },
   {
    "duration": 103,
    "start_time": "2021-07-07T14:30:52.351Z"
   },
   {
    "duration": 8,
    "start_time": "2021-07-07T14:30:54.763Z"
   },
   {
    "duration": 8,
    "start_time": "2021-07-07T14:31:29.301Z"
   },
   {
    "duration": 13,
    "start_time": "2021-07-07T14:31:44.516Z"
   },
   {
    "duration": 7,
    "start_time": "2021-07-07T14:33:10.972Z"
   },
   {
    "duration": 11,
    "start_time": "2021-07-07T14:33:27.780Z"
   },
   {
    "duration": 8,
    "start_time": "2021-07-07T14:34:44.588Z"
   },
   {
    "duration": 57,
    "start_time": "2021-07-07T14:35:59.042Z"
   },
   {
    "duration": 3,
    "start_time": "2021-07-07T14:36:28.168Z"
   },
   {
    "duration": 5,
    "start_time": "2021-07-07T14:36:46.254Z"
   },
   {
    "duration": 4,
    "start_time": "2021-07-07T14:36:52.714Z"
   },
   {
    "duration": 3,
    "start_time": "2021-07-07T14:36:56.612Z"
   },
   {
    "duration": 4,
    "start_time": "2021-07-07T14:36:57.049Z"
   },
   {
    "duration": 3,
    "start_time": "2021-07-07T14:39:21.214Z"
   },
   {
    "duration": 7,
    "start_time": "2021-07-07T14:39:52.406Z"
   },
   {
    "duration": 11,
    "start_time": "2021-07-07T14:39:58.576Z"
   },
   {
    "duration": 9,
    "start_time": "2021-07-07T14:40:26.301Z"
   },
   {
    "duration": 10,
    "start_time": "2021-07-07T14:40:31.704Z"
   },
   {
    "duration": 11,
    "start_time": "2021-07-07T14:40:36.249Z"
   },
   {
    "duration": 10,
    "start_time": "2021-07-07T14:40:39.783Z"
   },
   {
    "duration": 9,
    "start_time": "2021-07-07T14:40:48.558Z"
   },
   {
    "duration": 10,
    "start_time": "2021-07-07T14:40:57.143Z"
   },
   {
    "duration": 9,
    "start_time": "2021-07-07T14:41:06.074Z"
   },
   {
    "duration": 4324,
    "start_time": "2021-07-07T14:41:22.004Z"
   },
   {
    "duration": 11,
    "start_time": "2021-07-07T14:41:33.392Z"
   },
   {
    "duration": 9,
    "start_time": "2021-07-07T14:41:39.288Z"
   },
   {
    "duration": 569,
    "start_time": "2021-07-07T14:42:14.387Z"
   },
   {
    "duration": 197,
    "start_time": "2021-07-07T14:42:14.959Z"
   },
   {
    "duration": 84,
    "start_time": "2021-07-07T14:42:16.052Z"
   },
   {
    "duration": 4,
    "start_time": "2021-07-07T14:42:16.900Z"
   },
   {
    "duration": 27,
    "start_time": "2021-07-07T14:42:19.898Z"
   },
   {
    "duration": 12,
    "start_time": "2021-07-07T14:42:21.577Z"
   },
   {
    "duration": 9,
    "start_time": "2021-07-07T14:42:21.813Z"
   },
   {
    "duration": 9,
    "start_time": "2021-07-07T14:42:22.569Z"
   },
   {
    "duration": 29,
    "start_time": "2021-07-07T14:42:25.837Z"
   },
   {
    "duration": 20,
    "start_time": "2021-07-07T14:42:27.003Z"
   },
   {
    "duration": 21,
    "start_time": "2021-07-07T14:42:28.767Z"
   },
   {
    "duration": 7,
    "start_time": "2021-07-07T14:42:29.838Z"
   },
   {
    "duration": 4,
    "start_time": "2021-07-07T14:43:25.493Z"
   },
   {
    "duration": 7,
    "start_time": "2021-07-07T14:43:26.573Z"
   },
   {
    "duration": 10,
    "start_time": "2021-07-07T14:43:31.639Z"
   },
   {
    "duration": 9,
    "start_time": "2021-07-07T14:43:32.046Z"
   },
   {
    "duration": 10,
    "start_time": "2021-07-07T14:43:33.301Z"
   },
   {
    "duration": 12,
    "start_time": "2021-07-07T14:43:33.658Z"
   },
   {
    "duration": 8,
    "start_time": "2021-07-07T14:43:34.552Z"
   },
   {
    "duration": 9,
    "start_time": "2021-07-07T14:43:35.058Z"
   },
   {
    "duration": 12,
    "start_time": "2021-07-07T14:43:35.914Z"
   },
   {
    "duration": 17,
    "start_time": "2021-07-07T14:45:34.368Z"
   },
   {
    "duration": 512,
    "start_time": "2021-07-07T14:51:58.236Z"
   },
   {
    "duration": 223,
    "start_time": "2021-07-07T14:51:58.750Z"
   },
   {
    "duration": 93,
    "start_time": "2021-07-07T14:51:58.977Z"
   },
   {
    "duration": 4,
    "start_time": "2021-07-07T14:51:59.071Z"
   },
   {
    "duration": 37,
    "start_time": "2021-07-07T14:51:59.077Z"
   },
   {
    "duration": 18,
    "start_time": "2021-07-07T14:51:59.116Z"
   },
   {
    "duration": 10,
    "start_time": "2021-07-07T14:51:59.137Z"
   },
   {
    "duration": 8,
    "start_time": "2021-07-07T14:51:59.149Z"
   },
   {
    "duration": 54,
    "start_time": "2021-07-07T14:51:59.158Z"
   },
   {
    "duration": 18,
    "start_time": "2021-07-07T14:51:59.213Z"
   },
   {
    "duration": 22,
    "start_time": "2021-07-07T14:51:59.232Z"
   },
   {
    "duration": 36,
    "start_time": "2021-07-07T14:51:59.255Z"
   },
   {
    "duration": 7,
    "start_time": "2021-07-07T14:51:59.293Z"
   },
   {
    "duration": 10,
    "start_time": "2021-07-07T14:51:59.302Z"
   },
   {
    "duration": 9,
    "start_time": "2021-07-07T14:51:59.313Z"
   },
   {
    "duration": 11,
    "start_time": "2021-07-07T14:51:59.324Z"
   },
   {
    "duration": 8,
    "start_time": "2021-07-07T14:51:59.337Z"
   },
   {
    "duration": 46,
    "start_time": "2021-07-07T14:51:59.347Z"
   },
   {
    "duration": 22,
    "start_time": "2021-07-07T14:51:59.395Z"
   },
   {
    "duration": 24,
    "start_time": "2021-07-07T14:57:32.911Z"
   },
   {
    "duration": 7,
    "start_time": "2021-07-07T14:58:22.070Z"
   },
   {
    "duration": 4,
    "start_time": "2021-07-07T14:59:11.239Z"
   },
   {
    "duration": 25,
    "start_time": "2021-07-07T15:07:22.208Z"
   },
   {
    "duration": 16,
    "start_time": "2021-07-07T15:08:25.560Z"
   },
   {
    "duration": 15,
    "start_time": "2021-07-07T15:08:40.647Z"
   },
   {
    "duration": 14,
    "start_time": "2021-07-07T15:08:46.669Z"
   },
   {
    "duration": 533,
    "start_time": "2021-07-07T15:18:07.440Z"
   },
   {
    "duration": 173,
    "start_time": "2021-07-07T15:18:07.974Z"
   },
   {
    "duration": 84,
    "start_time": "2021-07-07T15:18:08.149Z"
   },
   {
    "duration": 3,
    "start_time": "2021-07-07T15:18:08.235Z"
   },
   {
    "duration": 30,
    "start_time": "2021-07-07T15:18:08.240Z"
   },
   {
    "duration": 22,
    "start_time": "2021-07-07T15:18:08.272Z"
   },
   {
    "duration": 11,
    "start_time": "2021-07-07T15:18:08.295Z"
   },
   {
    "duration": 11,
    "start_time": "2021-07-07T15:18:08.309Z"
   },
   {
    "duration": 40,
    "start_time": "2021-07-07T15:18:08.322Z"
   },
   {
    "duration": 42,
    "start_time": "2021-07-07T15:18:08.364Z"
   },
   {
    "duration": 22,
    "start_time": "2021-07-07T15:18:08.408Z"
   },
   {
    "duration": 5,
    "start_time": "2021-07-07T15:18:08.432Z"
   },
   {
    "duration": 13,
    "start_time": "2021-07-07T15:18:08.439Z"
   },
   {
    "duration": 9,
    "start_time": "2021-07-07T15:18:08.454Z"
   },
   {
    "duration": 32,
    "start_time": "2021-07-07T15:18:08.465Z"
   },
   {
    "duration": 10,
    "start_time": "2021-07-07T15:18:08.501Z"
   },
   {
    "duration": 7,
    "start_time": "2021-07-07T15:18:08.513Z"
   },
   {
    "duration": 11,
    "start_time": "2021-07-07T15:18:08.521Z"
   },
   {
    "duration": 17,
    "start_time": "2021-07-07T15:18:08.534Z"
   },
   {
    "duration": 44,
    "start_time": "2021-07-07T15:18:08.553Z"
   },
   {
    "duration": 22,
    "start_time": "2021-07-07T15:18:08.599Z"
   },
   {
    "duration": 61,
    "start_time": "2021-07-07T15:18:08.622Z"
   },
   {
    "duration": 7,
    "start_time": "2021-07-07T15:18:39.457Z"
   },
   {
    "duration": 5,
    "start_time": "2021-07-07T16:05:17.020Z"
   },
   {
    "duration": 5,
    "start_time": "2021-07-07T16:51:28.794Z"
   },
   {
    "duration": 546,
    "start_time": "2021-07-07T16:52:26.306Z"
   },
   {
    "duration": 203,
    "start_time": "2021-07-07T16:52:27.523Z"
   },
   {
    "duration": 85,
    "start_time": "2021-07-07T16:52:27.736Z"
   },
   {
    "duration": 4,
    "start_time": "2021-07-07T16:52:27.899Z"
   },
   {
    "duration": 25,
    "start_time": "2021-07-07T16:52:28.674Z"
   },
   {
    "duration": 8,
    "start_time": "2021-07-07T16:52:32.956Z"
   },
   {
    "duration": 18,
    "start_time": "2021-07-07T16:52:35.616Z"
   },
   {
    "duration": 6,
    "start_time": "2021-07-07T16:52:36.913Z"
   },
   {
    "duration": 11,
    "start_time": "2021-07-07T16:52:40.258Z"
   },
   {
    "duration": 10,
    "start_time": "2021-07-07T16:52:46.251Z"
   },
   {
    "duration": 8,
    "start_time": "2021-07-07T16:52:47.182Z"
   },
   {
    "duration": 27,
    "start_time": "2021-07-07T16:53:20.391Z"
   },
   {
    "duration": 20,
    "start_time": "2021-07-07T16:53:22.022Z"
   },
   {
    "duration": 23,
    "start_time": "2021-07-07T16:53:23.690Z"
   },
   {
    "duration": 8,
    "start_time": "2021-07-07T16:53:24.261Z"
   },
   {
    "duration": 4,
    "start_time": "2021-07-07T16:53:38.733Z"
   },
   {
    "duration": 7,
    "start_time": "2021-07-07T16:53:40.445Z"
   },
   {
    "duration": 11,
    "start_time": "2021-07-07T16:53:41.348Z"
   },
   {
    "duration": 13,
    "start_time": "2021-07-07T16:53:45.250Z"
   },
   {
    "duration": 12,
    "start_time": "2021-07-07T16:53:45.467Z"
   },
   {
    "duration": 4,
    "start_time": "2021-07-07T16:55:32.704Z"
   },
   {
    "duration": 12,
    "start_time": "2021-07-07T16:55:49.012Z"
   },
   {
    "duration": 18,
    "start_time": "2021-07-07T16:55:49.547Z"
   },
   {
    "duration": 611,
    "start_time": "2021-07-07T16:58:35.156Z"
   },
   {
    "duration": 200,
    "start_time": "2021-07-07T16:58:35.770Z"
   },
   {
    "duration": 86,
    "start_time": "2021-07-07T16:58:35.972Z"
   },
   {
    "duration": 3,
    "start_time": "2021-07-07T16:58:36.060Z"
   },
   {
    "duration": 27,
    "start_time": "2021-07-07T16:58:36.065Z"
   },
   {
    "duration": 8,
    "start_time": "2021-07-07T16:58:36.094Z"
   },
   {
    "duration": 17,
    "start_time": "2021-07-07T16:58:36.103Z"
   },
   {
    "duration": 5,
    "start_time": "2021-07-07T16:58:36.123Z"
   },
   {
    "duration": 11,
    "start_time": "2021-07-07T16:58:36.130Z"
   },
   {
    "duration": 7,
    "start_time": "2021-07-07T16:58:36.143Z"
   },
   {
    "duration": 37,
    "start_time": "2021-07-07T16:58:36.152Z"
   },
   {
    "duration": 27,
    "start_time": "2021-07-07T16:58:36.191Z"
   },
   {
    "duration": 19,
    "start_time": "2021-07-07T16:58:36.219Z"
   },
   {
    "duration": 49,
    "start_time": "2021-07-07T16:58:36.240Z"
   },
   {
    "duration": 6,
    "start_time": "2021-07-07T16:58:36.291Z"
   },
   {
    "duration": 3,
    "start_time": "2021-07-07T16:58:36.299Z"
   },
   {
    "duration": 13,
    "start_time": "2021-07-07T16:58:36.304Z"
   },
   {
    "duration": 10,
    "start_time": "2021-07-07T16:58:36.319Z"
   },
   {
    "duration": 10,
    "start_time": "2021-07-07T16:58:36.331Z"
   },
   {
    "duration": 44,
    "start_time": "2021-07-07T16:58:36.343Z"
   },
   {
    "duration": 4,
    "start_time": "2021-07-07T16:58:36.388Z"
   },
   {
    "duration": 13,
    "start_time": "2021-07-07T16:58:36.394Z"
   },
   {
    "duration": 16,
    "start_time": "2021-07-07T16:58:36.410Z"
   },
   {
    "duration": 8,
    "start_time": "2021-07-07T17:02:31.629Z"
   },
   {
    "duration": 8,
    "start_time": "2021-07-07T17:02:34.308Z"
   },
   {
    "duration": 6,
    "start_time": "2021-07-07T17:05:13.483Z"
   },
   {
    "duration": 17,
    "start_time": "2021-07-07T17:05:20.606Z"
   },
   {
    "duration": 7,
    "start_time": "2021-07-07T17:05:34.638Z"
   },
   {
    "duration": 3,
    "start_time": "2021-07-07T17:06:31.883Z"
   },
   {
    "duration": 570,
    "start_time": "2021-07-07T17:06:37.165Z"
   },
   {
    "duration": 174,
    "start_time": "2021-07-07T17:06:37.737Z"
   },
   {
    "duration": 47,
    "start_time": "2021-07-07T17:06:37.913Z"
   },
   {
    "duration": 3,
    "start_time": "2021-07-07T17:06:37.962Z"
   },
   {
    "duration": 27,
    "start_time": "2021-07-07T17:06:37.967Z"
   },
   {
    "duration": 7,
    "start_time": "2021-07-07T17:06:37.996Z"
   },
   {
    "duration": 16,
    "start_time": "2021-07-07T17:06:38.005Z"
   },
   {
    "duration": 6,
    "start_time": "2021-07-07T17:06:38.024Z"
   },
   {
    "duration": 12,
    "start_time": "2021-07-07T17:06:38.031Z"
   },
   {
    "duration": 41,
    "start_time": "2021-07-07T17:06:38.045Z"
   },
   {
    "duration": 8,
    "start_time": "2021-07-07T17:06:38.088Z"
   },
   {
    "duration": 26,
    "start_time": "2021-07-07T17:06:38.098Z"
   },
   {
    "duration": 17,
    "start_time": "2021-07-07T17:06:38.126Z"
   },
   {
    "duration": 43,
    "start_time": "2021-07-07T17:06:38.144Z"
   },
   {
    "duration": 6,
    "start_time": "2021-07-07T17:06:38.188Z"
   },
   {
    "duration": 5,
    "start_time": "2021-07-07T17:06:38.195Z"
   },
   {
    "duration": 9,
    "start_time": "2021-07-07T17:06:38.201Z"
   },
   {
    "duration": 12,
    "start_time": "2021-07-07T17:06:38.212Z"
   },
   {
    "duration": 11,
    "start_time": "2021-07-07T17:06:38.226Z"
   },
   {
    "duration": 47,
    "start_time": "2021-07-07T17:06:38.239Z"
   },
   {
    "duration": 4,
    "start_time": "2021-07-07T17:06:38.288Z"
   },
   {
    "duration": 13,
    "start_time": "2021-07-07T17:06:38.293Z"
   },
   {
    "duration": 5,
    "start_time": "2021-07-07T17:06:38.309Z"
   },
   {
    "duration": 18,
    "start_time": "2021-07-07T17:06:38.325Z"
   },
   {
    "duration": 20,
    "start_time": "2021-07-07T17:07:02.805Z"
   },
   {
    "duration": 19,
    "start_time": "2021-07-07T17:07:08.527Z"
   },
   {
    "duration": 19,
    "start_time": "2021-07-07T17:07:12.758Z"
   },
   {
    "duration": 22,
    "start_time": "2021-07-07T17:07:17.497Z"
   },
   {
    "duration": 19,
    "start_time": "2021-07-07T17:07:19.645Z"
   },
   {
    "duration": 10,
    "start_time": "2021-07-07T17:07:34.239Z"
   },
   {
    "duration": 17,
    "start_time": "2021-07-07T17:07:54.144Z"
   },
   {
    "duration": 14,
    "start_time": "2021-07-07T17:08:14.357Z"
   },
   {
    "duration": 616,
    "start_time": "2021-07-07T17:08:45.254Z"
   },
   {
    "duration": 178,
    "start_time": "2021-07-07T17:08:45.872Z"
   },
   {
    "duration": 60,
    "start_time": "2021-07-07T17:08:46.054Z"
   },
   {
    "duration": 3,
    "start_time": "2021-07-07T17:08:46.116Z"
   },
   {
    "duration": 26,
    "start_time": "2021-07-07T17:08:46.121Z"
   },
   {
    "duration": 7,
    "start_time": "2021-07-07T17:08:46.149Z"
   },
   {
    "duration": 17,
    "start_time": "2021-07-07T17:08:46.158Z"
   },
   {
    "duration": 14,
    "start_time": "2021-07-07T17:08:46.176Z"
   },
   {
    "duration": 17,
    "start_time": "2021-07-07T17:08:46.193Z"
   },
   {
    "duration": 9,
    "start_time": "2021-07-07T17:08:46.211Z"
   },
   {
    "duration": 21,
    "start_time": "2021-07-07T17:08:46.221Z"
   },
   {
    "duration": 49,
    "start_time": "2021-07-07T17:08:46.244Z"
   },
   {
    "duration": 24,
    "start_time": "2021-07-07T17:08:46.295Z"
   },
   {
    "duration": 22,
    "start_time": "2021-07-07T17:08:46.321Z"
   },
   {
    "duration": 6,
    "start_time": "2021-07-07T17:08:46.345Z"
   },
   {
    "duration": 5,
    "start_time": "2021-07-07T17:08:46.353Z"
   },
   {
    "duration": 13,
    "start_time": "2021-07-07T17:08:46.386Z"
   },
   {
    "duration": 12,
    "start_time": "2021-07-07T17:08:46.402Z"
   },
   {
    "duration": 10,
    "start_time": "2021-07-07T17:08:46.415Z"
   },
   {
    "duration": 7,
    "start_time": "2021-07-07T17:08:46.427Z"
   },
   {
    "duration": 8,
    "start_time": "2021-07-07T17:08:46.435Z"
   },
   {
    "duration": 68,
    "start_time": "2021-07-07T17:08:46.446Z"
   },
   {
    "duration": 13,
    "start_time": "2021-07-07T17:08:46.516Z"
   },
   {
    "duration": 78,
    "start_time": "2021-07-07T17:08:46.530Z"
   },
   {
    "duration": 40,
    "start_time": "2021-07-07T17:09:08.185Z"
   },
   {
    "duration": 16,
    "start_time": "2021-07-07T17:09:19.324Z"
   },
   {
    "duration": 21,
    "start_time": "2021-07-07T17:09:23.290Z"
   },
   {
    "duration": 13,
    "start_time": "2021-07-07T17:09:54.812Z"
   },
   {
    "duration": 13,
    "start_time": "2021-07-07T17:10:02.039Z"
   },
   {
    "duration": 10,
    "start_time": "2021-07-07T17:10:29.632Z"
   },
   {
    "duration": 13,
    "start_time": "2021-07-07T17:10:52.372Z"
   },
   {
    "duration": 13,
    "start_time": "2021-07-07T17:11:17.270Z"
   },
   {
    "duration": 13,
    "start_time": "2021-07-07T17:14:59.284Z"
   },
   {
    "duration": 547,
    "start_time": "2021-07-07T17:18:52.403Z"
   },
   {
    "duration": 163,
    "start_time": "2021-07-07T17:18:52.952Z"
   },
   {
    "duration": 44,
    "start_time": "2021-07-07T17:18:53.117Z"
   },
   {
    "duration": 3,
    "start_time": "2021-07-07T17:18:53.162Z"
   },
   {
    "duration": 26,
    "start_time": "2021-07-07T17:18:53.167Z"
   },
   {
    "duration": 6,
    "start_time": "2021-07-07T17:18:53.195Z"
   },
   {
    "duration": 15,
    "start_time": "2021-07-07T17:18:53.203Z"
   },
   {
    "duration": 5,
    "start_time": "2021-07-07T17:18:53.220Z"
   },
   {
    "duration": 11,
    "start_time": "2021-07-07T17:18:53.228Z"
   },
   {
    "duration": 9,
    "start_time": "2021-07-07T17:18:53.241Z"
   },
   {
    "duration": 41,
    "start_time": "2021-07-07T17:18:53.252Z"
   },
   {
    "duration": 33,
    "start_time": "2021-07-07T17:18:53.295Z"
   },
   {
    "duration": 19,
    "start_time": "2021-07-07T17:18:53.330Z"
   },
   {
    "duration": 49,
    "start_time": "2021-07-07T17:18:53.350Z"
   },
   {
    "duration": 5,
    "start_time": "2021-07-07T17:18:53.401Z"
   },
   {
    "duration": 5,
    "start_time": "2021-07-07T17:18:53.408Z"
   },
   {
    "duration": 11,
    "start_time": "2021-07-07T17:18:53.414Z"
   },
   {
    "duration": 9,
    "start_time": "2021-07-07T17:18:53.427Z"
   },
   {
    "duration": 10,
    "start_time": "2021-07-07T17:18:53.437Z"
   },
   {
    "duration": 39,
    "start_time": "2021-07-07T17:18:53.448Z"
   },
   {
    "duration": 26,
    "start_time": "2021-07-07T17:18:55.799Z"
   },
   {
    "duration": 598,
    "start_time": "2021-07-07T17:20:17.862Z"
   },
   {
    "duration": 161,
    "start_time": "2021-07-07T17:20:18.462Z"
   },
   {
    "duration": 45,
    "start_time": "2021-07-07T17:20:18.626Z"
   },
   {
    "duration": 4,
    "start_time": "2021-07-07T17:20:18.673Z"
   },
   {
    "duration": 38,
    "start_time": "2021-07-07T17:20:26.877Z"
   },
   {
    "duration": 7,
    "start_time": "2021-07-07T17:20:37.405Z"
   },
   {
    "duration": 19,
    "start_time": "2021-07-07T17:20:51.534Z"
   },
   {
    "duration": 5,
    "start_time": "2021-07-07T17:20:57.228Z"
   },
   {
    "duration": 7,
    "start_time": "2021-07-07T17:21:08.235Z"
   },
   {
    "duration": 19,
    "start_time": "2021-07-07T17:21:42.158Z"
   },
   {
    "duration": 14,
    "start_time": "2021-07-07T17:21:50.225Z"
   },
   {
    "duration": 22,
    "start_time": "2021-07-07T17:22:54.104Z"
   },
   {
    "duration": 5,
    "start_time": "2021-07-07T17:22:56.371Z"
   },
   {
    "duration": 14,
    "start_time": "2021-07-07T17:22:58.316Z"
   },
   {
    "duration": 5,
    "start_time": "2021-07-07T17:22:58.493Z"
   },
   {
    "duration": 35,
    "start_time": "2021-07-07T17:22:59.666Z"
   },
   {
    "duration": 6,
    "start_time": "2021-07-07T17:23:02.410Z"
   },
   {
    "duration": 611,
    "start_time": "2021-07-07T17:24:59.664Z"
   },
   {
    "duration": 178,
    "start_time": "2021-07-07T17:25:01.945Z"
   },
   {
    "duration": 47,
    "start_time": "2021-07-07T17:25:02.125Z"
   },
   {
    "duration": 2,
    "start_time": "2021-07-07T17:25:07.903Z"
   },
   {
    "duration": 254,
    "start_time": "2021-07-07T17:25:08.232Z"
   },
   {
    "duration": 182,
    "start_time": "2021-07-07T17:25:08.671Z"
   },
   {
    "duration": 6,
    "start_time": "2021-07-07T17:25:13.104Z"
   },
   {
    "duration": 36,
    "start_time": "2021-07-07T17:25:13.662Z"
   },
   {
    "duration": 7,
    "start_time": "2021-07-07T17:25:14.528Z"
   },
   {
    "duration": 24,
    "start_time": "2021-07-07T17:25:27.982Z"
   },
   {
    "duration": 3,
    "start_time": "2021-07-07T17:25:48.982Z"
   },
   {
    "duration": 165,
    "start_time": "2021-07-07T17:25:48.987Z"
   },
   {
    "duration": 50,
    "start_time": "2021-07-07T17:25:49.154Z"
   },
   {
    "duration": 4,
    "start_time": "2021-07-07T17:25:49.206Z"
   },
   {
    "duration": 26,
    "start_time": "2021-07-07T17:25:49.212Z"
   },
   {
    "duration": 7,
    "start_time": "2021-07-07T17:25:49.240Z"
   },
   {
    "duration": 16,
    "start_time": "2021-07-07T17:25:49.249Z"
   },
   {
    "duration": 22,
    "start_time": "2021-07-07T17:25:49.266Z"
   },
   {
    "duration": 16,
    "start_time": "2021-07-07T17:25:49.291Z"
   },
   {
    "duration": 9,
    "start_time": "2021-07-07T17:25:49.309Z"
   },
   {
    "duration": 7,
    "start_time": "2021-07-07T17:25:49.319Z"
   },
   {
    "duration": 28,
    "start_time": "2021-07-07T17:25:49.328Z"
   },
   {
    "duration": 44,
    "start_time": "2021-07-07T17:25:49.357Z"
   },
   {
    "duration": 22,
    "start_time": "2021-07-07T17:25:49.403Z"
   },
   {
    "duration": 7,
    "start_time": "2021-07-07T17:25:49.427Z"
   },
   {
    "duration": 3,
    "start_time": "2021-07-07T17:25:49.436Z"
   },
   {
    "duration": 44,
    "start_time": "2021-07-07T17:25:49.441Z"
   },
   {
    "duration": 12,
    "start_time": "2021-07-07T17:25:49.488Z"
   },
   {
    "duration": 13,
    "start_time": "2021-07-07T17:25:49.502Z"
   },
   {
    "duration": 10,
    "start_time": "2021-07-07T17:25:49.516Z"
   },
   {
    "duration": 62,
    "start_time": "2021-07-07T17:25:49.527Z"
   },
   {
    "duration": 26,
    "start_time": "2021-07-07T17:26:51.809Z"
   },
   {
    "duration": 26,
    "start_time": "2021-07-07T17:26:55.759Z"
   },
   {
    "duration": 26,
    "start_time": "2021-07-07T17:27:04.501Z"
   },
   {
    "duration": 25,
    "start_time": "2021-07-07T17:28:24.859Z"
   },
   {
    "duration": 21,
    "start_time": "2021-07-07T17:28:55.250Z"
   },
   {
    "duration": 21,
    "start_time": "2021-07-07T17:28:58.885Z"
   },
   {
    "duration": 7,
    "start_time": "2021-07-07T17:45:40.972Z"
   },
   {
    "duration": 13,
    "start_time": "2021-07-07T17:45:42.529Z"
   },
   {
    "duration": 27,
    "start_time": "2021-07-07T17:45:51.026Z"
   },
   {
    "duration": 518,
    "start_time": "2021-07-07T17:46:15.532Z"
   },
   {
    "duration": 235,
    "start_time": "2021-07-07T17:46:16.053Z"
   },
   {
    "duration": 80,
    "start_time": "2021-07-07T17:46:16.292Z"
   },
   {
    "duration": 5,
    "start_time": "2021-07-07T17:46:16.373Z"
   },
   {
    "duration": 26,
    "start_time": "2021-07-07T17:46:16.380Z"
   },
   {
    "duration": 7,
    "start_time": "2021-07-07T17:46:16.408Z"
   },
   {
    "duration": 16,
    "start_time": "2021-07-07T17:46:16.418Z"
   },
   {
    "duration": 5,
    "start_time": "2021-07-07T17:46:16.436Z"
   },
   {
    "duration": 13,
    "start_time": "2021-07-07T17:46:16.442Z"
   },
   {
    "duration": 35,
    "start_time": "2021-07-07T17:46:16.456Z"
   },
   {
    "duration": 8,
    "start_time": "2021-07-07T17:46:16.493Z"
   },
   {
    "duration": 28,
    "start_time": "2021-07-07T17:46:16.502Z"
   },
   {
    "duration": 17,
    "start_time": "2021-07-07T17:46:16.532Z"
   },
   {
    "duration": 44,
    "start_time": "2021-07-07T17:46:16.551Z"
   },
   {
    "duration": 6,
    "start_time": "2021-07-07T17:46:16.597Z"
   },
   {
    "duration": 4,
    "start_time": "2021-07-07T17:46:16.605Z"
   },
   {
    "duration": 9,
    "start_time": "2021-07-07T17:46:16.610Z"
   },
   {
    "duration": 9,
    "start_time": "2021-07-07T17:46:16.621Z"
   },
   {
    "duration": 10,
    "start_time": "2021-07-07T17:46:16.632Z"
   },
   {
    "duration": 43,
    "start_time": "2021-07-07T17:46:16.644Z"
   },
   {
    "duration": 26,
    "start_time": "2021-07-07T17:46:16.689Z"
   },
   {
    "duration": 19,
    "start_time": "2021-07-07T17:46:16.718Z"
   },
   {
    "duration": 8,
    "start_time": "2021-07-07T17:46:16.738Z"
   },
   {
    "duration": 43,
    "start_time": "2021-07-07T17:46:16.747Z"
   },
   {
    "duration": 19,
    "start_time": "2021-07-07T17:46:16.791Z"
   },
   {
    "duration": 9,
    "start_time": "2021-07-07T17:46:16.812Z"
   },
   {
    "duration": 60,
    "start_time": "2021-07-07T17:46:16.822Z"
   },
   {
    "duration": -8,
    "start_time": "2021-07-07T17:46:16.892Z"
   },
   {
    "duration": 12,
    "start_time": "2021-07-07T17:48:47.707Z"
   },
   {
    "duration": 553,
    "start_time": "2021-07-07T18:10:09.350Z"
   },
   {
    "duration": 230,
    "start_time": "2021-07-07T18:10:09.905Z"
   },
   {
    "duration": 97,
    "start_time": "2021-07-07T18:10:10.137Z"
   },
   {
    "duration": 5,
    "start_time": "2021-07-07T18:10:10.236Z"
   },
   {
    "duration": 29,
    "start_time": "2021-07-07T18:10:10.242Z"
   },
   {
    "duration": 7,
    "start_time": "2021-07-07T18:10:10.272Z"
   },
   {
    "duration": 15,
    "start_time": "2021-07-07T18:10:10.281Z"
   },
   {
    "duration": 4,
    "start_time": "2021-07-07T18:10:10.299Z"
   },
   {
    "duration": 14,
    "start_time": "2021-07-07T18:10:10.305Z"
   },
   {
    "duration": 8,
    "start_time": "2021-07-07T18:10:10.321Z"
   },
   {
    "duration": 8,
    "start_time": "2021-07-07T18:10:10.331Z"
   },
   {
    "duration": 56,
    "start_time": "2021-07-07T18:10:10.341Z"
   },
   {
    "duration": 19,
    "start_time": "2021-07-07T18:10:10.399Z"
   },
   {
    "duration": 23,
    "start_time": "2021-07-07T18:10:10.419Z"
   },
   {
    "duration": 6,
    "start_time": "2021-07-07T18:10:10.444Z"
   },
   {
    "duration": 9,
    "start_time": "2021-07-07T18:10:10.451Z"
   },
   {
    "duration": 30,
    "start_time": "2021-07-07T18:10:10.462Z"
   },
   {
    "duration": 9,
    "start_time": "2021-07-07T18:10:10.494Z"
   },
   {
    "duration": 14,
    "start_time": "2021-07-07T18:10:10.505Z"
   },
   {
    "duration": 7,
    "start_time": "2021-07-07T18:10:10.521Z"
   },
   {
    "duration": 26,
    "start_time": "2021-07-07T18:10:10.530Z"
   },
   {
    "duration": 44,
    "start_time": "2021-07-07T18:10:10.558Z"
   },
   {
    "duration": 7,
    "start_time": "2021-07-07T18:10:10.605Z"
   },
   {
    "duration": 11,
    "start_time": "2021-07-07T18:10:10.614Z"
   },
   {
    "duration": 19,
    "start_time": "2021-07-07T18:10:10.626Z"
   },
   {
    "duration": 44,
    "start_time": "2021-07-07T18:10:10.646Z"
   },
   {
    "duration": 516,
    "start_time": "2021-07-07T18:14:00.826Z"
   },
   {
    "duration": 230,
    "start_time": "2021-07-07T18:14:01.344Z"
   },
   {
    "duration": 105,
    "start_time": "2021-07-07T18:14:01.576Z"
   },
   {
    "duration": 5,
    "start_time": "2021-07-07T18:14:01.683Z"
   },
   {
    "duration": 46,
    "start_time": "2021-07-07T18:14:01.690Z"
   },
   {
    "duration": 7,
    "start_time": "2021-07-07T18:14:01.738Z"
   },
   {
    "duration": 20,
    "start_time": "2021-07-07T18:14:01.747Z"
   },
   {
    "duration": 16,
    "start_time": "2021-07-07T18:14:01.769Z"
   },
   {
    "duration": 14,
    "start_time": "2021-07-07T18:14:01.787Z"
   },
   {
    "duration": 15,
    "start_time": "2021-07-07T18:14:01.803Z"
   },
   {
    "duration": 12,
    "start_time": "2021-07-07T18:14:01.820Z"
   },
   {
    "duration": 35,
    "start_time": "2021-07-07T18:14:01.833Z"
   },
   {
    "duration": 31,
    "start_time": "2021-07-07T18:14:01.869Z"
   },
   {
    "duration": 37,
    "start_time": "2021-07-07T18:14:01.902Z"
   },
   {
    "duration": 8,
    "start_time": "2021-07-07T18:14:01.942Z"
   },
   {
    "duration": 16,
    "start_time": "2021-07-07T18:14:01.952Z"
   },
   {
    "duration": 13,
    "start_time": "2021-07-07T18:14:01.970Z"
   },
   {
    "duration": 32,
    "start_time": "2021-07-07T18:14:01.985Z"
   },
   {
    "duration": 11,
    "start_time": "2021-07-07T18:14:02.019Z"
   },
   {
    "duration": 22,
    "start_time": "2021-07-07T18:14:02.031Z"
   },
   {
    "duration": 27,
    "start_time": "2021-07-07T18:14:02.055Z"
   },
   {
    "duration": 18,
    "start_time": "2021-07-07T18:14:02.084Z"
   },
   {
    "duration": 18,
    "start_time": "2021-07-07T18:14:02.106Z"
   },
   {
    "duration": 11,
    "start_time": "2021-07-07T18:14:02.126Z"
   },
   {
    "duration": 21,
    "start_time": "2021-07-07T18:14:02.138Z"
   },
   {
    "duration": 32,
    "start_time": "2021-07-07T18:14:02.161Z"
   },
   {
    "duration": 28,
    "start_time": "2021-07-07T18:14:44.295Z"
   },
   {
    "duration": 6,
    "start_time": "2021-07-07T18:15:05.834Z"
   },
   {
    "duration": 511,
    "start_time": "2021-07-07T18:15:41.541Z"
   },
   {
    "duration": 183,
    "start_time": "2021-07-07T18:15:42.054Z"
   },
   {
    "duration": 50,
    "start_time": "2021-07-07T18:15:42.239Z"
   },
   {
    "duration": 5,
    "start_time": "2021-07-07T18:15:42.291Z"
   },
   {
    "duration": 48,
    "start_time": "2021-07-07T18:15:42.297Z"
   },
   {
    "duration": 8,
    "start_time": "2021-07-07T18:15:42.346Z"
   },
   {
    "duration": 17,
    "start_time": "2021-07-07T18:15:42.356Z"
   },
   {
    "duration": 15,
    "start_time": "2021-07-07T18:15:42.375Z"
   },
   {
    "duration": 12,
    "start_time": "2021-07-07T18:15:42.392Z"
   },
   {
    "duration": 7,
    "start_time": "2021-07-07T18:15:42.406Z"
   },
   {
    "duration": 7,
    "start_time": "2021-07-07T18:15:42.415Z"
   },
   {
    "duration": 29,
    "start_time": "2021-07-07T18:15:42.423Z"
   },
   {
    "duration": 43,
    "start_time": "2021-07-07T18:15:42.453Z"
   },
   {
    "duration": 18,
    "start_time": "2021-07-07T18:15:42.497Z"
   },
   {
    "duration": 6,
    "start_time": "2021-07-07T18:15:42.516Z"
   },
   {
    "duration": 3,
    "start_time": "2021-07-07T18:15:42.523Z"
   },
   {
    "duration": 18,
    "start_time": "2021-07-07T18:15:42.528Z"
   },
   {
    "duration": 10,
    "start_time": "2021-07-07T18:15:42.547Z"
   },
   {
    "duration": 36,
    "start_time": "2021-07-07T18:15:42.559Z"
   },
   {
    "duration": 8,
    "start_time": "2021-07-07T18:15:42.597Z"
   },
   {
    "duration": 28,
    "start_time": "2021-07-07T18:15:42.606Z"
   },
   {
    "duration": 52,
    "start_time": "2021-07-07T18:15:42.635Z"
   },
   {
    "duration": 7,
    "start_time": "2021-07-07T18:15:42.690Z"
   },
   {
    "duration": 10,
    "start_time": "2021-07-07T18:15:42.699Z"
   },
   {
    "duration": 19,
    "start_time": "2021-07-07T18:15:42.711Z"
   },
   {
    "duration": 9,
    "start_time": "2021-07-07T18:15:42.732Z"
   },
   {
    "duration": 5,
    "start_time": "2021-07-07T18:15:42.743Z"
   },
   {
    "duration": 1450,
    "start_time": "2021-07-07T18:15:51.984Z"
   },
   {
    "duration": 161,
    "start_time": "2021-07-07T18:15:53.435Z"
   },
   {
    "duration": 124,
    "start_time": "2021-07-07T18:15:53.598Z"
   },
   {
    "duration": 5,
    "start_time": "2021-07-07T18:15:53.724Z"
   },
   {
    "duration": 34,
    "start_time": "2021-07-07T18:15:53.730Z"
   },
   {
    "duration": 7,
    "start_time": "2021-07-07T18:15:53.765Z"
   },
   {
    "duration": 15,
    "start_time": "2021-07-07T18:15:53.773Z"
   },
   {
    "duration": 5,
    "start_time": "2021-07-07T18:15:53.791Z"
   },
   {
    "duration": 19,
    "start_time": "2021-07-07T18:15:53.798Z"
   },
   {
    "duration": 9,
    "start_time": "2021-07-07T18:15:53.818Z"
   },
   {
    "duration": 19,
    "start_time": "2021-07-07T18:15:53.828Z"
   },
   {
    "duration": 27,
    "start_time": "2021-07-07T18:15:53.848Z"
   },
   {
    "duration": 16,
    "start_time": "2021-07-07T18:15:53.884Z"
   },
   {
    "duration": 29,
    "start_time": "2021-07-07T18:15:53.901Z"
   },
   {
    "duration": 5,
    "start_time": "2021-07-07T18:15:53.932Z"
   },
   {
    "duration": 15,
    "start_time": "2021-07-07T18:15:53.939Z"
   },
   {
    "duration": 13,
    "start_time": "2021-07-07T18:15:53.956Z"
   },
   {
    "duration": 20,
    "start_time": "2021-07-07T18:15:53.971Z"
   },
   {
    "duration": 14,
    "start_time": "2021-07-07T18:15:53.992Z"
   },
   {
    "duration": 9,
    "start_time": "2021-07-07T18:15:54.009Z"
   },
   {
    "duration": 28,
    "start_time": "2021-07-07T18:15:54.020Z"
   },
   {
    "duration": 50,
    "start_time": "2021-07-07T18:15:54.051Z"
   },
   {
    "duration": 8,
    "start_time": "2021-07-07T18:15:54.105Z"
   },
   {
    "duration": 11,
    "start_time": "2021-07-07T18:15:54.115Z"
   },
   {
    "duration": 20,
    "start_time": "2021-07-07T18:15:54.128Z"
   },
   {
    "duration": 13,
    "start_time": "2021-07-07T18:15:54.184Z"
   },
   {
    "duration": 7,
    "start_time": "2021-07-07T18:15:54.199Z"
   },
   {
    "duration": 7,
    "start_time": "2021-07-07T18:17:08.042Z"
   },
   {
    "duration": 8,
    "start_time": "2021-07-07T18:17:21.008Z"
   },
   {
    "duration": 7,
    "start_time": "2021-07-07T18:17:29.003Z"
   },
   {
    "duration": 8,
    "start_time": "2021-07-07T18:17:32.492Z"
   },
   {
    "duration": 9,
    "start_time": "2021-07-07T18:17:41.758Z"
   },
   {
    "duration": 255,
    "start_time": "2021-07-07T18:20:20.897Z"
   },
   {
    "duration": 173,
    "start_time": "2021-07-07T18:20:26.636Z"
   },
   {
    "duration": 7,
    "start_time": "2021-07-07T18:21:47.164Z"
   },
   {
    "duration": 254,
    "start_time": "2021-07-07T18:23:08.703Z"
   },
   {
    "duration": 21,
    "start_time": "2021-07-07T18:23:22.506Z"
   },
   {
    "duration": 315,
    "start_time": "2021-07-07T18:25:54.801Z"
   },
   {
    "duration": 34,
    "start_time": "2021-07-07T18:26:51.817Z"
   },
   {
    "duration": 327,
    "start_time": "2021-07-07T18:26:56.147Z"
   },
   {
    "duration": 342,
    "start_time": "2021-07-07T18:27:15.887Z"
   },
   {
    "duration": 302,
    "start_time": "2021-07-07T18:28:18.569Z"
   },
   {
    "duration": 226,
    "start_time": "2021-07-07T18:29:20.879Z"
   },
   {
    "duration": 207,
    "start_time": "2021-07-07T18:29:58.114Z"
   },
   {
    "duration": 140,
    "start_time": "2021-07-07T18:32:04.372Z"
   },
   {
    "duration": 158,
    "start_time": "2021-07-07T18:32:32.508Z"
   },
   {
    "duration": 145,
    "start_time": "2021-07-07T18:32:41.365Z"
   },
   {
    "duration": 132,
    "start_time": "2021-07-07T18:32:45.199Z"
   },
   {
    "duration": 11,
    "start_time": "2021-07-07T18:35:24.679Z"
   },
   {
    "duration": 268,
    "start_time": "2021-07-07T18:36:16.145Z"
   },
   {
    "duration": 227,
    "start_time": "2021-07-07T18:37:04.918Z"
   },
   {
    "duration": 3,
    "start_time": "2021-07-07T18:37:33.012Z"
   },
   {
    "duration": 671,
    "start_time": "2021-07-07T18:37:38.295Z"
   },
   {
    "duration": 54,
    "start_time": "2021-07-07T18:37:53.406Z"
   },
   {
    "duration": 631,
    "start_time": "2021-07-07T18:37:56.463Z"
   },
   {
    "duration": 19,
    "start_time": "2021-07-07T18:39:40.535Z"
   },
   {
    "duration": 20,
    "start_time": "2021-07-07T18:40:12.236Z"
   },
   {
    "duration": 633,
    "start_time": "2021-07-07T18:42:00.398Z"
   },
   {
    "duration": 218,
    "start_time": "2021-07-07T18:42:01.033Z"
   },
   {
    "duration": 49,
    "start_time": "2021-07-07T18:42:01.253Z"
   },
   {
    "duration": 5,
    "start_time": "2021-07-07T18:42:01.303Z"
   },
   {
    "duration": 27,
    "start_time": "2021-07-07T18:42:01.310Z"
   },
   {
    "duration": 8,
    "start_time": "2021-07-07T18:42:01.339Z"
   },
   {
    "duration": 20,
    "start_time": "2021-07-07T18:42:01.348Z"
   },
   {
    "duration": 6,
    "start_time": "2021-07-07T18:42:01.386Z"
   },
   {
    "duration": 16,
    "start_time": "2021-07-07T18:42:01.394Z"
   },
   {
    "duration": 9,
    "start_time": "2021-07-07T18:42:01.411Z"
   },
   {
    "duration": 11,
    "start_time": "2021-07-07T18:42:01.421Z"
   },
   {
    "duration": 31,
    "start_time": "2021-07-07T18:42:01.434Z"
   },
   {
    "duration": 18,
    "start_time": "2021-07-07T18:42:01.485Z"
   },
   {
    "duration": 23,
    "start_time": "2021-07-07T18:42:01.505Z"
   },
   {
    "duration": 6,
    "start_time": "2021-07-07T18:42:01.530Z"
   },
   {
    "duration": 10,
    "start_time": "2021-07-07T18:42:01.538Z"
   },
   {
    "duration": 13,
    "start_time": "2021-07-07T18:42:01.550Z"
   },
   {
    "duration": 24,
    "start_time": "2021-07-07T18:42:01.564Z"
   },
   {
    "duration": 20,
    "start_time": "2021-07-07T18:42:01.590Z"
   },
   {
    "duration": 8,
    "start_time": "2021-07-07T18:42:01.611Z"
   },
   {
    "duration": 31,
    "start_time": "2021-07-07T18:42:01.620Z"
   },
   {
    "duration": 39,
    "start_time": "2021-07-07T18:42:01.653Z"
   },
   {
    "duration": 8,
    "start_time": "2021-07-07T18:42:01.696Z"
   },
   {
    "duration": 13,
    "start_time": "2021-07-07T18:42:01.705Z"
   },
   {
    "duration": 20,
    "start_time": "2021-07-07T18:42:01.720Z"
   },
   {
    "duration": 12,
    "start_time": "2021-07-07T18:42:01.741Z"
   },
   {
    "duration": 35,
    "start_time": "2021-07-07T18:42:01.755Z"
   },
   {
    "duration": 14,
    "start_time": "2021-07-07T18:42:01.792Z"
   },
   {
    "duration": 188,
    "start_time": "2021-07-07T18:42:01.808Z"
   },
   {
    "duration": 19,
    "start_time": "2021-07-07T18:42:01.998Z"
   },
   {
    "duration": 175,
    "start_time": "2021-07-07T18:42:02.019Z"
   },
   {
    "duration": 134,
    "start_time": "2021-07-07T18:42:02.196Z"
   },
   {
    "duration": 10,
    "start_time": "2021-07-07T18:42:02.331Z"
   },
   {
    "duration": 19,
    "start_time": "2021-07-07T18:42:02.343Z"
   },
   {
    "duration": 628,
    "start_time": "2021-07-07T18:46:30.701Z"
   },
   {
    "duration": 183,
    "start_time": "2021-07-07T18:46:31.331Z"
   },
   {
    "duration": 48,
    "start_time": "2021-07-07T18:46:31.516Z"
   },
   {
    "duration": 5,
    "start_time": "2021-07-07T18:46:31.566Z"
   },
   {
    "duration": 28,
    "start_time": "2021-07-07T18:46:31.572Z"
   },
   {
    "duration": 8,
    "start_time": "2021-07-07T18:46:31.602Z"
   },
   {
    "duration": 19,
    "start_time": "2021-07-07T18:46:31.611Z"
   },
   {
    "duration": 6,
    "start_time": "2021-07-07T18:46:31.633Z"
   },
   {
    "duration": 17,
    "start_time": "2021-07-07T18:46:31.642Z"
   },
   {
    "duration": 10,
    "start_time": "2021-07-07T18:46:31.684Z"
   },
   {
    "duration": 9,
    "start_time": "2021-07-07T18:46:31.695Z"
   },
   {
    "duration": 28,
    "start_time": "2021-07-07T18:46:31.705Z"
   },
   {
    "duration": 18,
    "start_time": "2021-07-07T18:46:31.735Z"
   },
   {
    "duration": 48,
    "start_time": "2021-07-07T18:46:31.755Z"
   },
   {
    "duration": 6,
    "start_time": "2021-07-07T18:46:31.804Z"
   },
   {
    "duration": 4,
    "start_time": "2021-07-07T18:46:31.812Z"
   },
   {
    "duration": 9,
    "start_time": "2021-07-07T18:46:31.817Z"
   },
   {
    "duration": 10,
    "start_time": "2021-07-07T18:46:31.827Z"
   },
   {
    "duration": 12,
    "start_time": "2021-07-07T18:46:31.838Z"
   },
   {
    "duration": 39,
    "start_time": "2021-07-07T18:46:31.851Z"
   },
   {
    "duration": 24,
    "start_time": "2021-07-07T18:46:31.892Z"
   },
   {
    "duration": 15,
    "start_time": "2021-07-07T18:46:31.918Z"
   },
   {
    "duration": 7,
    "start_time": "2021-07-07T18:46:31.936Z"
   },
   {
    "duration": 8,
    "start_time": "2021-07-07T18:46:31.944Z"
   },
   {
    "duration": 19,
    "start_time": "2021-07-07T18:46:31.984Z"
   },
   {
    "duration": 10,
    "start_time": "2021-07-07T18:46:32.004Z"
   },
   {
    "duration": 5,
    "start_time": "2021-07-07T18:46:32.016Z"
   },
   {
    "duration": 9,
    "start_time": "2021-07-07T18:46:32.023Z"
   },
   {
    "duration": 199,
    "start_time": "2021-07-07T18:46:32.033Z"
   },
   {
    "duration": 19,
    "start_time": "2021-07-07T18:46:32.234Z"
   },
   {
    "duration": 159,
    "start_time": "2021-07-07T18:46:32.255Z"
   },
   {
    "duration": 134,
    "start_time": "2021-07-07T18:46:32.416Z"
   },
   {
    "duration": 10,
    "start_time": "2021-07-07T18:46:32.552Z"
   },
   {
    "duration": 34,
    "start_time": "2021-07-07T18:46:32.563Z"
   },
   {
    "duration": 1039,
    "start_time": "2021-07-08T08:41:09.419Z"
   },
   {
    "duration": 333,
    "start_time": "2021-07-08T08:41:10.459Z"
   },
   {
    "duration": 173,
    "start_time": "2021-07-08T08:41:10.794Z"
   },
   {
    "duration": 5,
    "start_time": "2021-07-08T08:41:10.968Z"
   },
   {
    "duration": 25,
    "start_time": "2021-07-08T08:41:10.975Z"
   },
   {
    "duration": 9,
    "start_time": "2021-07-08T08:41:11.002Z"
   },
   {
    "duration": 18,
    "start_time": "2021-07-08T08:41:11.013Z"
   },
   {
    "duration": 6,
    "start_time": "2021-07-08T08:41:11.033Z"
   },
   {
    "duration": 44,
    "start_time": "2021-07-08T08:41:11.042Z"
   },
   {
    "duration": 10,
    "start_time": "2021-07-08T08:41:11.088Z"
   },
   {
    "duration": 9,
    "start_time": "2021-07-08T08:41:11.100Z"
   },
   {
    "duration": 27,
    "start_time": "2021-07-08T08:41:11.111Z"
   },
   {
    "duration": 46,
    "start_time": "2021-07-08T08:41:11.140Z"
   },
   {
    "duration": 17,
    "start_time": "2021-07-08T08:41:11.187Z"
   },
   {
    "duration": 6,
    "start_time": "2021-07-08T08:41:11.206Z"
   },
   {
    "duration": 5,
    "start_time": "2021-07-08T08:41:11.213Z"
   },
   {
    "duration": 10,
    "start_time": "2021-07-08T08:41:11.219Z"
   },
   {
    "duration": 9,
    "start_time": "2021-07-08T08:41:11.230Z"
   },
   {
    "duration": 45,
    "start_time": "2021-07-08T08:41:11.241Z"
   },
   {
    "duration": 7,
    "start_time": "2021-07-08T08:41:11.287Z"
   },
   {
    "duration": 24,
    "start_time": "2021-07-08T08:41:11.296Z"
   },
   {
    "duration": 16,
    "start_time": "2021-07-08T08:41:11.322Z"
   },
   {
    "duration": 7,
    "start_time": "2021-07-08T08:41:11.341Z"
   },
   {
    "duration": 41,
    "start_time": "2021-07-08T08:41:11.349Z"
   },
   {
    "duration": 17,
    "start_time": "2021-07-08T08:41:11.391Z"
   },
   {
    "duration": 9,
    "start_time": "2021-07-08T08:41:11.410Z"
   },
   {
    "duration": 5,
    "start_time": "2021-07-08T08:41:11.421Z"
   },
   {
    "duration": 6,
    "start_time": "2021-07-08T08:41:11.428Z"
   },
   {
    "duration": 198,
    "start_time": "2021-07-08T08:41:11.435Z"
   },
   {
    "duration": 18,
    "start_time": "2021-07-08T08:41:11.635Z"
   },
   {
    "duration": 155,
    "start_time": "2021-07-08T08:41:11.655Z"
   },
   {
    "duration": 138,
    "start_time": "2021-07-08T08:41:11.811Z"
   },
   {
    "duration": 10,
    "start_time": "2021-07-08T08:41:11.950Z"
   },
   {
    "duration": 29,
    "start_time": "2021-07-08T08:41:11.961Z"
   },
   {
    "duration": 171,
    "start_time": "2021-07-08T08:47:44.522Z"
   },
   {
    "duration": 124,
    "start_time": "2021-07-08T08:47:46.872Z"
   },
   {
    "duration": 191,
    "start_time": "2021-07-08T08:47:58.148Z"
   },
   {
    "duration": 191,
    "start_time": "2021-07-08T08:48:07.412Z"
   },
   {
    "duration": 261,
    "start_time": "2021-07-08T08:48:10.385Z"
   },
   {
    "duration": 255,
    "start_time": "2021-07-08T08:48:14.494Z"
   },
   {
    "duration": 219,
    "start_time": "2021-07-08T08:48:22.752Z"
   },
   {
    "duration": 173,
    "start_time": "2021-07-08T08:49:06.395Z"
   },
   {
    "duration": 180,
    "start_time": "2021-07-08T08:49:21.011Z"
   },
   {
    "duration": 6,
    "start_time": "2021-07-08T08:50:31.697Z"
   },
   {
    "duration": 10,
    "start_time": "2021-07-08T08:50:47.394Z"
   },
   {
    "duration": 11,
    "start_time": "2021-07-08T08:53:49.332Z"
   },
   {
    "duration": 171,
    "start_time": "2021-07-08T08:54:28.408Z"
   },
   {
    "duration": 636,
    "start_time": "2021-07-08T09:02:48.385Z"
   },
   {
    "duration": 227,
    "start_time": "2021-07-08T09:02:49.023Z"
   },
   {
    "duration": 104,
    "start_time": "2021-07-08T09:02:49.252Z"
   },
   {
    "duration": 5,
    "start_time": "2021-07-08T09:02:49.358Z"
   },
   {
    "duration": 27,
    "start_time": "2021-07-08T09:02:49.365Z"
   },
   {
    "duration": 8,
    "start_time": "2021-07-08T09:02:49.394Z"
   },
   {
    "duration": 18,
    "start_time": "2021-07-08T09:02:49.404Z"
   },
   {
    "duration": 6,
    "start_time": "2021-07-08T09:02:49.424Z"
   },
   {
    "duration": 11,
    "start_time": "2021-07-08T09:02:49.433Z"
   },
   {
    "duration": 13,
    "start_time": "2021-07-08T09:02:49.485Z"
   },
   {
    "duration": 9,
    "start_time": "2021-07-08T09:02:49.500Z"
   },
   {
    "duration": 38,
    "start_time": "2021-07-08T09:02:49.511Z"
   },
   {
    "duration": 42,
    "start_time": "2021-07-08T09:02:49.551Z"
   },
   {
    "duration": 21,
    "start_time": "2021-07-08T09:02:49.594Z"
   },
   {
    "duration": 6,
    "start_time": "2021-07-08T09:02:49.616Z"
   },
   {
    "duration": 3,
    "start_time": "2021-07-08T09:02:49.623Z"
   },
   {
    "duration": 9,
    "start_time": "2021-07-08T09:02:49.628Z"
   },
   {
    "duration": 52,
    "start_time": "2021-07-08T09:02:49.638Z"
   },
   {
    "duration": 11,
    "start_time": "2021-07-08T09:02:49.692Z"
   },
   {
    "duration": 8,
    "start_time": "2021-07-08T09:02:49.704Z"
   },
   {
    "duration": 27,
    "start_time": "2021-07-08T09:02:49.713Z"
   },
   {
    "duration": 59,
    "start_time": "2021-07-08T09:02:49.741Z"
   },
   {
    "duration": 8,
    "start_time": "2021-07-08T09:02:49.803Z"
   },
   {
    "duration": 14,
    "start_time": "2021-07-08T09:02:49.813Z"
   },
   {
    "duration": 20,
    "start_time": "2021-07-08T09:02:49.829Z"
   },
   {
    "duration": 44,
    "start_time": "2021-07-08T09:02:49.851Z"
   },
   {
    "duration": 14,
    "start_time": "2021-07-08T09:02:49.896Z"
   },
   {
    "duration": 221,
    "start_time": "2021-07-08T09:02:49.912Z"
   },
   {
    "duration": 6,
    "start_time": "2021-07-08T09:02:50.134Z"
   },
   {
    "duration": 206,
    "start_time": "2021-07-08T09:02:50.142Z"
   },
   {
    "duration": 19,
    "start_time": "2021-07-08T09:02:50.350Z"
   },
   {
    "duration": 21,
    "start_time": "2021-07-08T09:02:50.370Z"
   },
   {
    "duration": 20,
    "start_time": "2021-07-08T09:02:50.393Z"
   },
   {
    "duration": 5,
    "start_time": "2021-07-08T09:02:50.414Z"
   },
   {
    "duration": 5,
    "start_time": "2021-07-08T09:03:34.173Z"
   },
   {
    "duration": 6,
    "start_time": "2021-07-08T09:04:49.062Z"
   },
   {
    "duration": 9,
    "start_time": "2021-07-08T09:04:50.118Z"
   },
   {
    "duration": 14,
    "start_time": "2021-07-08T09:04:58.512Z"
   },
   {
    "duration": 9,
    "start_time": "2021-07-08T09:05:10.988Z"
   },
   {
    "duration": 11,
    "start_time": "2021-07-08T09:05:11.743Z"
   },
   {
    "duration": 7,
    "start_time": "2021-07-08T09:05:25.677Z"
   },
   {
    "duration": 13,
    "start_time": "2021-07-08T09:05:47.189Z"
   },
   {
    "duration": 13,
    "start_time": "2021-07-08T09:05:54.755Z"
   },
   {
    "duration": 4,
    "start_time": "2021-07-08T09:06:29.189Z"
   },
   {
    "duration": 244,
    "start_time": "2021-07-08T09:06:29.195Z"
   },
   {
    "duration": 91,
    "start_time": "2021-07-08T09:06:29.441Z"
   },
   {
    "duration": 4,
    "start_time": "2021-07-08T09:06:29.534Z"
   },
   {
    "duration": 28,
    "start_time": "2021-07-08T09:06:29.540Z"
   },
   {
    "duration": 6,
    "start_time": "2021-07-08T09:06:29.570Z"
   },
   {
    "duration": 18,
    "start_time": "2021-07-08T09:06:29.578Z"
   },
   {
    "duration": 5,
    "start_time": "2021-07-08T09:06:29.597Z"
   },
   {
    "duration": 13,
    "start_time": "2021-07-08T09:06:29.605Z"
   },
   {
    "duration": 8,
    "start_time": "2021-07-08T09:06:29.620Z"
   },
   {
    "duration": 7,
    "start_time": "2021-07-08T09:06:29.630Z"
   },
   {
    "duration": 63,
    "start_time": "2021-07-08T09:06:29.639Z"
   },
   {
    "duration": 17,
    "start_time": "2021-07-08T09:06:29.704Z"
   },
   {
    "duration": 20,
    "start_time": "2021-07-08T09:06:29.723Z"
   },
   {
    "duration": 6,
    "start_time": "2021-07-08T09:06:29.745Z"
   },
   {
    "duration": 3,
    "start_time": "2021-07-08T09:06:29.752Z"
   },
   {
    "duration": 7,
    "start_time": "2021-07-08T09:06:29.785Z"
   },
   {
    "duration": 11,
    "start_time": "2021-07-08T09:06:29.794Z"
   },
   {
    "duration": 15,
    "start_time": "2021-07-08T09:06:29.807Z"
   },
   {
    "duration": 8,
    "start_time": "2021-07-08T09:06:29.823Z"
   },
   {
    "duration": 70,
    "start_time": "2021-07-08T09:06:29.832Z"
   },
   {
    "duration": 17,
    "start_time": "2021-07-08T09:06:29.903Z"
   },
   {
    "duration": 9,
    "start_time": "2021-07-08T09:06:29.921Z"
   },
   {
    "duration": 9,
    "start_time": "2021-07-08T09:06:29.932Z"
   },
   {
    "duration": 57,
    "start_time": "2021-07-08T09:06:29.942Z"
   },
   {
    "duration": 11,
    "start_time": "2021-07-08T09:06:30.001Z"
   },
   {
    "duration": 19,
    "start_time": "2021-07-08T09:06:30.016Z"
   },
   {
    "duration": 217,
    "start_time": "2021-07-08T09:06:30.037Z"
   },
   {
    "duration": 6,
    "start_time": "2021-07-08T09:06:30.255Z"
   },
   {
    "duration": 205,
    "start_time": "2021-07-08T09:06:30.263Z"
   },
   {
    "duration": 27,
    "start_time": "2021-07-08T09:06:30.470Z"
   },
   {
    "duration": 11,
    "start_time": "2021-07-08T09:06:30.500Z"
   },
   {
    "duration": 31,
    "start_time": "2021-07-08T09:06:30.513Z"
   },
   {
    "duration": 18,
    "start_time": "2021-07-08T09:06:30.546Z"
   },
   {
    "duration": 11,
    "start_time": "2021-07-08T09:06:30.566Z"
   },
   {
    "duration": 19,
    "start_time": "2021-07-08T09:06:30.579Z"
   },
   {
    "duration": 20,
    "start_time": "2021-07-08T09:06:49.466Z"
   },
   {
    "duration": 9,
    "start_time": "2021-07-08T09:06:51.994Z"
   },
   {
    "duration": 20,
    "start_time": "2021-07-08T09:06:52.273Z"
   },
   {
    "duration": 246,
    "start_time": "2021-07-08T09:10:21.272Z"
   },
   {
    "duration": 84,
    "start_time": "2021-07-08T09:10:21.436Z"
   },
   {
    "duration": 7,
    "start_time": "2021-07-08T09:10:37.608Z"
   },
   {
    "duration": 189,
    "start_time": "2021-07-08T09:10:38.573Z"
   },
   {
    "duration": 185,
    "start_time": "2021-07-08T09:10:53.181Z"
   },
   {
    "duration": 11,
    "start_time": "2021-07-08T09:10:59.549Z"
   },
   {
    "duration": 42,
    "start_time": "2021-07-08T09:10:59.709Z"
   },
   {
    "duration": 12,
    "start_time": "2021-07-08T09:11:02.857Z"
   },
   {
    "duration": 28,
    "start_time": "2021-07-08T09:11:10.062Z"
   },
   {
    "duration": 249,
    "start_time": "2021-07-08T09:11:37.388Z"
   },
   {
    "duration": 232,
    "start_time": "2021-07-08T09:11:49.485Z"
   },
   {
    "duration": 453,
    "start_time": "2021-07-08T09:12:01.546Z"
   },
   {
    "duration": 440,
    "start_time": "2021-07-08T09:12:12.347Z"
   },
   {
    "duration": 213,
    "start_time": "2021-07-08T09:13:32.196Z"
   },
   {
    "duration": 172,
    "start_time": "2021-07-08T09:14:07.400Z"
   },
   {
    "duration": 185,
    "start_time": "2021-07-08T09:14:14.905Z"
   },
   {
    "duration": 209,
    "start_time": "2021-07-08T09:14:40.109Z"
   },
   {
    "duration": 201,
    "start_time": "2021-07-08T09:14:54.506Z"
   },
   {
    "duration": 622,
    "start_time": "2021-07-08T09:18:14.497Z"
   },
   {
    "duration": 220,
    "start_time": "2021-07-08T09:18:15.121Z"
   },
   {
    "duration": 79,
    "start_time": "2021-07-08T09:18:15.343Z"
   },
   {
    "duration": 4,
    "start_time": "2021-07-08T09:18:15.425Z"
   },
   {
    "duration": 24,
    "start_time": "2021-07-08T09:18:15.431Z"
   },
   {
    "duration": 8,
    "start_time": "2021-07-08T09:18:15.457Z"
   },
   {
    "duration": 16,
    "start_time": "2021-07-08T09:18:15.466Z"
   },
   {
    "duration": 5,
    "start_time": "2021-07-08T09:18:15.484Z"
   },
   {
    "duration": 10,
    "start_time": "2021-07-08T09:18:15.493Z"
   },
   {
    "duration": 8,
    "start_time": "2021-07-08T09:18:15.504Z"
   },
   {
    "duration": 7,
    "start_time": "2021-07-08T09:18:15.513Z"
   },
   {
    "duration": 26,
    "start_time": "2021-07-08T09:18:15.522Z"
   },
   {
    "duration": 49,
    "start_time": "2021-07-08T09:18:15.550Z"
   },
   {
    "duration": 21,
    "start_time": "2021-07-08T09:18:15.601Z"
   },
   {
    "duration": 8,
    "start_time": "2021-07-08T09:18:15.624Z"
   },
   {
    "duration": 3,
    "start_time": "2021-07-08T09:18:15.634Z"
   },
   {
    "duration": 8,
    "start_time": "2021-07-08T09:18:15.639Z"
   },
   {
    "duration": 45,
    "start_time": "2021-07-08T09:18:15.649Z"
   },
   {
    "duration": 13,
    "start_time": "2021-07-08T09:18:15.696Z"
   },
   {
    "duration": 10,
    "start_time": "2021-07-08T09:18:15.711Z"
   },
   {
    "duration": 64,
    "start_time": "2021-07-08T09:18:15.722Z"
   },
   {
    "duration": 19,
    "start_time": "2021-07-08T09:18:15.788Z"
   },
   {
    "duration": 9,
    "start_time": "2021-07-08T09:18:15.809Z"
   },
   {
    "duration": 9,
    "start_time": "2021-07-08T09:18:15.820Z"
   },
   {
    "duration": 18,
    "start_time": "2021-07-08T09:18:15.831Z"
   },
   {
    "duration": 43,
    "start_time": "2021-07-08T09:18:15.851Z"
   },
   {
    "duration": 12,
    "start_time": "2021-07-08T09:18:15.897Z"
   },
   {
    "duration": 219,
    "start_time": "2021-07-08T09:18:15.911Z"
   },
   {
    "duration": 8,
    "start_time": "2021-07-08T09:18:16.132Z"
   },
   {
    "duration": 199,
    "start_time": "2021-07-08T09:18:16.141Z"
   },
   {
    "duration": 18,
    "start_time": "2021-07-08T09:18:16.341Z"
   },
   {
    "duration": 24,
    "start_time": "2021-07-08T09:18:16.361Z"
   },
   {
    "duration": 24,
    "start_time": "2021-07-08T09:18:16.387Z"
   },
   {
    "duration": 211,
    "start_time": "2021-07-08T09:18:16.413Z"
   },
   {
    "duration": 18,
    "start_time": "2021-07-08T09:18:16.626Z"
   },
   {
    "duration": 596,
    "start_time": "2021-07-08T10:06:33.623Z"
   },
   {
    "duration": 181,
    "start_time": "2021-07-08T10:06:34.221Z"
   },
   {
    "duration": 176,
    "start_time": "2021-07-08T10:06:34.635Z"
   },
   {
    "duration": 239,
    "start_time": "2021-07-08T10:06:55.572Z"
   },
   {
    "duration": 6,
    "start_time": "2021-07-08T10:06:57.687Z"
   },
   {
    "duration": 4,
    "start_time": "2021-07-08T10:07:03.956Z"
   },
   {
    "duration": 4,
    "start_time": "2021-07-08T10:07:10.376Z"
   },
   {
    "duration": 4,
    "start_time": "2021-07-08T10:17:19.889Z"
   },
   {
    "duration": 3,
    "start_time": "2021-07-08T10:19:19.407Z"
   },
   {
    "duration": 197,
    "start_time": "2021-07-08T10:19:19.412Z"
   },
   {
    "duration": 127,
    "start_time": "2021-07-08T10:19:19.611Z"
   },
   {
    "duration": 4,
    "start_time": "2021-07-08T10:19:19.740Z"
   },
   {
    "duration": 27,
    "start_time": "2021-07-08T10:19:19.746Z"
   },
   {
    "duration": 7,
    "start_time": "2021-07-08T10:19:19.775Z"
   },
   {
    "duration": 30,
    "start_time": "2021-07-08T10:19:19.784Z"
   },
   {
    "duration": 7,
    "start_time": "2021-07-08T10:19:19.817Z"
   },
   {
    "duration": 26,
    "start_time": "2021-07-08T10:19:19.826Z"
   },
   {
    "duration": 18,
    "start_time": "2021-07-08T10:19:19.854Z"
   },
   {
    "duration": 14,
    "start_time": "2021-07-08T10:19:19.874Z"
   },
   {
    "duration": 48,
    "start_time": "2021-07-08T10:19:19.890Z"
   },
   {
    "duration": 17,
    "start_time": "2021-07-08T10:19:19.940Z"
   },
   {
    "duration": 38,
    "start_time": "2021-07-08T10:19:19.959Z"
   },
   {
    "duration": 8,
    "start_time": "2021-07-08T10:19:19.999Z"
   },
   {
    "duration": 15,
    "start_time": "2021-07-08T10:19:20.009Z"
   },
   {
    "duration": 22,
    "start_time": "2021-07-08T10:19:20.026Z"
   },
   {
    "duration": 10,
    "start_time": "2021-07-08T10:19:20.050Z"
   },
   {
    "duration": 10,
    "start_time": "2021-07-08T10:19:20.062Z"
   },
   {
    "duration": 20,
    "start_time": "2021-07-08T10:19:20.073Z"
   },
   {
    "duration": 29,
    "start_time": "2021-07-08T10:19:20.095Z"
   },
   {
    "duration": 17,
    "start_time": "2021-07-08T10:19:20.126Z"
   },
   {
    "duration": 40,
    "start_time": "2021-07-08T10:19:20.146Z"
   },
   {
    "duration": 15,
    "start_time": "2021-07-08T10:19:20.189Z"
   },
   {
    "duration": 19,
    "start_time": "2021-07-08T10:19:20.206Z"
   },
   {
    "duration": 10,
    "start_time": "2021-07-08T10:19:20.226Z"
   },
   {
    "duration": 11,
    "start_time": "2021-07-08T10:19:20.238Z"
   },
   {
    "duration": 297,
    "start_time": "2021-07-08T10:19:20.250Z"
   },
   {
    "duration": 6,
    "start_time": "2021-07-08T10:19:20.549Z"
   },
   {
    "duration": 191,
    "start_time": "2021-07-08T10:19:20.557Z"
   },
   {
    "duration": 19,
    "start_time": "2021-07-08T10:19:20.750Z"
   },
   {
    "duration": 20,
    "start_time": "2021-07-08T10:19:20.771Z"
   },
   {
    "duration": 15,
    "start_time": "2021-07-08T10:19:20.793Z"
   },
   {
    "duration": 222,
    "start_time": "2021-07-08T10:19:20.809Z"
   },
   {
    "duration": 20,
    "start_time": "2021-07-08T10:19:21.033Z"
   },
   {
    "duration": 27,
    "start_time": "2021-07-08T10:45:04.055Z"
   },
   {
    "duration": 8,
    "start_time": "2021-07-08T10:45:08.478Z"
   },
   {
    "duration": 8,
    "start_time": "2021-07-08T10:45:31.982Z"
   },
   {
    "duration": 10,
    "start_time": "2021-07-08T10:46:01.221Z"
   },
   {
    "duration": 17,
    "start_time": "2021-07-08T10:46:40.011Z"
   },
   {
    "duration": 193,
    "start_time": "2021-07-08T10:48:19.471Z"
   },
   {
    "duration": 225,
    "start_time": "2021-07-08T10:49:26.480Z"
   },
   {
    "duration": 204,
    "start_time": "2021-07-08T10:49:59.992Z"
   },
   {
    "duration": 435,
    "start_time": "2021-07-08T10:50:06.779Z"
   },
   {
    "duration": 199,
    "start_time": "2021-07-08T10:50:14.891Z"
   },
   {
    "duration": 204,
    "start_time": "2021-07-08T10:50:18.501Z"
   },
   {
    "duration": 244,
    "start_time": "2021-07-08T10:50:23.359Z"
   },
   {
    "duration": 192,
    "start_time": "2021-07-08T10:50:29.135Z"
   },
   {
    "duration": 218,
    "start_time": "2021-07-08T10:50:33.092Z"
   },
   {
    "duration": 207,
    "start_time": "2021-07-08T10:52:45.381Z"
   },
   {
    "duration": 5,
    "start_time": "2021-07-08T10:53:34.641Z"
   },
   {
    "duration": 196,
    "start_time": "2021-07-08T10:53:41.478Z"
   },
   {
    "duration": 43,
    "start_time": "2021-07-08T10:53:50.335Z"
   },
   {
    "duration": 32,
    "start_time": "2021-07-08T10:53:55.294Z"
   },
   {
    "duration": 55,
    "start_time": "2021-07-08T10:54:09.675Z"
   },
   {
    "duration": 16,
    "start_time": "2021-07-08T10:54:12.260Z"
   },
   {
    "duration": 15,
    "start_time": "2021-07-08T10:54:49.150Z"
   },
   {
    "duration": 20,
    "start_time": "2021-07-08T10:56:07.596Z"
   },
   {
    "duration": 16,
    "start_time": "2021-07-08T10:58:26.276Z"
   },
   {
    "duration": 22,
    "start_time": "2021-07-08T10:59:00.486Z"
   },
   {
    "duration": 18,
    "start_time": "2021-07-08T11:02:09.653Z"
   },
   {
    "duration": 10,
    "start_time": "2021-07-08T11:03:44.331Z"
   },
   {
    "duration": 10,
    "start_time": "2021-07-08T11:03:54.055Z"
   },
   {
    "duration": 12,
    "start_time": "2021-07-08T11:04:41.967Z"
   },
   {
    "duration": 24,
    "start_time": "2021-07-08T11:07:30.732Z"
   },
   {
    "duration": 6,
    "start_time": "2021-07-08T11:07:37.364Z"
   },
   {
    "duration": 16,
    "start_time": "2021-07-08T11:08:01.819Z"
   },
   {
    "duration": 17,
    "start_time": "2021-07-08T11:09:47.488Z"
   },
   {
    "duration": 246,
    "start_time": "2021-07-08T11:10:00.830Z"
   },
   {
    "duration": 18,
    "start_time": "2021-07-08T11:13:55.195Z"
   },
   {
    "duration": 204,
    "start_time": "2021-07-08T11:14:04.951Z"
   },
   {
    "duration": 19,
    "start_time": "2021-07-08T11:15:10.613Z"
   },
   {
    "duration": 680,
    "start_time": "2021-07-08T11:16:25.793Z"
   },
   {
    "duration": 451,
    "start_time": "2021-07-08T11:16:40.313Z"
   },
   {
    "duration": 469,
    "start_time": "2021-07-08T11:17:21.286Z"
   },
   {
    "duration": 20,
    "start_time": "2021-07-08T11:19:12.554Z"
   },
   {
    "duration": 35,
    "start_time": "2021-07-08T11:20:05.484Z"
   },
   {
    "duration": 53,
    "start_time": "2021-07-08T11:21:40.050Z"
   },
   {
    "duration": 13,
    "start_time": "2021-07-08T11:22:26.059Z"
   },
   {
    "duration": 19,
    "start_time": "2021-07-08T11:22:47.419Z"
   },
   {
    "duration": 25,
    "start_time": "2021-07-08T11:23:19.958Z"
   },
   {
    "duration": 29,
    "start_time": "2021-07-08T11:23:25.415Z"
   },
   {
    "duration": 10,
    "start_time": "2021-07-08T11:24:45.138Z"
   },
   {
    "duration": 19,
    "start_time": "2021-07-08T11:24:54.498Z"
   },
   {
    "duration": 12,
    "start_time": "2021-07-08T11:25:32.225Z"
   },
   {
    "duration": 19,
    "start_time": "2021-07-08T11:25:37.092Z"
   },
   {
    "duration": 17,
    "start_time": "2021-07-08T11:25:58.116Z"
   },
   {
    "duration": 15,
    "start_time": "2021-07-08T11:26:02.258Z"
   },
   {
    "duration": 8,
    "start_time": "2021-07-08T11:26:59.682Z"
   },
   {
    "duration": 184,
    "start_time": "2021-07-08T11:27:21.894Z"
   },
   {
    "duration": 8,
    "start_time": "2021-07-08T11:27:23.824Z"
   },
   {
    "duration": 202,
    "start_time": "2021-07-08T11:27:23.962Z"
   },
   {
    "duration": 360,
    "start_time": "2021-07-08T11:28:33.215Z"
   },
   {
    "duration": 231,
    "start_time": "2021-07-08T11:32:05.542Z"
   },
   {
    "duration": 607,
    "start_time": "2021-07-08T11:36:27.854Z"
   },
   {
    "duration": 241,
    "start_time": "2021-07-08T11:36:28.463Z"
   },
   {
    "duration": 67,
    "start_time": "2021-07-08T11:36:28.709Z"
   },
   {
    "duration": 5,
    "start_time": "2021-07-08T11:36:28.778Z"
   },
   {
    "duration": 32,
    "start_time": "2021-07-08T11:36:28.784Z"
   },
   {
    "duration": 11,
    "start_time": "2021-07-08T11:36:28.819Z"
   },
   {
    "duration": 20,
    "start_time": "2021-07-08T11:36:28.834Z"
   },
   {
    "duration": 36,
    "start_time": "2021-07-08T11:36:28.857Z"
   },
   {
    "duration": 16,
    "start_time": "2021-07-08T11:36:28.895Z"
   },
   {
    "duration": 14,
    "start_time": "2021-07-08T11:36:28.913Z"
   },
   {
    "duration": 9,
    "start_time": "2021-07-08T11:36:28.930Z"
   },
   {
    "duration": 55,
    "start_time": "2021-07-08T11:36:28.941Z"
   },
   {
    "duration": 27,
    "start_time": "2021-07-08T11:36:28.999Z"
   },
   {
    "duration": 30,
    "start_time": "2021-07-08T11:36:29.028Z"
   },
   {
    "duration": 31,
    "start_time": "2021-07-08T11:36:29.060Z"
   },
   {
    "duration": 3,
    "start_time": "2021-07-08T11:36:29.093Z"
   },
   {
    "duration": 12,
    "start_time": "2021-07-08T11:36:29.099Z"
   },
   {
    "duration": 11,
    "start_time": "2021-07-08T11:36:29.112Z"
   },
   {
    "duration": 12,
    "start_time": "2021-07-08T11:36:29.125Z"
   },
   {
    "duration": 9,
    "start_time": "2021-07-08T11:36:29.139Z"
   },
   {
    "duration": 31,
    "start_time": "2021-07-08T11:36:29.191Z"
   },
   {
    "duration": 17,
    "start_time": "2021-07-08T11:36:29.226Z"
   },
   {
    "duration": 7,
    "start_time": "2021-07-08T11:36:29.245Z"
   },
   {
    "duration": 10,
    "start_time": "2021-07-08T11:36:29.254Z"
   },
   {
    "duration": 30,
    "start_time": "2021-07-08T11:36:29.292Z"
   },
   {
    "duration": 11,
    "start_time": "2021-07-08T11:36:29.324Z"
   },
   {
    "duration": 11,
    "start_time": "2021-07-08T11:36:29.337Z"
   },
   {
    "duration": 230,
    "start_time": "2021-07-08T11:36:29.349Z"
   },
   {
    "duration": 13,
    "start_time": "2021-07-08T11:36:29.588Z"
   },
   {
    "duration": 205,
    "start_time": "2021-07-08T11:36:29.603Z"
   },
   {
    "duration": 20,
    "start_time": "2021-07-08T11:36:29.810Z"
   },
   {
    "duration": 9,
    "start_time": "2021-07-08T11:36:29.832Z"
   },
   {
    "duration": 16,
    "start_time": "2021-07-08T11:36:29.843Z"
   },
   {
    "duration": 283,
    "start_time": "2021-07-08T11:36:29.861Z"
   },
   {
    "duration": 50,
    "start_time": "2021-07-08T11:36:30.146Z"
   },
   {
    "duration": 14,
    "start_time": "2021-07-08T11:36:30.198Z"
   },
   {
    "duration": 11,
    "start_time": "2021-07-08T11:36:30.214Z"
   },
   {
    "duration": 245,
    "start_time": "2021-07-08T11:36:30.227Z"
   },
   {
    "duration": 439,
    "start_time": "2021-07-08T11:36:30.474Z"
   },
   {
    "duration": 210,
    "start_time": "2021-07-08T11:36:30.915Z"
   },
   {
    "duration": 15,
    "start_time": "2021-07-08T11:36:31.127Z"
   },
   {
    "duration": 17,
    "start_time": "2021-07-08T11:38:20.451Z"
   },
   {
    "duration": 642,
    "start_time": "2021-07-08T11:46:17.881Z"
   },
   {
    "duration": 210,
    "start_time": "2021-07-08T11:46:18.525Z"
   },
   {
    "duration": 104,
    "start_time": "2021-07-08T11:46:18.741Z"
   },
   {
    "duration": 8,
    "start_time": "2021-07-08T11:46:18.847Z"
   },
   {
    "duration": 25,
    "start_time": "2021-07-08T11:46:18.857Z"
   },
   {
    "duration": 14,
    "start_time": "2021-07-08T11:46:18.884Z"
   },
   {
    "duration": 22,
    "start_time": "2021-07-08T11:46:18.900Z"
   },
   {
    "duration": 5,
    "start_time": "2021-07-08T11:46:18.924Z"
   },
   {
    "duration": 13,
    "start_time": "2021-07-08T11:46:18.931Z"
   },
   {
    "duration": 45,
    "start_time": "2021-07-08T11:46:18.946Z"
   },
   {
    "duration": 12,
    "start_time": "2021-07-08T11:46:18.993Z"
   },
   {
    "duration": 38,
    "start_time": "2021-07-08T11:46:19.006Z"
   },
   {
    "duration": 50,
    "start_time": "2021-07-08T11:46:19.046Z"
   },
   {
    "duration": 29,
    "start_time": "2021-07-08T11:46:19.099Z"
   },
   {
    "duration": 7,
    "start_time": "2021-07-08T11:46:19.130Z"
   },
   {
    "duration": 3,
    "start_time": "2021-07-08T11:46:19.139Z"
   },
   {
    "duration": 11,
    "start_time": "2021-07-08T11:46:19.144Z"
   },
   {
    "duration": 40,
    "start_time": "2021-07-08T11:46:19.157Z"
   },
   {
    "duration": 15,
    "start_time": "2021-07-08T11:46:19.199Z"
   },
   {
    "duration": 10,
    "start_time": "2021-07-08T11:46:19.217Z"
   },
   {
    "duration": 68,
    "start_time": "2021-07-08T11:46:19.230Z"
   },
   {
    "duration": 17,
    "start_time": "2021-07-08T11:46:19.301Z"
   },
   {
    "duration": 7,
    "start_time": "2021-07-08T11:46:19.321Z"
   },
   {
    "duration": 11,
    "start_time": "2021-07-08T11:46:19.330Z"
   },
   {
    "duration": 59,
    "start_time": "2021-07-08T11:46:19.343Z"
   },
   {
    "duration": 17,
    "start_time": "2021-07-08T11:46:19.405Z"
   },
   {
    "duration": 16,
    "start_time": "2021-07-08T11:46:19.424Z"
   },
   {
    "duration": 252,
    "start_time": "2021-07-08T11:46:19.443Z"
   },
   {
    "duration": 9,
    "start_time": "2021-07-08T11:46:19.697Z"
   },
   {
    "duration": 224,
    "start_time": "2021-07-08T11:46:19.708Z"
   },
   {
    "duration": 21,
    "start_time": "2021-07-08T11:46:19.934Z"
   },
   {
    "duration": 9,
    "start_time": "2021-07-08T11:46:19.956Z"
   },
   {
    "duration": 32,
    "start_time": "2021-07-08T11:46:19.967Z"
   },
   {
    "duration": 288,
    "start_time": "2021-07-08T11:46:20.004Z"
   },
   {
    "duration": 23,
    "start_time": "2021-07-08T11:46:20.300Z"
   },
   {
    "duration": 11,
    "start_time": "2021-07-08T11:46:20.325Z"
   },
   {
    "duration": 11,
    "start_time": "2021-07-08T11:46:20.339Z"
   },
   {
    "duration": 259,
    "start_time": "2021-07-08T11:46:20.352Z"
   },
   {
    "duration": 438,
    "start_time": "2021-07-08T11:46:20.613Z"
   },
   {
    "duration": 207,
    "start_time": "2021-07-08T11:46:21.054Z"
   },
   {
    "duration": 27,
    "start_time": "2021-07-08T11:46:21.262Z"
   },
   {
    "duration": 19,
    "start_time": "2021-07-08T11:46:21.291Z"
   },
   {
    "duration": 820,
    "start_time": "2021-07-08T11:49:01.655Z"
   },
   {
    "duration": 372,
    "start_time": "2021-07-08T11:49:02.478Z"
   },
   {
    "duration": 98,
    "start_time": "2021-07-08T11:49:02.853Z"
   },
   {
    "duration": 6,
    "start_time": "2021-07-08T11:49:02.953Z"
   },
   {
    "duration": 39,
    "start_time": "2021-07-08T11:49:02.960Z"
   },
   {
    "duration": 9,
    "start_time": "2021-07-08T11:49:03.003Z"
   },
   {
    "duration": 23,
    "start_time": "2021-07-08T11:49:03.014Z"
   },
   {
    "duration": 6,
    "start_time": "2021-07-08T11:49:03.041Z"
   },
   {
    "duration": 20,
    "start_time": "2021-07-08T11:49:03.049Z"
   },
   {
    "duration": 18,
    "start_time": "2021-07-08T11:49:03.084Z"
   },
   {
    "duration": 14,
    "start_time": "2021-07-08T11:49:03.104Z"
   },
   {
    "duration": 39,
    "start_time": "2021-07-08T11:49:03.119Z"
   },
   {
    "duration": 38,
    "start_time": "2021-07-08T11:49:03.160Z"
   },
   {
    "duration": 26,
    "start_time": "2021-07-08T11:49:03.200Z"
   },
   {
    "duration": 7,
    "start_time": "2021-07-08T11:49:03.227Z"
   },
   {
    "duration": 4,
    "start_time": "2021-07-08T11:49:03.236Z"
   },
   {
    "duration": 15,
    "start_time": "2021-07-08T11:49:03.243Z"
   },
   {
    "duration": 21,
    "start_time": "2021-07-08T11:49:03.285Z"
   },
   {
    "duration": 17,
    "start_time": "2021-07-08T11:49:03.309Z"
   },
   {
    "duration": 10,
    "start_time": "2021-07-08T11:49:03.328Z"
   },
   {
    "duration": 65,
    "start_time": "2021-07-08T11:49:03.340Z"
   },
   {
    "duration": 18,
    "start_time": "2021-07-08T11:49:03.407Z"
   },
   {
    "duration": 8,
    "start_time": "2021-07-08T11:49:03.428Z"
   },
   {
    "duration": 15,
    "start_time": "2021-07-08T11:49:03.438Z"
   },
   {
    "duration": 40,
    "start_time": "2021-07-08T11:49:03.455Z"
   },
   {
    "duration": 12,
    "start_time": "2021-07-08T11:49:03.497Z"
   },
   {
    "duration": 29,
    "start_time": "2021-07-08T11:49:03.511Z"
   },
   {
    "duration": 285,
    "start_time": "2021-07-08T11:49:03.542Z"
   },
   {
    "duration": 8,
    "start_time": "2021-07-08T11:49:03.829Z"
   },
   {
    "duration": 227,
    "start_time": "2021-07-08T11:49:03.838Z"
   },
   {
    "duration": 40,
    "start_time": "2021-07-08T11:49:04.066Z"
   },
   {
    "duration": 10,
    "start_time": "2021-07-08T11:49:04.108Z"
   },
   {
    "duration": 26,
    "start_time": "2021-07-08T11:49:04.121Z"
   },
   {
    "duration": 290,
    "start_time": "2021-07-08T11:49:04.149Z"
   },
   {
    "duration": 26,
    "start_time": "2021-07-08T11:49:04.441Z"
   },
   {
    "duration": 31,
    "start_time": "2021-07-08T11:49:04.470Z"
   },
   {
    "duration": 14,
    "start_time": "2021-07-08T11:49:04.503Z"
   },
   {
    "duration": 259,
    "start_time": "2021-07-08T11:49:04.521Z"
   },
   {
    "duration": 480,
    "start_time": "2021-07-08T11:49:04.782Z"
   },
   {
    "duration": 225,
    "start_time": "2021-07-08T11:49:05.264Z"
   },
   {
    "duration": 22,
    "start_time": "2021-07-08T11:49:05.491Z"
   },
   {
    "duration": 24,
    "start_time": "2021-07-08T11:49:05.515Z"
   },
   {
    "duration": 634,
    "start_time": "2021-07-08T11:52:24.960Z"
   },
   {
    "duration": 199,
    "start_time": "2021-07-08T11:52:25.599Z"
   },
   {
    "duration": 106,
    "start_time": "2021-07-08T11:52:25.803Z"
   },
   {
    "duration": 7,
    "start_time": "2021-07-08T11:52:25.911Z"
   },
   {
    "duration": 29,
    "start_time": "2021-07-08T11:52:25.920Z"
   },
   {
    "duration": 7,
    "start_time": "2021-07-08T11:52:25.951Z"
   },
   {
    "duration": 26,
    "start_time": "2021-07-08T11:52:25.961Z"
   },
   {
    "duration": 11,
    "start_time": "2021-07-08T11:52:25.990Z"
   },
   {
    "duration": 29,
    "start_time": "2021-07-08T11:52:26.005Z"
   },
   {
    "duration": 9,
    "start_time": "2021-07-08T11:52:26.036Z"
   },
   {
    "duration": 8,
    "start_time": "2021-07-08T11:52:26.047Z"
   },
   {
    "duration": 63,
    "start_time": "2021-07-08T11:52:26.057Z"
   },
   {
    "duration": 17,
    "start_time": "2021-07-08T11:52:26.122Z"
   },
   {
    "duration": 43,
    "start_time": "2021-07-08T11:52:26.142Z"
   },
   {
    "duration": 17,
    "start_time": "2021-07-08T11:52:26.187Z"
   },
   {
    "duration": 5,
    "start_time": "2021-07-08T11:52:26.206Z"
   },
   {
    "duration": 12,
    "start_time": "2021-07-08T11:52:26.212Z"
   },
   {
    "duration": 11,
    "start_time": "2021-07-08T11:52:26.226Z"
   },
   {
    "duration": 12,
    "start_time": "2021-07-08T11:52:26.238Z"
   },
   {
    "duration": 38,
    "start_time": "2021-07-08T11:52:26.252Z"
   },
   {
    "duration": 40,
    "start_time": "2021-07-08T11:52:26.292Z"
   },
   {
    "duration": 17,
    "start_time": "2021-07-08T11:52:26.336Z"
   },
   {
    "duration": 39,
    "start_time": "2021-07-08T11:52:26.355Z"
   },
   {
    "duration": 11,
    "start_time": "2021-07-08T11:52:26.395Z"
   },
   {
    "duration": 23,
    "start_time": "2021-07-08T11:52:26.408Z"
   },
   {
    "duration": 12,
    "start_time": "2021-07-08T11:52:26.432Z"
   },
   {
    "duration": 41,
    "start_time": "2021-07-08T11:52:26.446Z"
   },
   {
    "duration": 215,
    "start_time": "2021-07-08T11:52:26.493Z"
   },
   {
    "duration": 8,
    "start_time": "2021-07-08T11:52:26.710Z"
   },
   {
    "duration": 228,
    "start_time": "2021-07-08T11:52:26.720Z"
   },
   {
    "duration": 18,
    "start_time": "2021-07-08T11:52:26.950Z"
   },
   {
    "duration": 35,
    "start_time": "2021-07-08T11:52:26.969Z"
   },
   {
    "duration": 23,
    "start_time": "2021-07-08T11:52:27.006Z"
   },
   {
    "duration": 258,
    "start_time": "2021-07-08T11:52:27.030Z"
   },
   {
    "duration": 24,
    "start_time": "2021-07-08T11:52:27.290Z"
   },
   {
    "duration": 12,
    "start_time": "2021-07-08T11:52:27.316Z"
   },
   {
    "duration": 10,
    "start_time": "2021-07-08T11:52:27.329Z"
   },
   {
    "duration": 298,
    "start_time": "2021-07-08T11:52:27.341Z"
   },
   {
    "duration": 436,
    "start_time": "2021-07-08T11:52:27.641Z"
   },
   {
    "duration": 216,
    "start_time": "2021-07-08T11:52:28.079Z"
   },
   {
    "duration": 20,
    "start_time": "2021-07-08T11:52:28.297Z"
   },
   {
    "duration": 17,
    "start_time": "2021-07-08T11:52:28.319Z"
   },
   {
    "duration": 852,
    "start_time": "2021-11-25T12:16:46.567Z"
   },
   {
    "duration": 118,
    "start_time": "2021-11-25T12:17:38.512Z"
   },
   {
    "duration": 124,
    "start_time": "2021-11-25T12:19:35.650Z"
   },
   {
    "duration": 16,
    "start_time": "2021-11-25T12:20:39.125Z"
   },
   {
    "duration": 1406,
    "start_time": "2021-11-25T12:21:44.727Z"
   },
   {
    "duration": 125,
    "start_time": "2021-11-25T12:23:40.628Z"
   },
   {
    "duration": 16,
    "start_time": "2021-11-25T12:23:55.459Z"
   },
   {
    "duration": 7,
    "start_time": "2021-11-25T12:24:37.404Z"
   },
   {
    "duration": 18,
    "start_time": "2021-11-25T12:24:54.900Z"
   },
   {
    "duration": 19,
    "start_time": "2021-11-25T12:33:04.594Z"
   },
   {
    "duration": 118,
    "start_time": "2021-11-25T12:36:41.117Z"
   },
   {
    "duration": 18,
    "start_time": "2021-11-25T12:36:41.991Z"
   },
   {
    "duration": 20,
    "start_time": "2021-11-25T12:39:07.544Z"
   },
   {
    "duration": 370,
    "start_time": "2021-11-25T12:39:54.866Z"
   },
   {
    "duration": 19,
    "start_time": "2021-11-25T12:40:01.072Z"
   },
   {
    "duration": 13,
    "start_time": "2021-11-25T12:54:54.712Z"
   },
   {
    "duration": 25,
    "start_time": "2021-11-25T12:55:08.556Z"
   },
   {
    "duration": 23,
    "start_time": "2021-11-25T12:55:47.942Z"
   },
   {
    "duration": 35,
    "start_time": "2021-11-25T12:56:21.629Z"
   },
   {
    "duration": 27,
    "start_time": "2021-11-25T12:59:50.590Z"
   },
   {
    "duration": 25,
    "start_time": "2021-11-25T12:59:58.726Z"
   },
   {
    "duration": 9049,
    "start_time": "2021-11-25T13:17:26.708Z"
   },
   {
    "duration": 1353,
    "start_time": "2021-11-25T13:17:59.750Z"
   },
   {
    "duration": 348,
    "start_time": "2021-11-25T13:18:28.385Z"
   },
   {
    "duration": 352,
    "start_time": "2021-11-25T13:18:55.225Z"
   },
   {
    "duration": 15,
    "start_time": "2021-11-25T13:19:04.983Z"
   },
   {
    "duration": 26,
    "start_time": "2021-11-25T13:19:25.287Z"
   },
   {
    "duration": 17,
    "start_time": "2021-11-25T13:21:16.078Z"
   },
   {
    "duration": 18,
    "start_time": "2021-11-25T13:24:11.777Z"
   },
   {
    "duration": 18,
    "start_time": "2021-11-25T13:24:34.503Z"
   },
   {
    "duration": 20,
    "start_time": "2021-11-25T13:24:59.564Z"
   },
   {
    "duration": 26,
    "start_time": "2021-11-25T13:30:06.310Z"
   },
   {
    "duration": 1321,
    "start_time": "2021-11-25T13:30:40.723Z"
   },
   {
    "duration": 27,
    "start_time": "2021-11-25T13:31:28.297Z"
   },
   {
    "duration": 12,
    "start_time": "2021-11-25T13:32:44.312Z"
   },
   {
    "duration": 12,
    "start_time": "2021-11-25T13:33:23.331Z"
   },
   {
    "duration": 12,
    "start_time": "2021-11-25T13:33:38.334Z"
   },
   {
    "duration": 18,
    "start_time": "2021-11-25T13:33:55.715Z"
   },
   {
    "duration": 12,
    "start_time": "2021-11-25T13:36:56.621Z"
   },
   {
    "duration": 12,
    "start_time": "2021-11-25T13:37:00.327Z"
   },
   {
    "duration": 15,
    "start_time": "2021-11-25T13:37:33.281Z"
   },
   {
    "duration": 19,
    "start_time": "2021-11-25T14:06:18.125Z"
   },
   {
    "duration": 11,
    "start_time": "2021-11-25T14:06:37.114Z"
   },
   {
    "duration": 6,
    "start_time": "2021-11-25T14:07:29.610Z"
   },
   {
    "duration": 203,
    "start_time": "2021-11-26T08:33:39.092Z"
   },
   {
    "duration": 704,
    "start_time": "2021-11-26T08:33:47.050Z"
   },
   {
    "duration": 15,
    "start_time": "2021-11-26T08:33:47.755Z"
   },
   {
    "duration": 19,
    "start_time": "2021-11-26T08:33:49.280Z"
   },
   {
    "duration": 24,
    "start_time": "2021-11-26T08:33:49.914Z"
   },
   {
    "duration": 19,
    "start_time": "2021-11-26T08:33:51.414Z"
   },
   {
    "duration": 12,
    "start_time": "2021-11-26T08:33:52.330Z"
   },
   {
    "duration": 13,
    "start_time": "2021-11-26T08:33:52.748Z"
   },
   {
    "duration": 16,
    "start_time": "2021-11-26T08:33:53.364Z"
   },
   {
    "duration": 209,
    "start_time": "2021-11-26T08:33:54.676Z"
   },
   {
    "duration": 56,
    "start_time": "2021-11-26T08:34:49.186Z"
   },
   {
    "duration": 58,
    "start_time": "2021-11-26T08:34:56.526Z"
   },
   {
    "duration": 15,
    "start_time": "2021-11-26T08:35:34.202Z"
   },
   {
    "duration": 15,
    "start_time": "2021-11-26T08:36:15.248Z"
   },
   {
    "duration": 8,
    "start_time": "2021-11-26T08:39:30.134Z"
   },
   {
    "duration": 65,
    "start_time": "2021-11-26T08:41:38.478Z"
   },
   {
    "duration": 62,
    "start_time": "2021-11-26T08:41:45.803Z"
   },
   {
    "duration": 5,
    "start_time": "2021-11-26T08:42:33.060Z"
   },
   {
    "duration": 8,
    "start_time": "2021-11-26T08:42:50.512Z"
   },
   {
    "duration": 8,
    "start_time": "2021-11-26T08:43:18.925Z"
   },
   {
    "duration": 4,
    "start_time": "2021-11-26T08:43:36.116Z"
   },
   {
    "duration": 10,
    "start_time": "2021-11-26T08:43:37.212Z"
   },
   {
    "duration": 13,
    "start_time": "2021-11-26T08:43:52.043Z"
   },
   {
    "duration": 8,
    "start_time": "2021-11-26T08:44:00.121Z"
   },
   {
    "duration": 120,
    "start_time": "2021-11-26T08:44:06.785Z"
   },
   {
    "duration": 16,
    "start_time": "2021-11-26T08:44:07.154Z"
   },
   {
    "duration": 18,
    "start_time": "2021-11-26T08:44:07.988Z"
   },
   {
    "duration": 23,
    "start_time": "2021-11-26T08:44:08.375Z"
   },
   {
    "duration": 18,
    "start_time": "2021-11-26T08:44:09.210Z"
   },
   {
    "duration": 10,
    "start_time": "2021-11-26T08:44:09.668Z"
   },
   {
    "duration": 10,
    "start_time": "2021-11-26T08:44:09.893Z"
   },
   {
    "duration": 15,
    "start_time": "2021-11-26T08:44:10.148Z"
   },
   {
    "duration": 8,
    "start_time": "2021-11-26T08:44:10.426Z"
   },
   {
    "duration": 3,
    "start_time": "2021-11-26T08:44:10.733Z"
   },
   {
    "duration": 11,
    "start_time": "2021-11-26T08:44:11.037Z"
   },
   {
    "duration": 7,
    "start_time": "2021-11-26T08:44:11.387Z"
   },
   {
    "duration": 9,
    "start_time": "2021-11-26T08:45:05.988Z"
   },
   {
    "duration": 14,
    "start_time": "2021-11-26T08:49:25.199Z"
   },
   {
    "duration": 25,
    "start_time": "2021-11-26T08:52:56.964Z"
   },
   {
    "duration": 173,
    "start_time": "2021-11-26T08:56:03.085Z"
   },
   {
    "duration": 164,
    "start_time": "2021-11-26T08:56:14.312Z"
   },
   {
    "duration": 9,
    "start_time": "2021-11-26T08:59:28.478Z"
   },
   {
    "duration": 29,
    "start_time": "2021-11-26T08:59:46.714Z"
   },
   {
    "duration": 5,
    "start_time": "2021-11-26T08:59:58.012Z"
   },
   {
    "duration": 255,
    "start_time": "2021-11-26T09:01:06.156Z"
   },
   {
    "duration": 1247,
    "start_time": "2021-11-26T09:01:37.101Z"
   },
   {
    "duration": 674,
    "start_time": "2021-11-26T09:01:48.083Z"
   },
   {
    "duration": 682,
    "start_time": "2021-11-26T09:02:41.387Z"
   },
   {
    "duration": 9,
    "start_time": "2021-11-26T09:03:19.986Z"
   },
   {
    "duration": 9,
    "start_time": "2021-11-26T09:05:22.589Z"
   },
   {
    "duration": 9,
    "start_time": "2021-11-26T09:06:13.789Z"
   },
   {
    "duration": 9,
    "start_time": "2021-11-26T09:06:59.273Z"
   },
   {
    "duration": 10,
    "start_time": "2021-11-26T09:07:11.239Z"
   },
   {
    "duration": 11,
    "start_time": "2021-11-26T09:07:33.107Z"
   },
   {
    "duration": 6,
    "start_time": "2021-11-26T09:08:21.273Z"
   },
   {
    "duration": 10,
    "start_time": "2021-11-26T09:10:05.264Z"
   },
   {
    "duration": 10,
    "start_time": "2021-11-26T09:10:06.974Z"
   },
   {
    "duration": 109,
    "start_time": "2021-11-26T09:10:16.745Z"
   },
   {
    "duration": 15,
    "start_time": "2021-11-26T09:10:17.096Z"
   },
   {
    "duration": 20,
    "start_time": "2021-11-26T09:10:17.938Z"
   },
   {
    "duration": 23,
    "start_time": "2021-11-26T09:10:18.212Z"
   },
   {
    "duration": 19,
    "start_time": "2021-11-26T09:10:19.484Z"
   },
   {
    "duration": 11,
    "start_time": "2021-11-26T09:10:20.146Z"
   },
   {
    "duration": 13,
    "start_time": "2021-11-26T09:10:20.479Z"
   },
   {
    "duration": 9,
    "start_time": "2021-11-26T09:10:20.785Z"
   },
   {
    "duration": 8,
    "start_time": "2021-11-26T09:10:21.355Z"
   },
   {
    "duration": 4,
    "start_time": "2021-11-26T09:10:21.621Z"
   },
   {
    "duration": 8,
    "start_time": "2021-11-26T09:10:23.430Z"
   },
   {
    "duration": 3,
    "start_time": "2021-11-26T09:10:24.701Z"
   },
   {
    "duration": 11,
    "start_time": "2021-11-26T09:10:26.364Z"
   },
   {
    "duration": 17,
    "start_time": "2021-11-26T09:12:53.756Z"
   },
   {
    "duration": 25,
    "start_time": "2021-11-26T09:13:41.932Z"
   },
   {
    "duration": 11,
    "start_time": "2021-11-26T09:14:52.484Z"
   },
   {
    "duration": 110,
    "start_time": "2021-11-26T09:16:20.630Z"
   },
   {
    "duration": 16,
    "start_time": "2021-11-26T09:16:21.152Z"
   },
   {
    "duration": 18,
    "start_time": "2021-11-26T09:16:22.688Z"
   },
   {
    "duration": 26,
    "start_time": "2021-11-26T09:16:23.581Z"
   },
   {
    "duration": 19,
    "start_time": "2021-11-26T09:16:25.849Z"
   },
   {
    "duration": 12,
    "start_time": "2021-11-26T09:16:28.235Z"
   },
   {
    "duration": 13,
    "start_time": "2021-11-26T09:16:29.505Z"
   },
   {
    "duration": 8,
    "start_time": "2021-11-26T09:16:30.595Z"
   },
   {
    "duration": 8,
    "start_time": "2021-11-26T09:16:33.957Z"
   },
   {
    "duration": 4,
    "start_time": "2021-11-26T09:16:38.395Z"
   },
   {
    "duration": 8,
    "start_time": "2021-11-26T09:16:39.957Z"
   },
   {
    "duration": 11,
    "start_time": "2021-11-26T09:16:42.352Z"
   },
   {
    "duration": 24,
    "start_time": "2021-11-26T09:16:44.912Z"
   },
   {
    "duration": 173,
    "start_time": "2021-11-26T09:17:31.280Z"
   },
   {
    "duration": 10,
    "start_time": "2021-11-26T09:17:36.918Z"
   },
   {
    "duration": 1166,
    "start_time": "2021-11-26T09:17:53.294Z"
   },
   {
    "duration": 9,
    "start_time": "2021-11-26T09:18:04.858Z"
   },
   {
    "duration": 162,
    "start_time": "2021-11-26T09:20:24.881Z"
   },
   {
    "duration": 19,
    "start_time": "2021-11-26T09:21:11.762Z"
   },
   {
    "duration": 10,
    "start_time": "2021-11-26T09:21:19.285Z"
   },
   {
    "duration": 10,
    "start_time": "2021-11-26T09:21:24.172Z"
   },
   {
    "duration": 10,
    "start_time": "2021-11-26T09:22:32.265Z"
   },
   {
    "duration": 9,
    "start_time": "2021-11-26T09:22:44.876Z"
   },
   {
    "duration": 9,
    "start_time": "2021-11-26T09:24:53.449Z"
   },
   {
    "duration": 11,
    "start_time": "2021-11-26T09:27:25.458Z"
   },
   {
    "duration": 11,
    "start_time": "2021-11-26T09:27:39.752Z"
   },
   {
    "duration": 16,
    "start_time": "2021-11-26T09:28:48.181Z"
   },
   {
    "duration": 25,
    "start_time": "2021-11-26T09:29:26.318Z"
   },
   {
    "duration": 18,
    "start_time": "2021-11-26T09:31:56.461Z"
   },
   {
    "duration": 5,
    "start_time": "2021-11-26T09:34:07.694Z"
   },
   {
    "duration": 5,
    "start_time": "2021-11-26T09:45:49.537Z"
   },
   {
    "duration": 9,
    "start_time": "2021-11-26T09:46:02.951Z"
   },
   {
    "duration": 11,
    "start_time": "2021-11-26T09:48:14.289Z"
   },
   {
    "duration": 7,
    "start_time": "2021-11-26T09:50:35.882Z"
   },
   {
    "duration": 8,
    "start_time": "2021-11-26T09:50:41.782Z"
   },
   {
    "duration": 8,
    "start_time": "2021-11-26T09:50:53.538Z"
   },
   {
    "duration": 106,
    "start_time": "2021-11-26T09:51:12.515Z"
   },
   {
    "duration": 14,
    "start_time": "2021-11-26T09:51:12.970Z"
   },
   {
    "duration": 18,
    "start_time": "2021-11-26T09:51:14.005Z"
   },
   {
    "duration": 24,
    "start_time": "2021-11-26T09:51:14.245Z"
   },
   {
    "duration": 19,
    "start_time": "2021-11-26T09:51:15.059Z"
   },
   {
    "duration": 11,
    "start_time": "2021-11-26T09:51:15.648Z"
   },
   {
    "duration": 12,
    "start_time": "2021-11-26T09:51:16.041Z"
   },
   {
    "duration": 9,
    "start_time": "2021-11-26T09:51:16.398Z"
   },
   {
    "duration": 8,
    "start_time": "2021-11-26T09:51:17.159Z"
   },
   {
    "duration": 4,
    "start_time": "2021-11-26T09:51:17.466Z"
   },
   {
    "duration": 8,
    "start_time": "2021-11-26T09:51:17.856Z"
   },
   {
    "duration": 11,
    "start_time": "2021-11-26T09:51:18.434Z"
   },
   {
    "duration": 26,
    "start_time": "2021-11-26T09:51:19.297Z"
   },
   {
    "duration": 6,
    "start_time": "2021-11-26T09:51:19.747Z"
   },
   {
    "duration": 10,
    "start_time": "2021-11-26T09:51:20.589Z"
   },
   {
    "duration": 18,
    "start_time": "2021-11-26T09:51:21.979Z"
   },
   {
    "duration": 9,
    "start_time": "2021-11-26T09:51:59.646Z"
   },
   {
    "duration": 6,
    "start_time": "2021-11-26T09:52:08.747Z"
   },
   {
    "duration": 6,
    "start_time": "2021-11-26T09:52:39.583Z"
   },
   {
    "duration": 6,
    "start_time": "2021-11-26T09:52:42.868Z"
   },
   {
    "duration": 9,
    "start_time": "2021-11-26T09:52:58.672Z"
   },
   {
    "duration": 9,
    "start_time": "2021-11-26T09:53:22.294Z"
   },
   {
    "duration": 8,
    "start_time": "2021-11-26T09:54:01.765Z"
   },
   {
    "duration": 9,
    "start_time": "2021-11-26T09:54:12.438Z"
   },
   {
    "duration": 10,
    "start_time": "2021-11-26T09:59:21.325Z"
   },
   {
    "duration": 623,
    "start_time": "2021-11-26T09:59:52.717Z"
   },
   {
    "duration": 167,
    "start_time": "2021-11-26T10:00:04.232Z"
   },
   {
    "duration": 10,
    "start_time": "2021-11-26T10:00:33.566Z"
   },
   {
    "duration": 10,
    "start_time": "2021-11-26T10:00:51.062Z"
   },
   {
    "duration": 9,
    "start_time": "2021-11-26T10:03:40.685Z"
   },
   {
    "duration": 10,
    "start_time": "2021-11-26T10:03:53.311Z"
   },
   {
    "duration": 10,
    "start_time": "2021-11-26T10:03:56.746Z"
   },
   {
    "duration": 10,
    "start_time": "2021-11-26T10:04:20.998Z"
   },
   {
    "duration": 9,
    "start_time": "2021-11-26T10:04:57.899Z"
   },
   {
    "duration": 63,
    "start_time": "2021-11-26T10:14:05.326Z"
   },
   {
    "duration": 884,
    "start_time": "2021-11-26T10:14:30.331Z"
   },
   {
    "duration": 13,
    "start_time": "2021-11-26T10:14:48.735Z"
   },
   {
    "duration": 2270,
    "start_time": "2021-11-26T10:15:59.262Z"
   },
   {
    "duration": 823,
    "start_time": "2021-11-26T10:16:11.763Z"
   },
   {
    "duration": 10,
    "start_time": "2021-11-26T10:16:37.873Z"
   },
   {
    "duration": 58,
    "start_time": "2021-11-26T10:17:30.931Z"
   },
   {
    "duration": 309,
    "start_time": "2021-11-26T10:17:53.976Z"
   },
   {
    "duration": 3,
    "start_time": "2021-11-26T10:19:05.177Z"
   },
   {
    "duration": 12,
    "start_time": "2021-11-26T10:19:08.282Z"
   },
   {
    "duration": 9,
    "start_time": "2021-11-26T10:19:09.443Z"
   },
   {
    "duration": 104,
    "start_time": "2021-11-26T10:19:29.376Z"
   },
   {
    "duration": 15,
    "start_time": "2021-11-26T10:19:29.907Z"
   },
   {
    "duration": 18,
    "start_time": "2021-11-26T10:19:31.179Z"
   },
   {
    "duration": 21,
    "start_time": "2021-11-26T10:19:31.349Z"
   },
   {
    "duration": 19,
    "start_time": "2021-11-26T10:19:32.088Z"
   },
   {
    "duration": 10,
    "start_time": "2021-11-26T10:19:32.462Z"
   },
   {
    "duration": 11,
    "start_time": "2021-11-26T10:19:32.664Z"
   },
   {
    "duration": 9,
    "start_time": "2021-11-26T10:19:32.874Z"
   },
   {
    "duration": 8,
    "start_time": "2021-11-26T10:19:33.317Z"
   },
   {
    "duration": 4,
    "start_time": "2021-11-26T10:19:33.534Z"
   },
   {
    "duration": 8,
    "start_time": "2021-11-26T10:19:33.739Z"
   },
   {
    "duration": 11,
    "start_time": "2021-11-26T10:19:34.114Z"
   },
   {
    "duration": 24,
    "start_time": "2021-11-26T10:19:34.493Z"
   },
   {
    "duration": 6,
    "start_time": "2021-11-26T10:19:34.695Z"
   },
   {
    "duration": 10,
    "start_time": "2021-11-26T10:19:34.885Z"
   },
   {
    "duration": 19,
    "start_time": "2021-11-26T10:19:35.092Z"
   },
   {
    "duration": 6,
    "start_time": "2021-11-26T10:19:35.712Z"
   },
   {
    "duration": 10,
    "start_time": "2021-11-26T10:19:36.151Z"
   },
   {
    "duration": 9,
    "start_time": "2021-11-26T10:19:36.664Z"
   },
   {
    "duration": 9,
    "start_time": "2021-11-26T10:19:37.227Z"
   },
   {
    "duration": 3,
    "start_time": "2021-11-26T10:19:37.846Z"
   },
   {
    "duration": 9,
    "start_time": "2021-11-26T10:19:39.304Z"
   },
   {
    "duration": 9,
    "start_time": "2021-11-26T10:19:44.477Z"
   },
   {
    "duration": 55,
    "start_time": "2021-11-26T10:20:10.025Z"
   },
   {
    "duration": 3,
    "start_time": "2021-11-26T10:20:56.625Z"
   },
   {
    "duration": 55,
    "start_time": "2021-11-26T10:22:23.384Z"
   },
   {
    "duration": 3,
    "start_time": "2021-11-26T10:22:28.249Z"
   },
   {
    "duration": 57,
    "start_time": "2021-11-26T10:22:46.941Z"
   },
   {
    "duration": 51,
    "start_time": "2021-11-26T10:23:13.760Z"
   },
   {
    "duration": 58,
    "start_time": "2021-11-26T10:23:23.709Z"
   },
   {
    "duration": 3,
    "start_time": "2021-11-26T10:23:42.078Z"
   },
   {
    "duration": 10,
    "start_time": "2021-11-26T10:23:44.344Z"
   },
   {
    "duration": 9,
    "start_time": "2021-11-26T10:23:48.032Z"
   },
   {
    "duration": 10,
    "start_time": "2021-11-26T10:32:35.791Z"
   },
   {
    "duration": 16,
    "start_time": "2021-11-26T10:32:37.974Z"
   },
   {
    "duration": 15,
    "start_time": "2021-11-26T10:32:41.956Z"
   },
   {
    "duration": 57,
    "start_time": "2021-11-26T10:33:19.241Z"
   },
   {
    "duration": 13,
    "start_time": "2021-11-26T10:33:35.892Z"
   },
   {
    "duration": 14,
    "start_time": "2021-11-26T10:35:21.251Z"
   },
   {
    "duration": 18,
    "start_time": "2021-11-26T10:35:22.356Z"
   },
   {
    "duration": 17,
    "start_time": "2021-11-26T10:35:23.429Z"
   },
   {
    "duration": 8,
    "start_time": "2021-11-26T10:38:27.402Z"
   },
   {
    "duration": 21,
    "start_time": "2021-11-26T10:38:28.858Z"
   },
   {
    "duration": 8,
    "start_time": "2021-11-26T10:38:38.576Z"
   },
   {
    "duration": 11,
    "start_time": "2021-11-26T10:38:39.769Z"
   },
   {
    "duration": 12,
    "start_time": "2021-11-26T10:52:37.204Z"
   },
   {
    "duration": 12,
    "start_time": "2021-11-26T10:52:40.878Z"
   },
   {
    "duration": 9,
    "start_time": "2021-11-26T10:53:30.121Z"
   },
   {
    "duration": 12,
    "start_time": "2021-11-26T10:53:37.129Z"
   },
   {
    "duration": 9,
    "start_time": "2021-11-26T10:53:52.889Z"
   },
   {
    "duration": 7,
    "start_time": "2021-11-26T10:54:03.879Z"
   },
   {
    "duration": 17,
    "start_time": "2021-11-26T10:54:04.682Z"
   },
   {
    "duration": 13,
    "start_time": "2021-11-26T10:54:16.946Z"
   },
   {
    "duration": 7,
    "start_time": "2021-11-26T10:55:00.818Z"
   },
   {
    "duration": 14,
    "start_time": "2021-11-26T10:55:01.638Z"
   },
   {
    "duration": 17,
    "start_time": "2021-11-26T10:55:02.378Z"
   },
   {
    "duration": 148,
    "start_time": "2021-11-26T10:55:22.068Z"
   },
   {
    "duration": 29,
    "start_time": "2021-11-26T10:55:22.305Z"
   },
   {
    "duration": 20,
    "start_time": "2021-11-26T10:55:23.013Z"
   },
   {
    "duration": 31,
    "start_time": "2021-11-26T10:55:23.175Z"
   },
   {
    "duration": 22,
    "start_time": "2021-11-26T10:55:23.662Z"
   },
   {
    "duration": 12,
    "start_time": "2021-11-26T10:55:24.202Z"
   },
   {
    "duration": 13,
    "start_time": "2021-11-26T10:55:24.409Z"
   },
   {
    "duration": 10,
    "start_time": "2021-11-26T10:55:24.600Z"
   },
   {
    "duration": 8,
    "start_time": "2021-11-26T10:55:25.017Z"
   },
   {
    "duration": 4,
    "start_time": "2021-11-26T10:55:25.226Z"
   },
   {
    "duration": 10,
    "start_time": "2021-11-26T10:55:25.420Z"
   },
   {
    "duration": 12,
    "start_time": "2021-11-26T10:55:25.816Z"
   },
   {
    "duration": 25,
    "start_time": "2021-11-26T10:55:26.728Z"
   },
   {
    "duration": 8,
    "start_time": "2021-11-26T10:55:27.138Z"
   },
   {
    "duration": 12,
    "start_time": "2021-11-26T10:55:27.963Z"
   },
   {
    "duration": 20,
    "start_time": "2021-11-26T10:55:28.577Z"
   },
   {
    "duration": 6,
    "start_time": "2021-11-26T10:55:30.758Z"
   },
   {
    "duration": 9,
    "start_time": "2021-11-26T10:55:32.029Z"
   },
   {
    "duration": 12,
    "start_time": "2021-11-26T10:55:35.880Z"
   },
   {
    "duration": 17,
    "start_time": "2021-11-26T10:55:36.868Z"
   },
   {
    "duration": 5,
    "start_time": "2021-11-26T10:55:59.633Z"
   },
   {
    "duration": 10,
    "start_time": "2021-11-26T10:56:00.342Z"
   },
   {
    "duration": 5,
    "start_time": "2021-11-26T10:56:19.865Z"
   },
   {
    "duration": 11,
    "start_time": "2021-11-26T10:56:20.515Z"
   },
   {
    "duration": 10,
    "start_time": "2021-11-26T10:56:31.509Z"
   },
   {
    "duration": 57,
    "start_time": "2021-11-26T10:56:48.297Z"
   },
   {
    "duration": 69,
    "start_time": "2021-11-26T10:57:00.023Z"
   },
   {
    "duration": 5,
    "start_time": "2021-11-26T10:57:19.049Z"
   },
   {
    "duration": 11,
    "start_time": "2021-11-26T10:57:19.648Z"
   },
   {
    "duration": 4,
    "start_time": "2021-11-26T10:57:32.960Z"
   },
   {
    "duration": 12,
    "start_time": "2021-11-26T10:57:33.377Z"
   },
   {
    "duration": 10,
    "start_time": "2021-11-26T10:57:40.945Z"
   },
   {
    "duration": 4,
    "start_time": "2021-11-26T10:57:47.649Z"
   },
   {
    "duration": 10,
    "start_time": "2021-11-26T10:57:48.276Z"
   },
   {
    "duration": 9,
    "start_time": "2021-11-26T10:57:49.633Z"
   },
   {
    "duration": 5,
    "start_time": "2021-11-26T10:57:59.815Z"
   },
   {
    "duration": 10,
    "start_time": "2021-11-26T10:58:01.284Z"
   },
   {
    "duration": 12,
    "start_time": "2021-11-26T10:58:01.905Z"
   },
   {
    "duration": 7,
    "start_time": "2021-11-26T10:58:27.214Z"
   },
   {
    "duration": 10,
    "start_time": "2021-11-26T10:58:27.714Z"
   },
   {
    "duration": 4,
    "start_time": "2021-11-26T10:58:48.308Z"
   },
   {
    "duration": 11,
    "start_time": "2021-11-26T10:58:48.736Z"
   },
   {
    "duration": 140,
    "start_time": "2021-11-26T10:58:55.457Z"
   },
   {
    "duration": 21,
    "start_time": "2021-11-26T10:58:55.725Z"
   },
   {
    "duration": 33,
    "start_time": "2021-11-26T10:58:56.422Z"
   },
   {
    "duration": 30,
    "start_time": "2021-11-26T10:58:56.593Z"
   },
   {
    "duration": 19,
    "start_time": "2021-11-26T10:58:57.128Z"
   },
   {
    "duration": 11,
    "start_time": "2021-11-26T10:58:57.524Z"
   },
   {
    "duration": 14,
    "start_time": "2021-11-26T10:58:57.723Z"
   },
   {
    "duration": 9,
    "start_time": "2021-11-26T10:58:57.928Z"
   },
   {
    "duration": 8,
    "start_time": "2021-11-26T10:58:58.364Z"
   },
   {
    "duration": 3,
    "start_time": "2021-11-26T10:58:58.586Z"
   },
   {
    "duration": 8,
    "start_time": "2021-11-26T10:58:58.821Z"
   },
   {
    "duration": 11,
    "start_time": "2021-11-26T10:58:59.340Z"
   },
   {
    "duration": 24,
    "start_time": "2021-11-26T10:58:59.932Z"
   },
   {
    "duration": 6,
    "start_time": "2021-11-26T10:59:00.149Z"
   },
   {
    "duration": 10,
    "start_time": "2021-11-26T10:59:00.361Z"
   },
   {
    "duration": 17,
    "start_time": "2021-11-26T10:59:00.571Z"
   },
   {
    "duration": 7,
    "start_time": "2021-11-26T10:59:01.448Z"
   },
   {
    "duration": 9,
    "start_time": "2021-11-26T10:59:02.070Z"
   },
   {
    "duration": 10,
    "start_time": "2021-11-26T10:59:02.768Z"
   },
   {
    "duration": 10,
    "start_time": "2021-11-26T10:59:03.207Z"
   },
   {
    "duration": 4,
    "start_time": "2021-11-26T10:59:04.112Z"
   },
   {
    "duration": 14,
    "start_time": "2021-11-26T10:59:04.678Z"
   },
   {
    "duration": 131,
    "start_time": "2021-11-26T11:00:28.662Z"
   },
   {
    "duration": 17,
    "start_time": "2021-11-26T11:00:29.000Z"
   },
   {
    "duration": 19,
    "start_time": "2021-11-26T11:00:29.845Z"
   },
   {
    "duration": 23,
    "start_time": "2021-11-26T11:00:30.030Z"
   },
   {
    "duration": 25,
    "start_time": "2021-11-26T11:00:30.557Z"
   },
   {
    "duration": 12,
    "start_time": "2021-11-26T11:00:30.919Z"
   },
   {
    "duration": 12,
    "start_time": "2021-11-26T11:00:31.112Z"
   },
   {
    "duration": 8,
    "start_time": "2021-11-26T11:00:31.297Z"
   },
   {
    "duration": 8,
    "start_time": "2021-11-26T11:00:31.774Z"
   },
   {
    "duration": 4,
    "start_time": "2021-11-26T11:00:31.992Z"
   },
   {
    "duration": 9,
    "start_time": "2021-11-26T11:00:32.192Z"
   },
   {
    "duration": 12,
    "start_time": "2021-11-26T11:00:32.541Z"
   },
   {
    "duration": 27,
    "start_time": "2021-11-26T11:00:32.901Z"
   },
   {
    "duration": 7,
    "start_time": "2021-11-26T11:00:33.096Z"
   },
   {
    "duration": 11,
    "start_time": "2021-11-26T11:00:33.349Z"
   },
   {
    "duration": 17,
    "start_time": "2021-11-26T11:00:33.872Z"
   },
   {
    "duration": 10,
    "start_time": "2021-11-26T11:00:35.337Z"
   },
   {
    "duration": 9,
    "start_time": "2021-11-26T11:00:36.462Z"
   },
   {
    "duration": 14,
    "start_time": "2021-11-26T11:00:41.936Z"
   },
   {
    "duration": 11,
    "start_time": "2021-11-26T11:00:43.166Z"
   },
   {
    "duration": 6,
    "start_time": "2021-11-26T11:00:48.311Z"
   },
   {
    "duration": 10,
    "start_time": "2021-11-26T11:00:49.188Z"
   },
   {
    "duration": 10,
    "start_time": "2021-11-26T11:02:30.479Z"
   },
   {
    "duration": 5,
    "start_time": "2021-11-26T11:02:50.802Z"
   },
   {
    "duration": 10,
    "start_time": "2021-11-26T11:02:51.591Z"
   },
   {
    "duration": 60,
    "start_time": "2021-11-26T11:03:13.480Z"
   },
   {
    "duration": 1801,
    "start_time": "2021-11-26T11:03:20.060Z"
   },
   {
    "duration": 6,
    "start_time": "2021-11-26T11:03:44.508Z"
   },
   {
    "duration": 7,
    "start_time": "2021-11-26T11:03:51.529Z"
   },
   {
    "duration": 9,
    "start_time": "2021-11-26T11:03:52.410Z"
   },
   {
    "duration": 5,
    "start_time": "2021-11-26T11:09:09.647Z"
   },
   {
    "duration": 17,
    "start_time": "2021-11-26T11:09:23.545Z"
   },
   {
    "duration": 3,
    "start_time": "2021-11-26T11:18:12.938Z"
   },
   {
    "duration": 402,
    "start_time": "2021-11-26T11:19:17.144Z"
   },
   {
    "duration": 786,
    "start_time": "2021-11-26T11:19:25.775Z"
   },
   {
    "duration": 765,
    "start_time": "2021-11-26T11:19:36.913Z"
   },
   {
    "duration": 2,
    "start_time": "2021-11-26T11:20:47.463Z"
   },
   {
    "duration": 389,
    "start_time": "2021-11-26T11:20:48.524Z"
   },
   {
    "duration": 416,
    "start_time": "2021-11-26T11:22:23.759Z"
   },
   {
    "duration": 403,
    "start_time": "2021-11-26T11:22:37.256Z"
   },
   {
    "duration": 3,
    "start_time": "2021-11-26T11:22:54.654Z"
   },
   {
    "duration": 1363,
    "start_time": "2021-11-26T11:22:56.718Z"
   },
   {
    "duration": 3,
    "start_time": "2021-11-26T11:23:51.848Z"
   },
   {
    "duration": 4621,
    "start_time": "2021-11-26T11:23:52.518Z"
   },
   {
    "duration": 3,
    "start_time": "2021-11-26T11:25:48.521Z"
   },
   {
    "duration": 251,
    "start_time": "2021-11-26T11:26:12.329Z"
   },
   {
    "duration": 3,
    "start_time": "2021-11-26T11:28:51.589Z"
   },
   {
    "duration": 179,
    "start_time": "2021-11-26T11:28:58.297Z"
   },
   {
    "duration": 2,
    "start_time": "2021-11-26T11:29:52.234Z"
   },
   {
    "duration": 735,
    "start_time": "2021-11-26T11:29:52.569Z"
   },
   {
    "duration": 746,
    "start_time": "2021-11-26T11:30:04.678Z"
   },
   {
    "duration": 3,
    "start_time": "2021-11-26T11:31:18.955Z"
   },
   {
    "duration": 803,
    "start_time": "2021-11-26T11:31:19.850Z"
   },
   {
    "duration": 831,
    "start_time": "2021-11-26T11:36:00.096Z"
   },
   {
    "duration": 772,
    "start_time": "2021-11-26T11:36:11.161Z"
   },
   {
    "duration": 3,
    "start_time": "2021-11-26T11:39:09.063Z"
   },
   {
    "duration": 420,
    "start_time": "2021-11-26T11:39:09.908Z"
   },
   {
    "duration": 3,
    "start_time": "2021-11-26T11:39:47.378Z"
   },
   {
    "duration": 364,
    "start_time": "2021-11-26T11:39:48.449Z"
   },
   {
    "duration": 3,
    "start_time": "2021-11-26T11:43:55.087Z"
   },
   {
    "duration": 360,
    "start_time": "2021-11-26T11:44:03.849Z"
   },
   {
    "duration": 4,
    "start_time": "2021-11-26T11:45:01.146Z"
   },
   {
    "duration": 663,
    "start_time": "2021-11-26T11:45:51.556Z"
   },
   {
    "duration": 21,
    "start_time": "2021-11-26T11:46:04.345Z"
   },
   {
    "duration": 123,
    "start_time": "2021-11-26T11:46:38.749Z"
   },
   {
    "duration": 15,
    "start_time": "2021-11-26T11:46:38.988Z"
   },
   {
    "duration": 19,
    "start_time": "2021-11-26T11:46:39.690Z"
   },
   {
    "duration": 23,
    "start_time": "2021-11-26T11:46:39.855Z"
   },
   {
    "duration": 18,
    "start_time": "2021-11-26T11:46:40.390Z"
   },
   {
    "duration": 11,
    "start_time": "2021-11-26T11:46:40.742Z"
   },
   {
    "duration": 12,
    "start_time": "2021-11-26T11:46:40.934Z"
   },
   {
    "duration": 9,
    "start_time": "2021-11-26T11:46:41.125Z"
   },
   {
    "duration": 9,
    "start_time": "2021-11-26T11:46:41.499Z"
   },
   {
    "duration": 4,
    "start_time": "2021-11-26T11:46:41.688Z"
   },
   {
    "duration": 9,
    "start_time": "2021-11-26T11:46:41.882Z"
   },
   {
    "duration": 12,
    "start_time": "2021-11-26T11:46:42.321Z"
   },
   {
    "duration": 25,
    "start_time": "2021-11-26T11:46:42.957Z"
   },
   {
    "duration": 6,
    "start_time": "2021-11-26T11:46:43.291Z"
   },
   {
    "duration": 11,
    "start_time": "2021-11-26T11:46:43.983Z"
   },
   {
    "duration": 17,
    "start_time": "2021-11-26T11:46:44.462Z"
   },
   {
    "duration": 7,
    "start_time": "2021-11-26T11:46:45.700Z"
   },
   {
    "duration": 10,
    "start_time": "2021-11-26T11:46:46.920Z"
   },
   {
    "duration": 9,
    "start_time": "2021-11-26T11:46:49.104Z"
   },
   {
    "duration": 10,
    "start_time": "2021-11-26T11:46:50.453Z"
   },
   {
    "duration": 6,
    "start_time": "2021-11-26T11:46:52.321Z"
   },
   {
    "duration": 10,
    "start_time": "2021-11-26T11:46:53.250Z"
   },
   {
    "duration": 16,
    "start_time": "2021-11-26T11:46:59.295Z"
   },
   {
    "duration": 3,
    "start_time": "2021-11-26T11:47:01.900Z"
   },
   {
    "duration": 22,
    "start_time": "2021-11-26T11:47:04.948Z"
   },
   {
    "duration": 28,
    "start_time": "2021-11-26T11:47:54.597Z"
   },
   {
    "duration": 20,
    "start_time": "2021-11-26T11:49:02.606Z"
   },
   {
    "duration": 18,
    "start_time": "2021-11-26T11:49:35.646Z"
   },
   {
    "duration": 16,
    "start_time": "2021-11-26T11:50:01.415Z"
   },
   {
    "duration": 27,
    "start_time": "2021-11-26T11:52:16.047Z"
   },
   {
    "duration": 23,
    "start_time": "2021-11-26T11:52:22.927Z"
   },
   {
    "duration": 20,
    "start_time": "2021-11-26T11:56:15.510Z"
   },
   {
    "duration": 31,
    "start_time": "2021-11-26T11:57:05.480Z"
   },
   {
    "duration": 28,
    "start_time": "2021-11-26T11:57:16.735Z"
   },
   {
    "duration": 24,
    "start_time": "2021-11-26T11:57:51.676Z"
   },
   {
    "duration": 8,
    "start_time": "2021-11-26T11:58:40.806Z"
   },
   {
    "duration": 47270,
    "start_time": "2021-11-26T12:00:59.375Z"
   },
   {
    "duration": 45478,
    "start_time": "2021-11-26T12:02:23.133Z"
   },
   {
    "duration": 79666,
    "start_time": "2021-11-26T12:03:55.985Z"
   },
   {
    "duration": 7,
    "start_time": "2021-11-26T12:08:53.587Z"
   },
   {
    "duration": 6,
    "start_time": "2021-11-26T12:09:08.459Z"
   },
   {
    "duration": 7,
    "start_time": "2021-11-26T12:09:14.275Z"
   },
   {
    "duration": 117,
    "start_time": "2021-11-26T12:13:19.117Z"
   },
   {
    "duration": 16,
    "start_time": "2021-11-26T12:13:19.527Z"
   },
   {
    "duration": 19,
    "start_time": "2021-11-26T12:13:21.700Z"
   },
   {
    "duration": 25,
    "start_time": "2021-11-26T12:13:24.057Z"
   },
   {
    "duration": 21,
    "start_time": "2021-11-26T12:13:25.659Z"
   },
   {
    "duration": 12,
    "start_time": "2021-11-26T12:13:29.593Z"
   },
   {
    "duration": 14,
    "start_time": "2021-11-26T12:13:29.997Z"
   },
   {
    "duration": 11,
    "start_time": "2021-11-26T12:13:38.509Z"
   },
   {
    "duration": 2,
    "start_time": "2021-11-26T12:14:18.824Z"
   },
   {
    "duration": 119,
    "start_time": "2021-11-26T12:14:25.171Z"
   },
   {
    "duration": 18,
    "start_time": "2021-11-26T12:14:25.344Z"
   },
   {
    "duration": 21,
    "start_time": "2021-11-26T12:14:26.159Z"
   },
   {
    "duration": 26,
    "start_time": "2021-11-26T12:14:26.344Z"
   },
   {
    "duration": 22,
    "start_time": "2021-11-26T12:14:26.895Z"
   },
   {
    "duration": 12,
    "start_time": "2021-11-26T12:14:27.265Z"
   },
   {
    "duration": 12,
    "start_time": "2021-11-26T12:14:27.470Z"
   },
   {
    "duration": 10,
    "start_time": "2021-11-26T12:14:27.664Z"
   },
   {
    "duration": 2,
    "start_time": "2021-11-26T12:14:28.006Z"
   },
   {
    "duration": 2,
    "start_time": "2021-11-26T12:14:28.193Z"
   },
   {
    "duration": 2,
    "start_time": "2021-11-26T12:14:28.420Z"
   },
   {
    "duration": 11,
    "start_time": "2021-11-26T12:14:28.820Z"
   },
   {
    "duration": 25,
    "start_time": "2021-11-26T12:14:29.199Z"
   },
   {
    "duration": 6,
    "start_time": "2021-11-26T12:14:29.420Z"
   },
   {
    "duration": 10,
    "start_time": "2021-11-26T12:14:29.584Z"
   },
   {
    "duration": 18,
    "start_time": "2021-11-26T12:14:29.806Z"
   },
   {
    "duration": 6,
    "start_time": "2021-11-26T12:14:30.380Z"
   },
   {
    "duration": 8,
    "start_time": "2021-11-26T12:14:31.649Z"
   },
   {
    "duration": 10,
    "start_time": "2021-11-26T12:14:32.055Z"
   },
   {
    "duration": 11,
    "start_time": "2021-11-26T12:14:32.255Z"
   },
   {
    "duration": 6,
    "start_time": "2021-11-26T12:14:32.685Z"
   },
   {
    "duration": 10,
    "start_time": "2021-11-26T12:14:32.898Z"
   },
   {
    "duration": 15,
    "start_time": "2021-11-26T12:14:33.552Z"
   },
   {
    "duration": 3,
    "start_time": "2021-11-26T12:14:35.163Z"
   },
   {
    "duration": 26,
    "start_time": "2021-11-26T12:14:35.587Z"
   },
   {
    "duration": 24,
    "start_time": "2021-11-26T12:14:36.029Z"
   },
   {
    "duration": 10,
    "start_time": "2021-11-26T12:14:36.253Z"
   },
   {
    "duration": 8,
    "start_time": "2021-11-26T12:14:36.737Z"
   },
   {
    "duration": 31,
    "start_time": "2021-11-26T12:15:00.494Z"
   },
   {
    "duration": 8,
    "start_time": "2021-11-26T12:15:36.880Z"
   },
   {
    "duration": 7,
    "start_time": "2021-11-26T12:15:37.430Z"
   },
   {
    "duration": 52,
    "start_time": "2021-11-26T12:18:50.945Z"
   },
   {
    "duration": 56,
    "start_time": "2021-11-26T12:19:37.303Z"
   },
   {
    "duration": 226,
    "start_time": "2021-11-26T12:19:48.176Z"
   },
   {
    "duration": 342,
    "start_time": "2021-11-26T12:21:48.005Z"
   },
   {
    "duration": 66,
    "start_time": "2021-11-26T12:22:15.327Z"
   },
   {
    "duration": 185,
    "start_time": "2021-11-26T12:23:00.417Z"
   },
   {
    "duration": 194,
    "start_time": "2021-11-26T12:23:13.144Z"
   },
   {
    "duration": 230,
    "start_time": "2021-11-26T12:23:26.889Z"
   },
   {
    "duration": 219,
    "start_time": "2021-11-26T12:24:36.315Z"
   },
   {
    "duration": 222,
    "start_time": "2021-11-26T12:24:44.872Z"
   },
   {
    "duration": 11,
    "start_time": "2021-11-26T12:25:49.233Z"
   },
   {
    "duration": 221,
    "start_time": "2021-11-26T12:30:29.441Z"
   },
   {
    "duration": 214,
    "start_time": "2021-11-26T12:31:07.003Z"
   },
   {
    "duration": 219,
    "start_time": "2021-11-26T12:31:42.183Z"
   },
   {
    "duration": 12,
    "start_time": "2021-11-26T12:31:43.440Z"
   },
   {
    "duration": 123,
    "start_time": "2021-11-26T12:31:56.101Z"
   },
   {
    "duration": 19,
    "start_time": "2021-11-26T12:31:56.283Z"
   },
   {
    "duration": 20,
    "start_time": "2021-11-26T12:31:56.921Z"
   },
   {
    "duration": 32,
    "start_time": "2021-11-26T12:31:57.085Z"
   },
   {
    "duration": 25,
    "start_time": "2021-11-26T12:31:57.539Z"
   },
   {
    "duration": 11,
    "start_time": "2021-11-26T12:31:57.841Z"
   },
   {
    "duration": 13,
    "start_time": "2021-11-26T12:31:57.990Z"
   },
   {
    "duration": 10,
    "start_time": "2021-11-26T12:31:58.137Z"
   },
   {
    "duration": 2,
    "start_time": "2021-11-26T12:31:58.870Z"
   },
   {
    "duration": 3,
    "start_time": "2021-11-26T12:31:59.032Z"
   },
   {
    "duration": 2,
    "start_time": "2021-11-26T12:31:59.199Z"
   },
   {
    "duration": 11,
    "start_time": "2021-11-26T12:31:59.543Z"
   },
   {
    "duration": 26,
    "start_time": "2021-11-26T12:31:59.929Z"
   },
   {
    "duration": 6,
    "start_time": "2021-11-26T12:32:00.286Z"
   },
   {
    "duration": 10,
    "start_time": "2021-11-26T12:32:00.498Z"
   },
   {
    "duration": 17,
    "start_time": "2021-11-26T12:32:00.680Z"
   },
   {
    "duration": 6,
    "start_time": "2021-11-26T12:32:01.426Z"
   },
   {
    "duration": 9,
    "start_time": "2021-11-26T12:32:01.825Z"
   },
   {
    "duration": 9,
    "start_time": "2021-11-26T12:32:02.159Z"
   },
   {
    "duration": 10,
    "start_time": "2021-11-26T12:32:02.389Z"
   },
   {
    "duration": 5,
    "start_time": "2021-11-26T12:32:02.789Z"
   },
   {
    "duration": 10,
    "start_time": "2021-11-26T12:32:02.998Z"
   },
   {
    "duration": 16,
    "start_time": "2021-11-26T12:32:03.597Z"
   },
   {
    "duration": 3,
    "start_time": "2021-11-26T12:32:04.021Z"
   },
   {
    "duration": 27,
    "start_time": "2021-11-26T12:32:04.256Z"
   },
   {
    "duration": 44,
    "start_time": "2021-11-26T12:32:05.058Z"
   },
   {
    "duration": 8,
    "start_time": "2021-11-26T12:32:05.388Z"
   },
   {
    "duration": 7,
    "start_time": "2021-11-26T12:32:06.062Z"
   },
   {
    "duration": 219,
    "start_time": "2021-11-26T12:32:17.997Z"
   },
   {
    "duration": 249,
    "start_time": "2021-11-26T12:33:41.120Z"
   },
   {
    "duration": 53,
    "start_time": "2021-11-26T12:42:15.340Z"
   },
   {
    "duration": 56,
    "start_time": "2021-11-26T12:42:29.661Z"
   },
   {
    "duration": 170,
    "start_time": "2021-11-26T12:42:39.577Z"
   },
   {
    "duration": 193,
    "start_time": "2021-11-26T12:43:06.987Z"
   },
   {
    "duration": 7,
    "start_time": "2021-11-26T12:48:37.352Z"
   },
   {
    "duration": 6,
    "start_time": "2021-11-26T12:48:56.043Z"
   },
   {
    "duration": 45,
    "start_time": "2021-11-26T12:50:26.462Z"
   },
   {
    "duration": 18,
    "start_time": "2021-11-26T12:50:34.985Z"
   },
   {
    "duration": 9,
    "start_time": "2021-11-26T12:51:23.398Z"
   },
   {
    "duration": 7,
    "start_time": "2021-11-26T12:51:47.592Z"
   },
   {
    "duration": 6,
    "start_time": "2021-11-26T12:52:00.315Z"
   },
   {
    "duration": 6,
    "start_time": "2021-11-26T12:52:58.743Z"
   },
   {
    "duration": 210,
    "start_time": "2021-11-26T12:53:22.872Z"
   },
   {
    "duration": 7,
    "start_time": "2021-11-26T12:53:33.496Z"
   },
   {
    "duration": 171,
    "start_time": "2021-11-26T12:55:49.565Z"
   },
   {
    "duration": 55,
    "start_time": "2021-11-26T12:56:12.459Z"
   },
   {
    "duration": 11,
    "start_time": "2021-11-26T12:56:16.206Z"
   },
   {
    "duration": 11,
    "start_time": "2021-11-26T12:56:49.671Z"
   },
   {
    "duration": 6,
    "start_time": "2021-11-26T12:57:06.794Z"
   },
   {
    "duration": 16,
    "start_time": "2021-11-26T13:10:35.743Z"
   },
   {
    "duration": 29,
    "start_time": "2021-11-26T13:10:54.888Z"
   },
   {
    "duration": 34,
    "start_time": "2021-11-26T13:11:49.849Z"
   },
   {
    "duration": 26,
    "start_time": "2021-11-26T13:12:04.340Z"
   },
   {
    "duration": 21,
    "start_time": "2021-11-26T13:13:38.984Z"
   },
   {
    "duration": 20,
    "start_time": "2021-11-26T13:13:42.467Z"
   },
   {
    "duration": 170,
    "start_time": "2021-11-26T13:15:00.242Z"
   },
   {
    "duration": 204,
    "start_time": "2021-11-26T13:15:06.495Z"
   },
   {
    "duration": 6,
    "start_time": "2021-11-26T13:15:12.928Z"
   },
   {
    "duration": 6,
    "start_time": "2021-11-26T13:15:21.925Z"
   },
   {
    "duration": 204,
    "start_time": "2021-11-26T13:15:25.630Z"
   },
   {
    "duration": 143,
    "start_time": "2021-11-26T13:23:18.213Z"
   },
   {
    "duration": 19,
    "start_time": "2021-11-26T13:23:19.470Z"
   },
   {
    "duration": 18,
    "start_time": "2021-11-26T13:23:21.424Z"
   },
   {
    "duration": 25,
    "start_time": "2021-11-26T13:23:21.700Z"
   },
   {
    "duration": 21,
    "start_time": "2021-11-26T13:23:22.290Z"
   },
   {
    "duration": 11,
    "start_time": "2021-11-26T13:23:22.636Z"
   },
   {
    "duration": 11,
    "start_time": "2021-11-26T13:23:22.827Z"
   },
   {
    "duration": 9,
    "start_time": "2021-11-26T13:23:22.995Z"
   },
   {
    "duration": 2,
    "start_time": "2021-11-26T13:23:23.366Z"
   },
   {
    "duration": 2,
    "start_time": "2021-11-26T13:23:23.549Z"
   },
   {
    "duration": 3,
    "start_time": "2021-11-26T13:23:23.743Z"
   },
   {
    "duration": 11,
    "start_time": "2021-11-26T13:23:24.377Z"
   },
   {
    "duration": 25,
    "start_time": "2021-11-26T13:23:24.800Z"
   },
   {
    "duration": 7,
    "start_time": "2021-11-26T13:23:24.994Z"
   },
   {
    "duration": 11,
    "start_time": "2021-11-26T13:23:25.168Z"
   },
   {
    "duration": 18,
    "start_time": "2021-11-26T13:23:25.370Z"
   },
   {
    "duration": 7,
    "start_time": "2021-11-26T13:23:25.945Z"
   },
   {
    "duration": 19,
    "start_time": "2021-11-26T13:23:26.329Z"
   },
   {
    "duration": 13,
    "start_time": "2021-11-26T13:23:26.702Z"
   },
   {
    "duration": 17,
    "start_time": "2021-11-26T13:23:26.891Z"
   },
   {
    "duration": 6,
    "start_time": "2021-11-26T13:23:27.271Z"
   },
   {
    "duration": 10,
    "start_time": "2021-11-26T13:23:27.472Z"
   },
   {
    "duration": 17,
    "start_time": "2021-11-26T13:23:28.084Z"
   },
   {
    "duration": 3,
    "start_time": "2021-11-26T13:23:28.482Z"
   },
   {
    "duration": 26,
    "start_time": "2021-11-26T13:23:28.675Z"
   },
   {
    "duration": 33,
    "start_time": "2021-11-26T13:23:29.074Z"
   },
   {
    "duration": 9,
    "start_time": "2021-11-26T13:23:29.274Z"
   },
   {
    "duration": 6,
    "start_time": "2021-11-26T13:23:29.460Z"
   },
   {
    "duration": 265,
    "start_time": "2021-11-26T13:23:30.248Z"
   },
   {
    "duration": 6,
    "start_time": "2021-11-26T13:23:31.045Z"
   },
   {
    "duration": 187,
    "start_time": "2021-11-26T13:23:31.265Z"
   },
   {
    "duration": 29,
    "start_time": "2021-11-26T13:23:31.903Z"
   },
   {
    "duration": 7,
    "start_time": "2021-11-26T13:29:37.732Z"
   },
   {
    "duration": 58,
    "start_time": "2021-11-26T13:30:29.144Z"
   },
   {
    "duration": 9,
    "start_time": "2021-11-26T13:30:33.898Z"
   },
   {
    "duration": 172,
    "start_time": "2021-11-26T13:31:32.675Z"
   },
   {
    "duration": 179,
    "start_time": "2021-11-26T13:31:43.316Z"
   },
   {
    "duration": 8,
    "start_time": "2021-11-26T13:32:03.421Z"
   },
   {
    "duration": 8,
    "start_time": "2021-11-26T13:32:45.948Z"
   },
   {
    "duration": 8,
    "start_time": "2021-11-26T13:33:00.877Z"
   },
   {
    "duration": 10,
    "start_time": "2021-11-26T13:33:10.754Z"
   },
   {
    "duration": 9,
    "start_time": "2021-11-26T13:33:15.119Z"
   },
   {
    "duration": 9,
    "start_time": "2021-11-26T13:33:46.108Z"
   },
   {
    "duration": 9,
    "start_time": "2021-11-26T13:33:53.456Z"
   },
   {
    "duration": 744,
    "start_time": "2021-11-29T10:50:20.635Z"
   },
   {
    "duration": 17,
    "start_time": "2021-11-29T10:50:21.516Z"
   },
   {
    "duration": 28,
    "start_time": "2021-11-29T10:50:23.687Z"
   },
   {
    "duration": 34,
    "start_time": "2021-11-29T10:50:23.976Z"
   },
   {
    "duration": 19,
    "start_time": "2021-11-29T10:50:24.797Z"
   },
   {
    "duration": 10,
    "start_time": "2021-11-29T10:50:25.206Z"
   },
   {
    "duration": 13,
    "start_time": "2021-11-29T10:50:25.396Z"
   },
   {
    "duration": 8,
    "start_time": "2021-11-29T10:50:25.583Z"
   },
   {
    "duration": 3,
    "start_time": "2021-11-29T10:50:25.976Z"
   },
   {
    "duration": 2,
    "start_time": "2021-11-29T10:50:26.188Z"
   },
   {
    "duration": 2,
    "start_time": "2021-11-29T10:50:26.401Z"
   },
   {
    "duration": 13,
    "start_time": "2021-11-29T10:50:27.186Z"
   },
   {
    "duration": 23,
    "start_time": "2021-11-29T10:50:27.926Z"
   },
   {
    "duration": 6,
    "start_time": "2021-11-29T10:50:28.171Z"
   },
   {
    "duration": 10,
    "start_time": "2021-11-29T10:50:28.382Z"
   },
   {
    "duration": 17,
    "start_time": "2021-11-29T10:50:28.573Z"
   },
   {
    "duration": 6,
    "start_time": "2021-11-29T10:50:29.278Z"
   },
   {
    "duration": 9,
    "start_time": "2021-11-29T10:50:29.905Z"
   },
   {
    "duration": 11,
    "start_time": "2021-11-29T10:50:30.605Z"
   },
   {
    "duration": 11,
    "start_time": "2021-11-29T10:50:30.953Z"
   },
   {
    "duration": 5,
    "start_time": "2021-11-29T10:50:31.582Z"
   },
   {
    "duration": 10,
    "start_time": "2021-11-29T10:50:31.899Z"
   },
   {
    "duration": 15,
    "start_time": "2021-11-29T10:50:33.177Z"
   },
   {
    "duration": 4,
    "start_time": "2021-11-29T10:50:40.187Z"
   },
   {
    "duration": 25,
    "start_time": "2021-11-29T10:50:40.767Z"
   },
   {
    "duration": 33,
    "start_time": "2021-11-29T10:50:42.330Z"
   },
   {
    "duration": 7,
    "start_time": "2021-11-29T10:50:42.988Z"
   },
   {
    "duration": 6,
    "start_time": "2021-11-29T10:50:43.646Z"
   },
   {
    "duration": 261,
    "start_time": "2021-11-29T10:52:01.080Z"
   },
   {
    "duration": 8,
    "start_time": "2021-11-29T10:52:09.691Z"
   },
   {
    "duration": 176,
    "start_time": "2021-11-29T10:52:13.923Z"
   },
   {
    "duration": 20,
    "start_time": "2021-11-29T10:52:25.192Z"
   },
   {
    "duration": 11,
    "start_time": "2021-11-29T10:52:42.359Z"
   },
   {
    "duration": 27,
    "start_time": "2021-11-29T10:57:24.519Z"
   },
   {
    "duration": 228,
    "start_time": "2021-11-29T10:58:59.062Z"
   },
   {
    "duration": 10,
    "start_time": "2021-11-29T10:59:05.768Z"
   },
   {
    "duration": 6,
    "start_time": "2021-11-29T10:59:14.146Z"
   },
   {
    "duration": 7,
    "start_time": "2021-11-29T10:59:44.377Z"
   },
   {
    "duration": 7,
    "start_time": "2021-11-29T11:00:00.338Z"
   },
   {
    "duration": 18,
    "start_time": "2021-11-29T11:00:25.002Z"
   },
   {
    "duration": 28,
    "start_time": "2021-11-29T11:00:44.692Z"
   },
   {
    "duration": 182,
    "start_time": "2021-11-29T11:01:14.868Z"
   },
   {
    "duration": 178,
    "start_time": "2021-11-29T11:01:28.075Z"
   },
   {
    "duration": 20,
    "start_time": "2021-11-29T11:01:32.801Z"
   },
   {
    "duration": 193,
    "start_time": "2021-11-29T11:02:57.965Z"
   },
   {
    "duration": 26,
    "start_time": "2021-11-29T11:03:47.460Z"
   },
   {
    "duration": 871,
    "start_time": "2021-11-29T11:07:37.248Z"
   },
   {
    "duration": 22,
    "start_time": "2021-11-29T11:07:52.376Z"
   },
   {
    "duration": 23,
    "start_time": "2021-11-29T11:09:23.979Z"
   },
   {
    "duration": 23,
    "start_time": "2021-11-29T11:11:50.187Z"
   },
   {
    "duration": 75,
    "start_time": "2021-11-29T11:15:13.765Z"
   },
   {
    "duration": 184,
    "start_time": "2021-11-29T11:15:19.911Z"
   },
   {
    "duration": 24,
    "start_time": "2021-11-29T11:15:52.290Z"
   },
   {
    "duration": 181,
    "start_time": "2021-11-29T11:16:15.491Z"
   },
   {
    "duration": 23,
    "start_time": "2021-11-29T11:18:08.159Z"
   },
   {
    "duration": 22,
    "start_time": "2021-11-29T11:19:50.847Z"
   },
   {
    "duration": 23,
    "start_time": "2021-11-29T11:20:19.487Z"
   },
   {
    "duration": 22,
    "start_time": "2021-11-29T11:20:28.499Z"
   },
   {
    "duration": 21,
    "start_time": "2021-11-29T11:25:40.920Z"
   },
   {
    "duration": 23,
    "start_time": "2021-11-29T11:26:01.804Z"
   },
   {
    "duration": 22,
    "start_time": "2021-11-29T11:26:14.833Z"
   },
   {
    "duration": 707,
    "start_time": "2021-11-29T11:27:24.235Z"
   },
   {
    "duration": 1083,
    "start_time": "2021-11-29T11:27:37.289Z"
   },
   {
    "duration": 4035,
    "start_time": "2021-11-29T11:28:19.016Z"
   },
   {
    "duration": 345,
    "start_time": "2021-11-29T11:28:54.561Z"
   },
   {
    "duration": 4772,
    "start_time": "2021-11-29T11:30:36.189Z"
   },
   {
    "duration": 4191,
    "start_time": "2021-11-29T11:30:54.653Z"
   },
   {
    "duration": 4319,
    "start_time": "2021-11-29T11:31:12.270Z"
   },
   {
    "duration": 12,
    "start_time": "2021-11-29T11:32:30.490Z"
   },
   {
    "duration": 18,
    "start_time": "2021-11-29T11:32:40.779Z"
   },
   {
    "duration": 224,
    "start_time": "2021-11-29T11:34:23.110Z"
   },
   {
    "duration": 13,
    "start_time": "2021-11-29T11:35:22.939Z"
   },
   {
    "duration": 12,
    "start_time": "2021-11-29T11:35:42.533Z"
   },
   {
    "duration": 550,
    "start_time": "2021-11-29T11:40:02.339Z"
   },
   {
    "duration": 58,
    "start_time": "2021-11-29T11:43:24.536Z"
   },
   {
    "duration": 812,
    "start_time": "2021-11-29T11:43:41.912Z"
   },
   {
    "duration": 93045,
    "start_time": "2021-11-29T11:45:53.815Z"
   },
   {
    "duration": 20,
    "start_time": "2021-11-29T12:03:11.828Z"
   },
   {
    "duration": 807,
    "start_time": "2021-11-29T12:04:00.780Z"
   },
   {
    "duration": 19,
    "start_time": "2021-11-29T12:04:09.708Z"
   },
   {
    "duration": 6,
    "start_time": "2021-11-29T12:21:19.467Z"
   },
   {
    "duration": 40,
    "start_time": "2021-11-29T12:21:25.173Z"
   },
   {
    "duration": 18,
    "start_time": "2021-11-29T12:22:04.336Z"
   },
   {
    "duration": 27,
    "start_time": "2021-11-29T12:23:50.558Z"
   },
   {
    "duration": 53,
    "start_time": "2021-11-29T12:24:53.172Z"
   },
   {
    "duration": 60,
    "start_time": "2021-11-29T12:25:01.357Z"
   },
   {
    "duration": 10,
    "start_time": "2021-11-29T12:25:07.895Z"
   },
   {
    "duration": 9,
    "start_time": "2021-11-29T12:25:52.110Z"
   },
   {
    "duration": 10,
    "start_time": "2021-11-29T12:26:15.230Z"
   },
   {
    "duration": 55,
    "start_time": "2021-11-29T12:28:52.695Z"
   },
   {
    "duration": 60,
    "start_time": "2021-11-29T12:28:56.013Z"
   },
   {
    "duration": 17,
    "start_time": "2021-11-29T12:29:08.651Z"
   },
   {
    "duration": 32,
    "start_time": "2021-11-29T12:31:53.301Z"
   },
   {
    "duration": 18,
    "start_time": "2021-11-29T12:33:07.334Z"
   },
   {
    "duration": 10,
    "start_time": "2021-11-29T12:33:30.823Z"
   },
   {
    "duration": 27,
    "start_time": "2021-11-29T12:33:55.194Z"
   },
   {
    "duration": 31,
    "start_time": "2021-11-29T12:35:42.909Z"
   },
   {
    "duration": 6,
    "start_time": "2021-11-29T12:40:31.164Z"
   },
   {
    "duration": 4,
    "start_time": "2021-11-29T12:41:03.108Z"
   },
   {
    "duration": 4,
    "start_time": "2021-11-29T12:41:27.199Z"
   },
   {
    "duration": 62,
    "start_time": "2021-11-29T12:43:26.902Z"
   },
   {
    "duration": 5,
    "start_time": "2021-11-29T12:43:32.463Z"
   },
   {
    "duration": 5,
    "start_time": "2021-11-29T12:44:16.680Z"
   },
   {
    "duration": 164,
    "start_time": "2021-11-29T12:48:15.500Z"
   },
   {
    "duration": 16,
    "start_time": "2021-11-29T12:48:36.732Z"
   },
   {
    "duration": 668,
    "start_time": "2021-11-29T12:51:35.940Z"
   },
   {
    "duration": 732,
    "start_time": "2021-11-29T12:52:10.290Z"
   },
   {
    "duration": 30,
    "start_time": "2021-11-29T12:52:47.296Z"
   },
   {
    "duration": 35,
    "start_time": "2021-11-29T12:54:24.069Z"
   },
   {
    "duration": 5,
    "start_time": "2021-11-29T12:56:57.117Z"
   },
   {
    "duration": 5,
    "start_time": "2021-11-29T13:00:30.971Z"
   },
   {
    "duration": 5,
    "start_time": "2021-11-29T13:02:25.735Z"
   },
   {
    "duration": 5,
    "start_time": "2021-11-29T13:03:02.908Z"
   },
   {
    "duration": 5,
    "start_time": "2021-11-29T13:03:13.036Z"
   },
   {
    "duration": 4,
    "start_time": "2021-11-29T13:03:35.353Z"
   },
   {
    "duration": 5,
    "start_time": "2021-11-29T13:04:24.135Z"
   },
   {
    "duration": 30,
    "start_time": "2021-11-29T13:05:57.363Z"
   },
   {
    "duration": 39,
    "start_time": "2021-11-29T13:05:59.719Z"
   },
   {
    "duration": 60,
    "start_time": "2021-11-29T13:07:02.995Z"
   },
   {
    "duration": 64,
    "start_time": "2021-11-29T13:09:19.639Z"
   },
   {
    "duration": 6,
    "start_time": "2021-11-29T13:09:24.069Z"
   },
   {
    "duration": 64,
    "start_time": "2021-11-29T13:27:37.657Z"
   },
   {
    "duration": 8,
    "start_time": "2021-11-29T13:27:40.711Z"
   },
   {
    "duration": 7,
    "start_time": "2021-11-29T13:28:00.512Z"
   },
   {
    "duration": 4,
    "start_time": "2021-11-29T13:28:46.339Z"
   },
   {
    "duration": 6,
    "start_time": "2021-11-29T13:29:17.736Z"
   },
   {
    "duration": 232,
    "start_time": "2021-11-29T13:31:35.905Z"
   },
   {
    "duration": 245,
    "start_time": "2021-11-29T13:31:52.300Z"
   },
   {
    "duration": 223,
    "start_time": "2021-11-29T13:32:03.174Z"
   },
   {
    "duration": 66,
    "start_time": "2021-11-29T13:32:13.959Z"
   },
   {
    "duration": 7,
    "start_time": "2021-11-29T13:32:18.991Z"
   },
   {
    "duration": 68,
    "start_time": "2021-11-29T13:35:03.354Z"
   },
   {
    "duration": 8,
    "start_time": "2021-11-29T13:35:08.523Z"
   },
   {
    "duration": 10,
    "start_time": "2021-11-29T13:35:21.725Z"
   },
   {
    "duration": 11,
    "start_time": "2021-11-29T13:35:36.574Z"
   },
   {
    "duration": 180,
    "start_time": "2021-11-29T13:44:44.542Z"
   },
   {
    "duration": 21,
    "start_time": "2021-11-29T13:44:44.737Z"
   },
   {
    "duration": 22,
    "start_time": "2021-11-29T13:44:45.507Z"
   },
   {
    "duration": 28,
    "start_time": "2021-11-29T13:44:45.697Z"
   },
   {
    "duration": 28,
    "start_time": "2021-11-29T13:44:46.188Z"
   },
   {
    "duration": 12,
    "start_time": "2021-11-29T13:44:46.529Z"
   },
   {
    "duration": 16,
    "start_time": "2021-11-29T13:44:46.998Z"
   },
   {
    "duration": 9,
    "start_time": "2021-11-29T13:44:47.178Z"
   },
   {
    "duration": 2,
    "start_time": "2021-11-29T13:44:47.778Z"
   },
   {
    "duration": 54,
    "start_time": "2021-11-29T13:45:02.622Z"
   },
   {
    "duration": 8,
    "start_time": "2021-11-29T13:45:11.862Z"
   },
   {
    "duration": 4,
    "start_time": "2021-11-29T13:45:29.865Z"
   },
   {
    "duration": 10,
    "start_time": "2021-11-29T13:45:36.185Z"
   },
   {
    "duration": 17,
    "start_time": "2021-11-29T13:47:03.373Z"
   },
   {
    "duration": 27,
    "start_time": "2021-11-29T13:47:05.709Z"
   },
   {
    "duration": 7,
    "start_time": "2021-11-29T13:47:06.486Z"
   },
   {
    "duration": 13,
    "start_time": "2021-11-29T13:47:07.294Z"
   },
   {
    "duration": 17,
    "start_time": "2021-11-29T13:47:08.767Z"
   },
   {
    "duration": 7,
    "start_time": "2021-11-29T13:47:15.858Z"
   },
   {
    "duration": 14,
    "start_time": "2021-11-29T13:47:16.709Z"
   },
   {
    "duration": 14,
    "start_time": "2021-11-29T13:47:17.412Z"
   },
   {
    "duration": 11,
    "start_time": "2021-11-29T13:47:17.855Z"
   },
   {
    "duration": 6,
    "start_time": "2021-11-29T13:47:18.956Z"
   },
   {
    "duration": 10,
    "start_time": "2021-11-29T13:47:19.785Z"
   },
   {
    "duration": 17,
    "start_time": "2021-11-29T13:47:23.844Z"
   },
   {
    "duration": 3,
    "start_time": "2021-11-29T13:47:25.504Z"
   },
   {
    "duration": 35,
    "start_time": "2021-11-29T13:47:25.979Z"
   },
   {
    "duration": 38,
    "start_time": "2021-11-29T13:47:26.989Z"
   },
   {
    "duration": 10,
    "start_time": "2021-11-29T13:47:30.963Z"
   },
   {
    "duration": 13,
    "start_time": "2021-11-29T13:47:39.604Z"
   },
   {
    "duration": 299,
    "start_time": "2021-11-29T13:48:13.489Z"
   },
   {
    "duration": 7,
    "start_time": "2021-11-29T13:48:31.339Z"
   },
   {
    "duration": 195,
    "start_time": "2021-11-29T13:48:31.816Z"
   },
   {
    "duration": 24,
    "start_time": "2021-11-29T13:48:43.083Z"
   },
   {
    "duration": 17,
    "start_time": "2021-11-29T13:48:47.987Z"
   },
   {
    "duration": 103,
    "start_time": "2021-11-29T13:50:20.254Z"
   },
   {
    "duration": 107,
    "start_time": "2021-11-29T13:51:06.270Z"
   },
   {
    "duration": 166,
    "start_time": "2021-11-29T13:51:15.062Z"
   },
   {
    "duration": 19,
    "start_time": "2021-11-29T13:54:34.417Z"
   },
   {
    "duration": 21,
    "start_time": "2021-11-29T13:54:35.239Z"
   },
   {
    "duration": 30,
    "start_time": "2021-11-29T13:54:36.779Z"
   },
   {
    "duration": 5,
    "start_time": "2021-11-29T13:54:37.553Z"
   },
   {
    "duration": 5,
    "start_time": "2021-11-29T13:54:38.881Z"
   },
   {
    "duration": 4,
    "start_time": "2021-11-29T13:54:39.933Z"
   },
   {
    "duration": 4,
    "start_time": "2021-11-29T13:54:40.967Z"
   },
   {
    "duration": 4,
    "start_time": "2021-11-29T13:54:41.784Z"
   },
   {
    "duration": 5,
    "start_time": "2021-11-29T13:54:42.412Z"
   },
   {
    "duration": 31,
    "start_time": "2021-11-29T13:54:48.237Z"
   },
   {
    "duration": 27,
    "start_time": "2021-11-29T13:54:48.797Z"
   },
   {
    "duration": 6,
    "start_time": "2021-11-29T13:54:50.403Z"
   },
   {
    "duration": 1093,
    "start_time": "2021-11-29T17:40:48.316Z"
   },
   {
    "duration": 22,
    "start_time": "2021-11-29T17:40:49.411Z"
   },
   {
    "duration": 31,
    "start_time": "2021-11-29T17:40:49.437Z"
   },
   {
    "duration": 66,
    "start_time": "2021-11-29T17:40:49.472Z"
   },
   {
    "duration": 29,
    "start_time": "2021-11-29T17:40:49.541Z"
   },
   {
    "duration": 15,
    "start_time": "2021-11-29T17:40:49.573Z"
   },
   {
    "duration": 54,
    "start_time": "2021-11-29T17:40:49.591Z"
   },
   {
    "duration": 13,
    "start_time": "2021-11-29T17:40:49.651Z"
   },
   {
    "duration": 21,
    "start_time": "2021-11-29T17:40:49.668Z"
   },
   {
    "duration": 19,
    "start_time": "2021-11-29T17:40:49.692Z"
   },
   {
    "duration": 20,
    "start_time": "2021-11-29T17:40:49.713Z"
   },
   {
    "duration": 28,
    "start_time": "2021-11-29T17:40:49.736Z"
   },
   {
    "duration": 40,
    "start_time": "2021-11-29T17:40:49.767Z"
   },
   {
    "duration": 25,
    "start_time": "2021-11-29T17:40:49.810Z"
   },
   {
    "duration": 37,
    "start_time": "2021-11-29T17:40:49.837Z"
   },
   {
    "duration": 32,
    "start_time": "2021-11-29T17:40:49.877Z"
   },
   {
    "duration": 18,
    "start_time": "2021-11-29T17:40:49.912Z"
   },
   {
    "duration": 29,
    "start_time": "2021-11-29T17:40:49.932Z"
   },
   {
    "duration": 15,
    "start_time": "2021-11-29T17:40:49.963Z"
   },
   {
    "duration": 24,
    "start_time": "2021-11-29T17:40:49.980Z"
   },
   {
    "duration": 14,
    "start_time": "2021-11-29T17:40:50.006Z"
   },
   {
    "duration": 26,
    "start_time": "2021-11-29T17:40:50.023Z"
   },
   {
    "duration": 29,
    "start_time": "2021-11-29T17:40:50.056Z"
   },
   {
    "duration": 4,
    "start_time": "2021-11-29T17:40:50.089Z"
   },
   {
    "duration": 61,
    "start_time": "2021-11-29T17:40:50.096Z"
   },
   {
    "duration": 72,
    "start_time": "2021-11-29T17:40:50.160Z"
   },
   {
    "duration": 10,
    "start_time": "2021-11-29T17:40:50.235Z"
   },
   {
    "duration": 15,
    "start_time": "2021-11-29T17:40:50.248Z"
   },
   {
    "duration": 415,
    "start_time": "2021-11-29T17:40:50.265Z"
   },
   {
    "duration": 8,
    "start_time": "2021-11-29T17:40:50.683Z"
   },
   {
    "duration": 303,
    "start_time": "2021-11-29T17:40:50.693Z"
   },
   {
    "duration": 39,
    "start_time": "2021-11-29T17:40:50.998Z"
   },
   {
    "duration": 16,
    "start_time": "2021-11-29T17:40:51.040Z"
   },
   {
    "duration": 396,
    "start_time": "2021-11-29T17:40:51.059Z"
   },
   {
    "duration": 31,
    "start_time": "2021-11-29T17:40:51.457Z"
   },
   {
    "duration": 50,
    "start_time": "2021-11-29T17:40:51.490Z"
   },
   {
    "duration": 101,
    "start_time": "2021-11-29T17:40:51.543Z"
   },
   {
    "duration": 7,
    "start_time": "2021-11-29T17:40:51.646Z"
   },
   {
    "duration": 10,
    "start_time": "2021-11-29T17:40:51.655Z"
   },
   {
    "duration": 8,
    "start_time": "2021-11-29T17:40:51.667Z"
   },
   {
    "duration": 6,
    "start_time": "2021-11-29T17:40:51.677Z"
   },
   {
    "duration": 46,
    "start_time": "2021-11-29T17:40:51.685Z"
   },
   {
    "duration": 22,
    "start_time": "2021-11-29T17:40:51.733Z"
   },
   {
    "duration": 47,
    "start_time": "2021-11-29T17:40:51.757Z"
   },
   {
    "duration": 59,
    "start_time": "2021-11-29T17:40:51.806Z"
   },
   {
    "duration": 8,
    "start_time": "2021-11-29T17:40:51.867Z"
   },
   {
    "duration": 16,
    "start_time": "2021-11-29T17:40:51.877Z"
   },
   {
    "duration": 44,
    "start_time": "2021-11-29T17:40:51.895Z"
   },
   {
    "duration": 147,
    "start_time": "2021-11-29T17:42:12.423Z"
   },
   {
    "duration": 129,
    "start_time": "2021-11-29T17:46:26.136Z"
   },
   {
    "duration": 501,
    "start_time": "2021-11-29T17:55:16.684Z"
   },
   {
    "duration": 290,
    "start_time": "2021-11-29T17:56:39.527Z"
   },
   {
    "duration": 604,
    "start_time": "2021-11-29T17:58:57.337Z"
   },
   {
    "duration": 657,
    "start_time": "2021-11-29T17:59:17.077Z"
   },
   {
    "duration": 128,
    "start_time": "2021-11-29T18:02:32.587Z"
   },
   {
    "duration": 808,
    "start_time": "2021-11-30T09:13:10.984Z"
   },
   {
    "duration": 122,
    "start_time": "2021-11-30T09:13:47.958Z"
   },
   {
    "duration": 16,
    "start_time": "2021-11-30T09:13:51.092Z"
   },
   {
    "duration": 19,
    "start_time": "2021-11-30T09:14:13.637Z"
   },
   {
    "duration": 27,
    "start_time": "2021-11-30T09:14:24.445Z"
   },
   {
    "duration": 21,
    "start_time": "2021-11-30T09:14:36.618Z"
   },
   {
    "duration": 12,
    "start_time": "2021-11-30T09:14:43.791Z"
   },
   {
    "duration": 16,
    "start_time": "2021-11-30T09:14:44.509Z"
   },
   {
    "duration": 12,
    "start_time": "2021-11-30T09:14:49.856Z"
   },
   {
    "duration": 12,
    "start_time": "2021-11-30T09:14:53.070Z"
   },
   {
    "duration": 4,
    "start_time": "2021-11-30T09:14:55.743Z"
   },
   {
    "duration": 8,
    "start_time": "2021-11-30T09:14:56.017Z"
   },
   {
    "duration": 11,
    "start_time": "2021-11-30T09:14:57.917Z"
   },
   {
    "duration": 30,
    "start_time": "2021-11-30T09:15:02.848Z"
   },
   {
    "duration": 6,
    "start_time": "2021-11-30T09:15:03.686Z"
   },
   {
    "duration": 10,
    "start_time": "2021-11-30T09:15:04.231Z"
   },
   {
    "duration": 13,
    "start_time": "2021-11-30T09:15:18.776Z"
   },
   {
    "duration": 19,
    "start_time": "2021-11-30T09:15:51.185Z"
   },
   {
    "duration": 19,
    "start_time": "2021-11-30T09:16:06.787Z"
   },
   {
    "duration": 7,
    "start_time": "2021-11-30T09:16:42.724Z"
   },
   {
    "duration": 10,
    "start_time": "2021-11-30T09:16:44.728Z"
   },
   {
    "duration": 10,
    "start_time": "2021-11-30T09:16:59.310Z"
   },
   {
    "duration": 11,
    "start_time": "2021-11-30T09:17:09.639Z"
   },
   {
    "duration": 13,
    "start_time": "2021-11-30T09:17:17.979Z"
   },
   {
    "duration": 7,
    "start_time": "2021-11-30T09:17:32.016Z"
   },
   {
    "duration": 10,
    "start_time": "2021-11-30T09:17:41.484Z"
   },
   {
    "duration": 18,
    "start_time": "2021-11-30T09:17:51.175Z"
   },
   {
    "duration": 3,
    "start_time": "2021-11-30T09:17:55.659Z"
   },
   {
    "duration": 31,
    "start_time": "2021-11-30T09:17:58.173Z"
   },
   {
    "duration": 24,
    "start_time": "2021-11-30T09:18:04.997Z"
   },
   {
    "duration": 31,
    "start_time": "2021-11-30T09:18:25.654Z"
   },
   {
    "duration": 8,
    "start_time": "2021-11-30T09:18:36.250Z"
   },
   {
    "duration": 6,
    "start_time": "2021-11-30T09:18:37.950Z"
   },
   {
    "duration": 573,
    "start_time": "2021-11-30T09:20:02.781Z"
   },
   {
    "duration": 86,
    "start_time": "2021-11-30T09:20:57.115Z"
   },
   {
    "duration": 666,
    "start_time": "2021-11-30T09:21:15.642Z"
   },
   {
    "duration": 37741,
    "start_time": "2021-11-30T09:22:49.248Z"
   },
   {
    "duration": 38264,
    "start_time": "2021-11-30T09:23:35.166Z"
   },
   {
    "duration": 135,
    "start_time": "2021-11-30T09:24:13.433Z"
   },
   {
    "duration": 21,
    "start_time": "2021-11-30T09:24:13.571Z"
   },
   {
    "duration": 20,
    "start_time": "2021-11-30T09:24:13.594Z"
   },
   {
    "duration": 67,
    "start_time": "2021-11-30T09:24:13.616Z"
   },
   {
    "duration": 23,
    "start_time": "2021-11-30T09:24:13.686Z"
   },
   {
    "duration": 14,
    "start_time": "2021-11-30T09:24:13.711Z"
   },
   {
    "duration": 50,
    "start_time": "2021-11-30T09:24:13.728Z"
   },
   {
    "duration": 11,
    "start_time": "2021-11-30T09:24:19.850Z"
   },
   {
    "duration": 9,
    "start_time": "2021-11-30T09:24:21.531Z"
   },
   {
    "duration": 4,
    "start_time": "2021-11-30T09:24:22.124Z"
   },
   {
    "duration": 8,
    "start_time": "2021-11-30T09:24:22.622Z"
   },
   {
    "duration": 12,
    "start_time": "2021-11-30T09:24:23.652Z"
   },
   {
    "duration": 28,
    "start_time": "2021-11-30T09:24:24.631Z"
   },
   {
    "duration": 6,
    "start_time": "2021-11-30T09:24:25.082Z"
   },
   {
    "duration": 12,
    "start_time": "2021-11-30T09:24:25.709Z"
   },
   {
    "duration": 24,
    "start_time": "2021-11-30T09:24:26.666Z"
   },
   {
    "duration": 10,
    "start_time": "2021-11-30T09:24:28.562Z"
   },
   {
    "duration": 11,
    "start_time": "2021-11-30T09:24:29.277Z"
   },
   {
    "duration": 14,
    "start_time": "2021-11-30T09:24:30.375Z"
   },
   {
    "duration": 11,
    "start_time": "2021-11-30T09:24:31.341Z"
   },
   {
    "duration": 6,
    "start_time": "2021-11-30T09:24:33.303Z"
   },
   {
    "duration": 10,
    "start_time": "2021-11-30T09:24:33.597Z"
   },
   {
    "duration": 18,
    "start_time": "2021-11-30T09:24:35.126Z"
   },
   {
    "duration": 4,
    "start_time": "2021-11-30T09:24:37.863Z"
   },
   {
    "duration": 32,
    "start_time": "2021-11-30T09:24:38.351Z"
   },
   {
    "duration": 27,
    "start_time": "2021-11-30T09:24:39.480Z"
   },
   {
    "duration": 24,
    "start_time": "2021-11-30T09:24:46.874Z"
   },
   {
    "duration": 8,
    "start_time": "2021-11-30T09:24:48.681Z"
   },
   {
    "duration": 8,
    "start_time": "2021-11-30T09:24:49.206Z"
   },
   {
    "duration": 38227,
    "start_time": "2021-11-30T09:24:51.978Z"
   },
   {
    "duration": 515,
    "start_time": "2021-11-30T09:25:38.484Z"
   },
   {
    "duration": 574,
    "start_time": "2021-11-30T09:26:45.757Z"
   },
   {
    "duration": 366,
    "start_time": "2021-11-30T09:26:50.865Z"
   },
   {
    "duration": 192,
    "start_time": "2021-11-30T09:27:34.498Z"
   },
   {
    "duration": 333,
    "start_time": "2021-11-30T09:27:44.971Z"
   },
   {
    "duration": 272,
    "start_time": "2021-11-30T09:27:58.111Z"
   },
   {
    "duration": 336,
    "start_time": "2021-11-30T09:28:11.004Z"
   },
   {
    "duration": 704,
    "start_time": "2021-11-30T09:28:35.899Z"
   },
   {
    "duration": 266,
    "start_time": "2021-11-30T09:30:45.992Z"
   },
   {
    "duration": 293,
    "start_time": "2021-11-30T09:31:03.699Z"
   },
   {
    "duration": 306,
    "start_time": "2021-11-30T09:31:17.603Z"
   },
   {
    "duration": 303,
    "start_time": "2021-11-30T09:32:17.422Z"
   },
   {
    "duration": 318,
    "start_time": "2021-11-30T09:42:07.159Z"
   },
   {
    "duration": 619,
    "start_time": "2021-11-30T09:43:42.652Z"
   },
   {
    "duration": 602,
    "start_time": "2021-11-30T09:44:13.396Z"
   },
   {
    "duration": 600,
    "start_time": "2021-11-30T09:44:27.536Z"
   },
   {
    "duration": 587,
    "start_time": "2021-11-30T09:44:57.236Z"
   },
   {
    "duration": 317,
    "start_time": "2021-11-30T09:45:28.085Z"
   },
   {
    "duration": 350,
    "start_time": "2021-11-30T09:46:18.453Z"
   },
   {
    "duration": 311,
    "start_time": "2021-11-30T09:48:28.693Z"
   },
   {
    "duration": 459,
    "start_time": "2021-11-30T09:48:52.092Z"
   },
   {
    "duration": 457,
    "start_time": "2021-11-30T09:49:04.232Z"
   },
   {
    "duration": 367,
    "start_time": "2021-11-30T10:00:38.163Z"
   },
   {
    "duration": 11,
    "start_time": "2021-11-30T10:00:44.675Z"
   },
   {
    "duration": 236,
    "start_time": "2021-11-30T10:01:38.733Z"
   },
   {
    "duration": 90,
    "start_time": "2021-11-30T10:02:06.026Z"
   },
   {
    "duration": 97,
    "start_time": "2021-11-30T10:02:19.033Z"
   },
   {
    "duration": 80,
    "start_time": "2021-11-30T10:03:00.445Z"
   },
   {
    "duration": 94,
    "start_time": "2021-11-30T10:03:08.895Z"
   },
   {
    "duration": 90,
    "start_time": "2021-11-30T10:03:17.883Z"
   },
   {
    "duration": 627,
    "start_time": "2021-11-30T10:03:40.569Z"
   },
   {
    "duration": 418,
    "start_time": "2021-11-30T10:03:49.893Z"
   },
   {
    "duration": 292,
    "start_time": "2021-11-30T10:04:18.183Z"
   },
   {
    "duration": 339,
    "start_time": "2021-11-30T10:04:28.104Z"
   },
   {
    "duration": 8,
    "start_time": "2021-11-30T10:04:40.354Z"
   },
   {
    "duration": 31,
    "start_time": "2021-11-30T10:05:17.954Z"
   },
   {
    "duration": 21,
    "start_time": "2021-11-30T10:05:21.201Z"
   },
   {
    "duration": 659,
    "start_time": "2021-11-30T10:06:17.045Z"
   },
   {
    "duration": 618,
    "start_time": "2021-11-30T10:06:58.465Z"
   },
   {
    "duration": 202,
    "start_time": "2021-11-30T10:07:13.265Z"
   },
   {
    "duration": 188,
    "start_time": "2021-11-30T10:08:36.233Z"
   },
   {
    "duration": 204,
    "start_time": "2021-11-30T10:08:48.418Z"
   },
   {
    "duration": 449,
    "start_time": "2021-11-30T10:11:36.563Z"
   },
   {
    "duration": 214,
    "start_time": "2021-11-30T10:12:04.608Z"
   },
   {
    "duration": 21,
    "start_time": "2021-11-30T10:12:45.903Z"
   },
   {
    "duration": 13,
    "start_time": "2021-11-30T10:12:46.881Z"
   },
   {
    "duration": 274,
    "start_time": "2021-11-30T10:12:48.499Z"
   },
   {
    "duration": 30,
    "start_time": "2021-11-30T10:13:28.565Z"
   },
   {
    "duration": 26,
    "start_time": "2021-11-30T10:13:30.473Z"
   },
   {
    "duration": 33,
    "start_time": "2021-11-30T10:13:56.492Z"
   },
   {
    "duration": 27,
    "start_time": "2021-11-30T10:14:08.391Z"
   },
   {
    "duration": 5,
    "start_time": "2021-11-30T10:14:10.642Z"
   },
   {
    "duration": 5,
    "start_time": "2021-11-30T10:14:12.918Z"
   },
   {
    "duration": 9,
    "start_time": "2021-11-30T10:14:13.480Z"
   },
   {
    "duration": 6,
    "start_time": "2021-11-30T10:14:13.912Z"
   },
   {
    "duration": 5,
    "start_time": "2021-11-30T10:14:14.538Z"
   },
   {
    "duration": 6,
    "start_time": "2021-11-30T10:14:15.571Z"
   },
   {
    "duration": 27,
    "start_time": "2021-11-30T10:14:23.720Z"
   },
   {
    "duration": 48,
    "start_time": "2021-11-30T10:14:24.587Z"
   },
   {
    "duration": 19,
    "start_time": "2021-11-30T10:14:36.036Z"
   },
   {
    "duration": 7,
    "start_time": "2021-11-30T10:14:40.942Z"
   },
   {
    "duration": 9,
    "start_time": "2021-11-30T10:14:41.536Z"
   },
   {
    "duration": 9,
    "start_time": "2021-11-30T10:14:42.227Z"
   },
   {
    "duration": 864,
    "start_time": "2021-11-30T15:47:43.118Z"
   },
   {
    "duration": 19,
    "start_time": "2021-11-30T15:47:43.985Z"
   },
   {
    "duration": 21,
    "start_time": "2021-11-30T15:47:44.009Z"
   },
   {
    "duration": 25,
    "start_time": "2021-11-30T15:47:44.032Z"
   },
   {
    "duration": 50,
    "start_time": "2021-11-30T15:47:44.059Z"
   },
   {
    "duration": 12,
    "start_time": "2021-11-30T15:47:44.111Z"
   },
   {
    "duration": 16,
    "start_time": "2021-11-30T15:47:44.126Z"
   },
   {
    "duration": 10,
    "start_time": "2021-11-30T15:47:44.145Z"
   },
   {
    "duration": 14,
    "start_time": "2021-11-30T15:47:44.156Z"
   },
   {
    "duration": 4,
    "start_time": "2021-11-30T15:47:44.172Z"
   },
   {
    "duration": 11,
    "start_time": "2021-11-30T15:47:44.207Z"
   },
   {
    "duration": 14,
    "start_time": "2021-11-30T15:47:44.220Z"
   },
   {
    "duration": 27,
    "start_time": "2021-11-30T15:47:44.236Z"
   },
   {
    "duration": 6,
    "start_time": "2021-11-30T15:47:44.266Z"
   },
   {
    "duration": 13,
    "start_time": "2021-11-30T15:47:44.306Z"
   },
   {
    "duration": 16,
    "start_time": "2021-11-30T15:47:44.321Z"
   },
   {
    "duration": 20,
    "start_time": "2021-11-30T15:47:44.339Z"
   },
   {
    "duration": 15,
    "start_time": "2021-11-30T15:47:44.360Z"
   },
   {
    "duration": 29,
    "start_time": "2021-11-30T15:47:44.377Z"
   },
   {
    "duration": 9,
    "start_time": "2021-11-30T15:47:44.408Z"
   },
   {
    "duration": 6,
    "start_time": "2021-11-30T15:47:44.419Z"
   },
   {
    "duration": 12,
    "start_time": "2021-11-30T15:47:44.430Z"
   },
   {
    "duration": 16,
    "start_time": "2021-11-30T15:47:44.444Z"
   },
   {
    "duration": 3,
    "start_time": "2021-11-30T15:47:44.462Z"
   },
   {
    "duration": 63,
    "start_time": "2021-11-30T15:47:44.466Z"
   },
   {
    "duration": 24,
    "start_time": "2021-11-30T15:47:44.531Z"
   },
   {
    "duration": 8,
    "start_time": "2021-11-30T15:47:44.556Z"
   },
   {
    "duration": 38,
    "start_time": "2021-11-30T15:47:44.566Z"
   },
   {
    "duration": 293,
    "start_time": "2021-11-30T15:47:44.606Z"
   },
   {
    "duration": 7,
    "start_time": "2021-11-30T15:47:44.900Z"
   },
   {
    "duration": 229,
    "start_time": "2021-11-30T15:47:44.909Z"
   },
   {
    "duration": 19,
    "start_time": "2021-11-30T15:47:45.139Z"
   },
   {
    "duration": 12,
    "start_time": "2021-11-30T15:47:45.160Z"
   },
   {
    "duration": 217,
    "start_time": "2021-11-30T15:47:45.173Z"
   },
   {
    "duration": 28,
    "start_time": "2021-11-30T15:47:45.392Z"
   },
   {
    "duration": 19,
    "start_time": "2021-11-30T15:47:45.422Z"
   },
   {
    "duration": 21,
    "start_time": "2021-11-30T15:47:45.443Z"
   },
   {
    "duration": 13,
    "start_time": "2021-11-30T15:47:45.466Z"
   },
   {
    "duration": 29,
    "start_time": "2021-11-30T15:47:45.481Z"
   },
   {
    "duration": 7,
    "start_time": "2021-11-30T15:47:45.512Z"
   },
   {
    "duration": 46,
    "start_time": "2021-11-30T15:47:45.521Z"
   },
   {
    "duration": 10,
    "start_time": "2021-11-30T15:47:45.569Z"
   },
   {
    "duration": 28,
    "start_time": "2021-11-30T15:47:45.581Z"
   },
   {
    "duration": 52,
    "start_time": "2021-11-30T15:47:45.611Z"
   },
   {
    "duration": 26,
    "start_time": "2021-11-30T15:47:45.666Z"
   },
   {
    "duration": 16,
    "start_time": "2021-11-30T15:47:45.694Z"
   },
   {
    "duration": 16,
    "start_time": "2021-11-30T15:47:45.712Z"
   },
   {
    "duration": 21,
    "start_time": "2021-11-30T15:47:45.730Z"
   },
   {
    "duration": 971,
    "start_time": "2022-11-28T09:15:49.259Z"
   }
  ],
  "colab": {
   "name": "DA+. Сборный проект 1. Шаблон (1).ipynb",
   "provenance": []
  },
  "kernelspec": {
   "display_name": "Python 3 (ipykernel)",
   "language": "python",
   "name": "python3"
  },
  "language_info": {
   "codemirror_mode": {
    "name": "ipython",
    "version": 3
   },
   "file_extension": ".py",
   "mimetype": "text/x-python",
   "name": "python",
   "nbconvert_exporter": "python",
   "pygments_lexer": "ipython3",
   "version": "3.9.5"
  },
  "toc": {
   "base_numbering": 1,
   "nav_menu": {},
   "number_sections": true,
   "sideBar": true,
   "skip_h1_title": true,
   "title_cell": "Table of Contents",
   "title_sidebar": "Contents",
   "toc_cell": false,
   "toc_position": {
    "height": "calc(100% - 180px)",
    "left": "10px",
    "top": "150px",
    "width": "375.391px"
   },
   "toc_section_display": true,
   "toc_window_display": true
  }
 },
 "nbformat": 4,
 "nbformat_minor": 1
}
